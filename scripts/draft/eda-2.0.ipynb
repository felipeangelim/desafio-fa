{
 "cells": [
  {
   "cell_type": "code",
   "execution_count": 1,
   "id": "ee4d9d35-5517-4662-8adb-a3a522cfc91b",
   "metadata": {},
   "outputs": [],
   "source": [
    "import statsmodels as sm\n",
    "import pandas as pd\n",
    "import numpy as np\n",
    "import seaborn as sns\n",
    "import matplotlib.pyplot as plt\n",
    "import plotly.express as px\n",
    "\n",
    "sns.set_theme(style=\"darkgrid\")"
   ]
  },
  {
   "cell_type": "code",
   "execution_count": 2,
   "id": "1ccc3a43-a4f5-4a87-b6ca-4d4819d84411",
   "metadata": {},
   "outputs": [],
   "source": [
    "comp_prices_df = pd.read_csv(\"../data/comp_prices.csv\")\n",
    "sales_df = pd.read_csv(\"../data/sales.csv\")\n"
   ]
  },
  {
   "cell_type": "code",
   "execution_count": 3,
   "id": "0dc1c0da-3cc9-4c7b-adb6-2d3ca0294e8d",
   "metadata": {},
   "outputs": [
    {
     "data": {
      "text/html": [
       "<div>\n",
       "<style scoped>\n",
       "    .dataframe tbody tr th:only-of-type {\n",
       "        vertical-align: middle;\n",
       "    }\n",
       "\n",
       "    .dataframe tbody tr th {\n",
       "        vertical-align: top;\n",
       "    }\n",
       "\n",
       "    .dataframe thead th {\n",
       "        text-align: right;\n",
       "    }\n",
       "</style>\n",
       "<table border=\"1\" class=\"dataframe\">\n",
       "  <thead>\n",
       "    <tr style=\"text-align: right;\">\n",
       "      <th></th>\n",
       "      <th>prod_id</th>\n",
       "      <th>date_extraction</th>\n",
       "      <th>competitor</th>\n",
       "      <th>competitor_price</th>\n",
       "      <th>pay_type</th>\n",
       "      <th>date</th>\n",
       "    </tr>\n",
       "  </thead>\n",
       "  <tbody>\n",
       "    <tr>\n",
       "      <th>0</th>\n",
       "      <td>P6</td>\n",
       "      <td>2015-01-30 08:11:38</td>\n",
       "      <td>C3</td>\n",
       "      <td>1898.00</td>\n",
       "      <td>1</td>\n",
       "      <td>2015-01-30</td>\n",
       "    </tr>\n",
       "    <tr>\n",
       "      <th>1</th>\n",
       "      <td>P6</td>\n",
       "      <td>2015-01-30 08:11:38</td>\n",
       "      <td>C1</td>\n",
       "      <td>1898.00</td>\n",
       "      <td>1</td>\n",
       "      <td>2015-01-30</td>\n",
       "    </tr>\n",
       "    <tr>\n",
       "      <th>2</th>\n",
       "      <td>P6</td>\n",
       "      <td>2015-01-30 08:11:38</td>\n",
       "      <td>C6</td>\n",
       "      <td>1999.90</td>\n",
       "      <td>1</td>\n",
       "      <td>2015-01-30</td>\n",
       "    </tr>\n",
       "    <tr>\n",
       "      <th>3</th>\n",
       "      <td>P6</td>\n",
       "      <td>2015-01-31 20:10:14</td>\n",
       "      <td>C2</td>\n",
       "      <td>1894.88</td>\n",
       "      <td>2</td>\n",
       "      <td>2015-01-31</td>\n",
       "    </tr>\n",
       "    <tr>\n",
       "      <th>4</th>\n",
       "      <td>P6</td>\n",
       "      <td>2015-01-31 20:10:14</td>\n",
       "      <td>C3</td>\n",
       "      <td>1894.88</td>\n",
       "      <td>2</td>\n",
       "      <td>2015-01-31</td>\n",
       "    </tr>\n",
       "    <tr>\n",
       "      <th>...</th>\n",
       "      <td>...</td>\n",
       "      <td>...</td>\n",
       "      <td>...</td>\n",
       "      <td>...</td>\n",
       "      <td>...</td>\n",
       "      <td>...</td>\n",
       "    </tr>\n",
       "    <tr>\n",
       "      <th>50109</th>\n",
       "      <td>P5</td>\n",
       "      <td>2015-10-11 20:10:34</td>\n",
       "      <td>C1</td>\n",
       "      <td>819.00</td>\n",
       "      <td>2</td>\n",
       "      <td>2015-10-11</td>\n",
       "    </tr>\n",
       "    <tr>\n",
       "      <th>50110</th>\n",
       "      <td>P5</td>\n",
       "      <td>2015-10-11 20:10:34</td>\n",
       "      <td>C2</td>\n",
       "      <td>853.52</td>\n",
       "      <td>2</td>\n",
       "      <td>2015-10-11</td>\n",
       "    </tr>\n",
       "    <tr>\n",
       "      <th>50111</th>\n",
       "      <td>P5</td>\n",
       "      <td>2015-10-12 08:11:27</td>\n",
       "      <td>C2</td>\n",
       "      <td>853.52</td>\n",
       "      <td>1</td>\n",
       "      <td>2015-10-12</td>\n",
       "    </tr>\n",
       "    <tr>\n",
       "      <th>50112</th>\n",
       "      <td>P5</td>\n",
       "      <td>2015-10-12 08:11:27</td>\n",
       "      <td>C3</td>\n",
       "      <td>819.00</td>\n",
       "      <td>1</td>\n",
       "      <td>2015-10-12</td>\n",
       "    </tr>\n",
       "    <tr>\n",
       "      <th>50113</th>\n",
       "      <td>P5</td>\n",
       "      <td>2015-10-12 08:11:27</td>\n",
       "      <td>C1</td>\n",
       "      <td>819.00</td>\n",
       "      <td>1</td>\n",
       "      <td>2015-10-12</td>\n",
       "    </tr>\n",
       "  </tbody>\n",
       "</table>\n",
       "<p>50114 rows × 6 columns</p>\n",
       "</div>"
      ],
      "text/plain": [
       "      prod_id     date_extraction competitor  competitor_price  pay_type  \\\n",
       "0          P6 2015-01-30 08:11:38         C3           1898.00         1   \n",
       "1          P6 2015-01-30 08:11:38         C1           1898.00         1   \n",
       "2          P6 2015-01-30 08:11:38         C6           1999.90         1   \n",
       "3          P6 2015-01-31 20:10:14         C2           1894.88         2   \n",
       "4          P6 2015-01-31 20:10:14         C3           1894.88         2   \n",
       "...       ...                 ...        ...               ...       ...   \n",
       "50109      P5 2015-10-11 20:10:34         C1            819.00         2   \n",
       "50110      P5 2015-10-11 20:10:34         C2            853.52         2   \n",
       "50111      P5 2015-10-12 08:11:27         C2            853.52         1   \n",
       "50112      P5 2015-10-12 08:11:27         C3            819.00         1   \n",
       "50113      P5 2015-10-12 08:11:27         C1            819.00         1   \n",
       "\n",
       "            date  \n",
       "0     2015-01-30  \n",
       "1     2015-01-30  \n",
       "2     2015-01-30  \n",
       "3     2015-01-31  \n",
       "4     2015-01-31  \n",
       "...          ...  \n",
       "50109 2015-10-11  \n",
       "50110 2015-10-11  \n",
       "50111 2015-10-12  \n",
       "50112 2015-10-12  \n",
       "50113 2015-10-12  \n",
       "\n",
       "[50114 rows x 6 columns]"
      ]
     },
     "execution_count": 3,
     "metadata": {},
     "output_type": "execute_result"
    }
   ],
   "source": [
    "comp_prices_df.columns = list(map(str.lower, comp_prices_df.columns))\n",
    "comp_prices_df[\"date_extraction\"] = pd.to_datetime(comp_prices_df[\"date_extraction\"])\n",
    "comp_prices_df[\"date\"] = pd.to_datetime(comp_prices_df[\"date_extraction\"].dt.date)\n",
    "comp_prices_df"
   ]
  },
  {
   "cell_type": "code",
   "execution_count": 4,
   "id": "ba24a7fd-212c-4bec-9c4d-e1f8c5619ec6",
   "metadata": {},
   "outputs": [],
   "source": [
    "sales_df.columns = list(map(str.lower, sales_df.columns))\n",
    "sales_df[\"date_order\"] = pd.to_datetime(sales_df.date_order)\n",
    "sales_df[\"value_per_item\"] = sales_df.revenue/sales_df.qty_order\n",
    "\n",
    "sales_df = sales_df.groupby([\"prod_id\", \"date_order\", \"value_per_item\"]).agg({\"qty_order\" : \"sum\"}).reset_index()\n",
    "\n",
    "day_agg = sales_df.groupby([\"prod_id\", \"date_order\"])\\\n",
    "         .agg({\"qty_order\" : \"sum\"})\\\n",
    "         .rename(columns={\"qty_order\" : \"qty_day\"})\\\n",
    "         .reset_index()\n",
    "\n",
    "sales_df = pd.merge(sales_df,\n",
    "        day_agg,\n",
    "        on=[\"prod_id\", \"date_order\"])\n",
    "\n",
    "sales_df[\"value_per_item\"] = sales_df.qty_order/sales_df.qty_day*sales_df.value_per_item\n",
    "sales_df = sales_df.groupby([\"prod_id\", \"date_order\"]).agg({\"value_per_item\" : \"sum\", \"qty_order\" : \"sum\"}).reset_index()"
   ]
  },
  {
   "cell_type": "code",
   "execution_count": 5,
   "id": "ef2e0e23-7944-4dfc-a737-1e53b940253d",
   "metadata": {},
   "outputs": [
    {
     "data": {
      "text/html": [
       "<div>\n",
       "<style scoped>\n",
       "    .dataframe tbody tr th:only-of-type {\n",
       "        vertical-align: middle;\n",
       "    }\n",
       "\n",
       "    .dataframe tbody tr th {\n",
       "        vertical-align: top;\n",
       "    }\n",
       "\n",
       "    .dataframe thead th {\n",
       "        text-align: right;\n",
       "    }\n",
       "</style>\n",
       "<table border=\"1\" class=\"dataframe\">\n",
       "  <thead>\n",
       "    <tr style=\"text-align: right;\">\n",
       "      <th></th>\n",
       "      <th>prod_id</th>\n",
       "      <th>date</th>\n",
       "      <th>value_per_item</th>\n",
       "      <th>qty_order</th>\n",
       "      <th>min</th>\n",
       "      <th>max</th>\n",
       "      <th>mean</th>\n",
       "      <th>median</th>\n",
       "    </tr>\n",
       "  </thead>\n",
       "  <tbody>\n",
       "    <tr>\n",
       "      <th>0</th>\n",
       "      <td>P1</td>\n",
       "      <td>2015-03-15</td>\n",
       "      <td>1360.768542</td>\n",
       "      <td>48.0</td>\n",
       "      <td>1499.00</td>\n",
       "      <td>1499.0</td>\n",
       "      <td>1499.000000</td>\n",
       "      <td>1499.000</td>\n",
       "    </tr>\n",
       "    <tr>\n",
       "      <th>1</th>\n",
       "      <td>P1</td>\n",
       "      <td>2015-03-16</td>\n",
       "      <td>1402.312500</td>\n",
       "      <td>24.0</td>\n",
       "      <td>1362.50</td>\n",
       "      <td>1499.0</td>\n",
       "      <td>1464.205000</td>\n",
       "      <td>1499.000</td>\n",
       "    </tr>\n",
       "    <tr>\n",
       "      <th>2</th>\n",
       "      <td>P1</td>\n",
       "      <td>2015-03-17</td>\n",
       "      <td>1355.201071</td>\n",
       "      <td>28.0</td>\n",
       "      <td>1362.50</td>\n",
       "      <td>1499.0</td>\n",
       "      <td>1429.792857</td>\n",
       "      <td>1424.050</td>\n",
       "    </tr>\n",
       "    <tr>\n",
       "      <th>3</th>\n",
       "      <td>P1</td>\n",
       "      <td>2015-03-18</td>\n",
       "      <td>1358.555075</td>\n",
       "      <td>67.0</td>\n",
       "      <td>1362.50</td>\n",
       "      <td>1499.0</td>\n",
       "      <td>1441.008333</td>\n",
       "      <td>1461.525</td>\n",
       "    </tr>\n",
       "    <tr>\n",
       "      <th>4</th>\n",
       "      <td>P1</td>\n",
       "      <td>2015-03-19</td>\n",
       "      <td>1355.095217</td>\n",
       "      <td>46.0</td>\n",
       "      <td>1304.13</td>\n",
       "      <td>1499.0</td>\n",
       "      <td>1407.363333</td>\n",
       "      <td>1391.525</td>\n",
       "    </tr>\n",
       "    <tr>\n",
       "      <th>...</th>\n",
       "      <td>...</td>\n",
       "      <td>...</td>\n",
       "      <td>...</td>\n",
       "      <td>...</td>\n",
       "      <td>...</td>\n",
       "      <td>...</td>\n",
       "      <td>...</td>\n",
       "      <td>...</td>\n",
       "    </tr>\n",
       "    <tr>\n",
       "      <th>1916</th>\n",
       "      <td>P9</td>\n",
       "      <td>2015-10-10</td>\n",
       "      <td>391.380233</td>\n",
       "      <td>129.0</td>\n",
       "      <td>395.82</td>\n",
       "      <td>569.0</td>\n",
       "      <td>420.713000</td>\n",
       "      <td>395.850</td>\n",
       "    </tr>\n",
       "    <tr>\n",
       "      <th>1917</th>\n",
       "      <td>P9</td>\n",
       "      <td>2015-10-11</td>\n",
       "      <td>390.586437</td>\n",
       "      <td>87.0</td>\n",
       "      <td>395.78</td>\n",
       "      <td>569.0</td>\n",
       "      <td>420.701000</td>\n",
       "      <td>395.825</td>\n",
       "    </tr>\n",
       "    <tr>\n",
       "      <th>1918</th>\n",
       "      <td>P9</td>\n",
       "      <td>2015-10-12</td>\n",
       "      <td>391.779727</td>\n",
       "      <td>110.0</td>\n",
       "      <td>395.76</td>\n",
       "      <td>569.0</td>\n",
       "      <td>420.673000</td>\n",
       "      <td>395.780</td>\n",
       "    </tr>\n",
       "    <tr>\n",
       "      <th>1919</th>\n",
       "      <td>P9</td>\n",
       "      <td>2015-10-13</td>\n",
       "      <td>380.636555</td>\n",
       "      <td>328.0</td>\n",
       "      <td>393.00</td>\n",
       "      <td>569.0</td>\n",
       "      <td>419.407500</td>\n",
       "      <td>394.000</td>\n",
       "    </tr>\n",
       "    <tr>\n",
       "      <th>1920</th>\n",
       "      <td>P9</td>\n",
       "      <td>2015-10-14</td>\n",
       "      <td>378.316932</td>\n",
       "      <td>590.0</td>\n",
       "      <td>393.00</td>\n",
       "      <td>56900.0</td>\n",
       "      <td>10884.109500</td>\n",
       "      <td>399.990</td>\n",
       "    </tr>\n",
       "  </tbody>\n",
       "</table>\n",
       "<p>1921 rows × 8 columns</p>\n",
       "</div>"
      ],
      "text/plain": [
       "     prod_id       date  value_per_item  qty_order      min      max  \\\n",
       "0         P1 2015-03-15     1360.768542       48.0  1499.00   1499.0   \n",
       "1         P1 2015-03-16     1402.312500       24.0  1362.50   1499.0   \n",
       "2         P1 2015-03-17     1355.201071       28.0  1362.50   1499.0   \n",
       "3         P1 2015-03-18     1358.555075       67.0  1362.50   1499.0   \n",
       "4         P1 2015-03-19     1355.095217       46.0  1304.13   1499.0   \n",
       "...      ...        ...             ...        ...      ...      ...   \n",
       "1916      P9 2015-10-10      391.380233      129.0   395.82    569.0   \n",
       "1917      P9 2015-10-11      390.586437       87.0   395.78    569.0   \n",
       "1918      P9 2015-10-12      391.779727      110.0   395.76    569.0   \n",
       "1919      P9 2015-10-13      380.636555      328.0   393.00    569.0   \n",
       "1920      P9 2015-10-14      378.316932      590.0   393.00  56900.0   \n",
       "\n",
       "              mean    median  \n",
       "0      1499.000000  1499.000  \n",
       "1      1464.205000  1499.000  \n",
       "2      1429.792857  1424.050  \n",
       "3      1441.008333  1461.525  \n",
       "4      1407.363333  1391.525  \n",
       "...            ...       ...  \n",
       "1916    420.713000   395.850  \n",
       "1917    420.701000   395.825  \n",
       "1918    420.673000   395.780  \n",
       "1919    419.407500   394.000  \n",
       "1920  10884.109500   399.990  \n",
       "\n",
       "[1921 rows x 8 columns]"
      ]
     },
     "execution_count": 5,
     "metadata": {},
     "output_type": "execute_result"
    }
   ],
   "source": [
    "all_prices = pd.concat([\n",
    "    comp_prices_df\\\n",
    "    .rename(columns = {\"competitor_price\" : \"price\"})[[\"prod_id\", \"date\", \"price\"]],\n",
    "  #  sales_df[[\"prod_id\", \"date_order\", \"value_per_item\"]].rename(columns={\"value_per_item\" : \"price\",\n",
    "  #                                                                        \"date_order\"     : \"date\"})\n",
    "])\n",
    "\n",
    "df = pd.merge(sales_df.rename(columns={\"date_order\":\"date\"})\\\n",
    "             .groupby([\"prod_id\",\n",
    "                            \"date\",\n",
    "                            \"value_per_item\"])\\\n",
    "             .agg({\"qty_order\" : \"sum\"})\\\n",
    "             .reset_index(),\n",
    "          all_prices.groupby([\"prod_id\",\"date\"])\\\n",
    "              .price.agg([\"min\",\"max\",\"mean\", \"median\"])\\\n",
    "              .reset_index(),\n",
    "         on=[\"date\", \"prod_id\"]\n",
    "          )\n",
    "df"
   ]
  },
  {
   "cell_type": "code",
   "execution_count": 6,
   "id": "72d7461b-5f59-4b81-b43e-667f52b81bd2",
   "metadata": {},
   "outputs": [],
   "source": [
    "day_agg = df.groupby([\"prod_id\", \"date\"])\\\n",
    "         .agg({\"qty_order\" : \"sum\"})\\\n",
    "         .rename(columns={\"qty_order\" : \"qty_day\"})\\\n",
    "         .reset_index()\n",
    "day_agg[\"qty_day_mm\"] = day_agg.groupby([\"prod_id\"]).qty_day.transform(lambda s: s.rolling(14, min_periods=14).median())"
   ]
  },
  {
   "cell_type": "code",
   "execution_count": 11,
   "id": "fc5bf380-bc7c-4df4-af49-9ce3114eab94",
   "metadata": {},
   "outputs": [],
   "source": [
    "df = pd.merge(df,\n",
    "        day_agg,\n",
    "        on=[\"prod_id\", \"date\"])\n",
    "\n",
    "\n",
    "day_agg_shift = day_agg\n",
    "day_agg_shift[\"date\"]  = day_agg_shift[\"date\"].apply(lambda x: x + pd.Timedelta(days=1))\n",
    "day_agg_shift.rename(columns={\"qty_day\": \"qty_day_shift\",\n",
    "                             \"qty_day_mm\": \"qty_day_shift_mm\"}, inplace=True)\n",
    "df = pd.merge(df,\n",
    "              day_agg_shift,\n",
    "        on=[\"prod_id\", \"date\"])\n",
    "df[\"diff_min_pct\"] = (df.value_per_item - df[\"min\"])/df[\"min\"]\n",
    "df[\"diff_mean_pct\"] = (df.value_per_item - df[\"mean\"])/df[\"mean\"]\n",
    "df[\"pct_of_qty_day\"] = df.qty_order / df.qty_day\n",
    "df[\"qty_order_log\"] = np.log(df.qty_order)"
   ]
  },
  {
   "cell_type": "code",
   "execution_count": 12,
   "id": "bcfbfdb4-01b6-44a1-891f-7f8402beeaa1",
   "metadata": {},
   "outputs": [
    {
     "data": {
      "text/html": [
       "<div>\n",
       "<style scoped>\n",
       "    .dataframe tbody tr th:only-of-type {\n",
       "        vertical-align: middle;\n",
       "    }\n",
       "\n",
       "    .dataframe tbody tr th {\n",
       "        vertical-align: top;\n",
       "    }\n",
       "\n",
       "    .dataframe thead th {\n",
       "        text-align: right;\n",
       "    }\n",
       "</style>\n",
       "<table border=\"1\" class=\"dataframe\">\n",
       "  <thead>\n",
       "    <tr style=\"text-align: right;\">\n",
       "      <th></th>\n",
       "      <th>prod_id</th>\n",
       "      <th>date</th>\n",
       "      <th>qty_day_shift</th>\n",
       "      <th>qty_day_shift_mm</th>\n",
       "    </tr>\n",
       "  </thead>\n",
       "  <tbody>\n",
       "    <tr>\n",
       "      <th>0</th>\n",
       "      <td>P1</td>\n",
       "      <td>2015-03-17</td>\n",
       "      <td>48.0</td>\n",
       "      <td>NaN</td>\n",
       "    </tr>\n",
       "    <tr>\n",
       "      <th>1</th>\n",
       "      <td>P1</td>\n",
       "      <td>2015-03-18</td>\n",
       "      <td>24.0</td>\n",
       "      <td>NaN</td>\n",
       "    </tr>\n",
       "    <tr>\n",
       "      <th>2</th>\n",
       "      <td>P1</td>\n",
       "      <td>2015-03-19</td>\n",
       "      <td>28.0</td>\n",
       "      <td>NaN</td>\n",
       "    </tr>\n",
       "    <tr>\n",
       "      <th>3</th>\n",
       "      <td>P1</td>\n",
       "      <td>2015-03-20</td>\n",
       "      <td>67.0</td>\n",
       "      <td>NaN</td>\n",
       "    </tr>\n",
       "    <tr>\n",
       "      <th>4</th>\n",
       "      <td>P1</td>\n",
       "      <td>2015-03-21</td>\n",
       "      <td>46.0</td>\n",
       "      <td>NaN</td>\n",
       "    </tr>\n",
       "    <tr>\n",
       "      <th>...</th>\n",
       "      <td>...</td>\n",
       "      <td>...</td>\n",
       "      <td>...</td>\n",
       "      <td>...</td>\n",
       "    </tr>\n",
       "    <tr>\n",
       "      <th>1916</th>\n",
       "      <td>P9</td>\n",
       "      <td>2015-10-12</td>\n",
       "      <td>129.0</td>\n",
       "      <td>154.5</td>\n",
       "    </tr>\n",
       "    <tr>\n",
       "      <th>1917</th>\n",
       "      <td>P9</td>\n",
       "      <td>2015-10-13</td>\n",
       "      <td>87.0</td>\n",
       "      <td>154.5</td>\n",
       "    </tr>\n",
       "    <tr>\n",
       "      <th>1918</th>\n",
       "      <td>P9</td>\n",
       "      <td>2015-10-14</td>\n",
       "      <td>110.0</td>\n",
       "      <td>134.0</td>\n",
       "    </tr>\n",
       "    <tr>\n",
       "      <th>1919</th>\n",
       "      <td>P9</td>\n",
       "      <td>2015-10-15</td>\n",
       "      <td>328.0</td>\n",
       "      <td>134.0</td>\n",
       "    </tr>\n",
       "    <tr>\n",
       "      <th>1920</th>\n",
       "      <td>P9</td>\n",
       "      <td>2015-10-16</td>\n",
       "      <td>590.0</td>\n",
       "      <td>134.0</td>\n",
       "    </tr>\n",
       "  </tbody>\n",
       "</table>\n",
       "<p>1921 rows × 4 columns</p>\n",
       "</div>"
      ],
      "text/plain": [
       "     prod_id       date  qty_day_shift  qty_day_shift_mm\n",
       "0         P1 2015-03-17           48.0               NaN\n",
       "1         P1 2015-03-18           24.0               NaN\n",
       "2         P1 2015-03-19           28.0               NaN\n",
       "3         P1 2015-03-20           67.0               NaN\n",
       "4         P1 2015-03-21           46.0               NaN\n",
       "...      ...        ...            ...               ...\n",
       "1916      P9 2015-10-12          129.0             154.5\n",
       "1917      P9 2015-10-13           87.0             154.5\n",
       "1918      P9 2015-10-14          110.0             134.0\n",
       "1919      P9 2015-10-15          328.0             134.0\n",
       "1920      P9 2015-10-16          590.0             134.0\n",
       "\n",
       "[1921 rows x 4 columns]"
      ]
     },
     "execution_count": 12,
     "metadata": {},
     "output_type": "execute_result"
    }
   ],
   "source": [
    "day_agg"
   ]
  },
  {
   "cell_type": "code",
   "execution_count": 13,
   "id": "7f96004a-0bfa-4711-8110-0d7724b927dd",
   "metadata": {},
   "outputs": [
    {
     "data": {
      "text/html": [
       "<div>\n",
       "<style scoped>\n",
       "    .dataframe tbody tr th:only-of-type {\n",
       "        vertical-align: middle;\n",
       "    }\n",
       "\n",
       "    .dataframe tbody tr th {\n",
       "        vertical-align: top;\n",
       "    }\n",
       "\n",
       "    .dataframe thead th {\n",
       "        text-align: right;\n",
       "    }\n",
       "</style>\n",
       "<table border=\"1\" class=\"dataframe\">\n",
       "  <thead>\n",
       "    <tr style=\"text-align: right;\">\n",
       "      <th></th>\n",
       "      <th>prod_id</th>\n",
       "      <th>date</th>\n",
       "      <th>value_per_item</th>\n",
       "      <th>qty_order</th>\n",
       "      <th>min</th>\n",
       "      <th>max</th>\n",
       "      <th>mean</th>\n",
       "      <th>median</th>\n",
       "      <th>qty_day</th>\n",
       "      <th>qty_day_mm</th>\n",
       "      <th>qty_day_shift_x</th>\n",
       "      <th>qty_day_shift_mm_x</th>\n",
       "      <th>diff_min_pct</th>\n",
       "      <th>diff_mean_pct</th>\n",
       "      <th>pct_of_qty_day</th>\n",
       "      <th>qty_day_shift_y</th>\n",
       "      <th>qty_day_shift_mm_y</th>\n",
       "      <th>qty_day_shift</th>\n",
       "      <th>qty_day_shift_mm</th>\n",
       "      <th>qty_order_log</th>\n",
       "    </tr>\n",
       "  </thead>\n",
       "  <tbody>\n",
       "    <tr>\n",
       "      <th>0</th>\n",
       "      <td>P1</td>\n",
       "      <td>2015-03-17</td>\n",
       "      <td>1355.201071</td>\n",
       "      <td>28.0</td>\n",
       "      <td>1362.50</td>\n",
       "      <td>1499.0</td>\n",
       "      <td>1429.792857</td>\n",
       "      <td>1424.050</td>\n",
       "      <td>28.0</td>\n",
       "      <td>NaN</td>\n",
       "      <td>24.0</td>\n",
       "      <td>NaN</td>\n",
       "      <td>-0.005357</td>\n",
       "      <td>-0.052170</td>\n",
       "      <td>1.0</td>\n",
       "      <td>24.0</td>\n",
       "      <td>NaN</td>\n",
       "      <td>48.0</td>\n",
       "      <td>NaN</td>\n",
       "      <td>3.332205</td>\n",
       "    </tr>\n",
       "    <tr>\n",
       "      <th>1</th>\n",
       "      <td>P1</td>\n",
       "      <td>2015-03-18</td>\n",
       "      <td>1358.555075</td>\n",
       "      <td>67.0</td>\n",
       "      <td>1362.50</td>\n",
       "      <td>1499.0</td>\n",
       "      <td>1441.008333</td>\n",
       "      <td>1461.525</td>\n",
       "      <td>67.0</td>\n",
       "      <td>NaN</td>\n",
       "      <td>28.0</td>\n",
       "      <td>NaN</td>\n",
       "      <td>-0.002895</td>\n",
       "      <td>-0.057219</td>\n",
       "      <td>1.0</td>\n",
       "      <td>28.0</td>\n",
       "      <td>NaN</td>\n",
       "      <td>24.0</td>\n",
       "      <td>NaN</td>\n",
       "      <td>4.204693</td>\n",
       "    </tr>\n",
       "    <tr>\n",
       "      <th>2</th>\n",
       "      <td>P1</td>\n",
       "      <td>2015-03-19</td>\n",
       "      <td>1355.095217</td>\n",
       "      <td>46.0</td>\n",
       "      <td>1304.13</td>\n",
       "      <td>1499.0</td>\n",
       "      <td>1407.363333</td>\n",
       "      <td>1391.525</td>\n",
       "      <td>46.0</td>\n",
       "      <td>NaN</td>\n",
       "      <td>67.0</td>\n",
       "      <td>NaN</td>\n",
       "      <td>0.039080</td>\n",
       "      <td>-0.037139</td>\n",
       "      <td>1.0</td>\n",
       "      <td>67.0</td>\n",
       "      <td>NaN</td>\n",
       "      <td>28.0</td>\n",
       "      <td>NaN</td>\n",
       "      <td>3.828641</td>\n",
       "    </tr>\n",
       "    <tr>\n",
       "      <th>3</th>\n",
       "      <td>P1</td>\n",
       "      <td>2015-03-20</td>\n",
       "      <td>1384.065789</td>\n",
       "      <td>19.0</td>\n",
       "      <td>1304.13</td>\n",
       "      <td>1499.0</td>\n",
       "      <td>1439.727143</td>\n",
       "      <td>1499.000</td>\n",
       "      <td>19.0</td>\n",
       "      <td>NaN</td>\n",
       "      <td>46.0</td>\n",
       "      <td>NaN</td>\n",
       "      <td>0.061294</td>\n",
       "      <td>-0.038661</td>\n",
       "      <td>1.0</td>\n",
       "      <td>46.0</td>\n",
       "      <td>NaN</td>\n",
       "      <td>67.0</td>\n",
       "      <td>NaN</td>\n",
       "      <td>2.944439</td>\n",
       "    </tr>\n",
       "    <tr>\n",
       "      <th>4</th>\n",
       "      <td>P1</td>\n",
       "      <td>2015-03-21</td>\n",
       "      <td>1424.504167</td>\n",
       "      <td>12.0</td>\n",
       "      <td>1359.00</td>\n",
       "      <td>1499.0</td>\n",
       "      <td>1439.841667</td>\n",
       "      <td>1461.525</td>\n",
       "      <td>12.0</td>\n",
       "      <td>NaN</td>\n",
       "      <td>19.0</td>\n",
       "      <td>NaN</td>\n",
       "      <td>0.048200</td>\n",
       "      <td>-0.010652</td>\n",
       "      <td>1.0</td>\n",
       "      <td>19.0</td>\n",
       "      <td>NaN</td>\n",
       "      <td>46.0</td>\n",
       "      <td>NaN</td>\n",
       "      <td>2.484907</td>\n",
       "    </tr>\n",
       "    <tr>\n",
       "      <th>...</th>\n",
       "      <td>...</td>\n",
       "      <td>...</td>\n",
       "      <td>...</td>\n",
       "      <td>...</td>\n",
       "      <td>...</td>\n",
       "      <td>...</td>\n",
       "      <td>...</td>\n",
       "      <td>...</td>\n",
       "      <td>...</td>\n",
       "      <td>...</td>\n",
       "      <td>...</td>\n",
       "      <td>...</td>\n",
       "      <td>...</td>\n",
       "      <td>...</td>\n",
       "      <td>...</td>\n",
       "      <td>...</td>\n",
       "      <td>...</td>\n",
       "      <td>...</td>\n",
       "      <td>...</td>\n",
       "      <td>...</td>\n",
       "    </tr>\n",
       "    <tr>\n",
       "      <th>1858</th>\n",
       "      <td>P9</td>\n",
       "      <td>2015-10-10</td>\n",
       "      <td>391.380233</td>\n",
       "      <td>129.0</td>\n",
       "      <td>395.82</td>\n",
       "      <td>569.0</td>\n",
       "      <td>420.713000</td>\n",
       "      <td>395.850</td>\n",
       "      <td>129.0</td>\n",
       "      <td>154.5</td>\n",
       "      <td>175.0</td>\n",
       "      <td>154.5</td>\n",
       "      <td>-0.011217</td>\n",
       "      <td>-0.069722</td>\n",
       "      <td>1.0</td>\n",
       "      <td>175.0</td>\n",
       "      <td>154.5</td>\n",
       "      <td>370.0</td>\n",
       "      <td>154.5</td>\n",
       "      <td>4.859812</td>\n",
       "    </tr>\n",
       "    <tr>\n",
       "      <th>1859</th>\n",
       "      <td>P9</td>\n",
       "      <td>2015-10-11</td>\n",
       "      <td>390.586437</td>\n",
       "      <td>87.0</td>\n",
       "      <td>395.78</td>\n",
       "      <td>569.0</td>\n",
       "      <td>420.701000</td>\n",
       "      <td>395.825</td>\n",
       "      <td>87.0</td>\n",
       "      <td>154.5</td>\n",
       "      <td>129.0</td>\n",
       "      <td>154.5</td>\n",
       "      <td>-0.013122</td>\n",
       "      <td>-0.071582</td>\n",
       "      <td>1.0</td>\n",
       "      <td>129.0</td>\n",
       "      <td>154.5</td>\n",
       "      <td>175.0</td>\n",
       "      <td>154.5</td>\n",
       "      <td>4.465908</td>\n",
       "    </tr>\n",
       "    <tr>\n",
       "      <th>1860</th>\n",
       "      <td>P9</td>\n",
       "      <td>2015-10-12</td>\n",
       "      <td>391.779727</td>\n",
       "      <td>110.0</td>\n",
       "      <td>395.76</td>\n",
       "      <td>569.0</td>\n",
       "      <td>420.673000</td>\n",
       "      <td>395.780</td>\n",
       "      <td>110.0</td>\n",
       "      <td>134.0</td>\n",
       "      <td>87.0</td>\n",
       "      <td>154.5</td>\n",
       "      <td>-0.010057</td>\n",
       "      <td>-0.068683</td>\n",
       "      <td>1.0</td>\n",
       "      <td>87.0</td>\n",
       "      <td>154.5</td>\n",
       "      <td>129.0</td>\n",
       "      <td>154.5</td>\n",
       "      <td>4.700480</td>\n",
       "    </tr>\n",
       "    <tr>\n",
       "      <th>1861</th>\n",
       "      <td>P9</td>\n",
       "      <td>2015-10-13</td>\n",
       "      <td>380.636555</td>\n",
       "      <td>328.0</td>\n",
       "      <td>393.00</td>\n",
       "      <td>569.0</td>\n",
       "      <td>419.407500</td>\n",
       "      <td>394.000</td>\n",
       "      <td>328.0</td>\n",
       "      <td>134.0</td>\n",
       "      <td>110.0</td>\n",
       "      <td>134.0</td>\n",
       "      <td>-0.031459</td>\n",
       "      <td>-0.092442</td>\n",
       "      <td>1.0</td>\n",
       "      <td>110.0</td>\n",
       "      <td>134.0</td>\n",
       "      <td>87.0</td>\n",
       "      <td>154.5</td>\n",
       "      <td>5.793014</td>\n",
       "    </tr>\n",
       "    <tr>\n",
       "      <th>1862</th>\n",
       "      <td>P9</td>\n",
       "      <td>2015-10-14</td>\n",
       "      <td>378.316932</td>\n",
       "      <td>590.0</td>\n",
       "      <td>393.00</td>\n",
       "      <td>56900.0</td>\n",
       "      <td>10884.109500</td>\n",
       "      <td>399.990</td>\n",
       "      <td>590.0</td>\n",
       "      <td>134.0</td>\n",
       "      <td>328.0</td>\n",
       "      <td>134.0</td>\n",
       "      <td>-0.037361</td>\n",
       "      <td>-0.965241</td>\n",
       "      <td>1.0</td>\n",
       "      <td>328.0</td>\n",
       "      <td>134.0</td>\n",
       "      <td>110.0</td>\n",
       "      <td>134.0</td>\n",
       "      <td>6.380123</td>\n",
       "    </tr>\n",
       "  </tbody>\n",
       "</table>\n",
       "<p>1863 rows × 20 columns</p>\n",
       "</div>"
      ],
      "text/plain": [
       "     prod_id       date  value_per_item  qty_order      min      max  \\\n",
       "0         P1 2015-03-17     1355.201071       28.0  1362.50   1499.0   \n",
       "1         P1 2015-03-18     1358.555075       67.0  1362.50   1499.0   \n",
       "2         P1 2015-03-19     1355.095217       46.0  1304.13   1499.0   \n",
       "3         P1 2015-03-20     1384.065789       19.0  1304.13   1499.0   \n",
       "4         P1 2015-03-21     1424.504167       12.0  1359.00   1499.0   \n",
       "...      ...        ...             ...        ...      ...      ...   \n",
       "1858      P9 2015-10-10      391.380233      129.0   395.82    569.0   \n",
       "1859      P9 2015-10-11      390.586437       87.0   395.78    569.0   \n",
       "1860      P9 2015-10-12      391.779727      110.0   395.76    569.0   \n",
       "1861      P9 2015-10-13      380.636555      328.0   393.00    569.0   \n",
       "1862      P9 2015-10-14      378.316932      590.0   393.00  56900.0   \n",
       "\n",
       "              mean    median  qty_day  qty_day_mm  qty_day_shift_x  \\\n",
       "0      1429.792857  1424.050     28.0         NaN             24.0   \n",
       "1      1441.008333  1461.525     67.0         NaN             28.0   \n",
       "2      1407.363333  1391.525     46.0         NaN             67.0   \n",
       "3      1439.727143  1499.000     19.0         NaN             46.0   \n",
       "4      1439.841667  1461.525     12.0         NaN             19.0   \n",
       "...            ...       ...      ...         ...              ...   \n",
       "1858    420.713000   395.850    129.0       154.5            175.0   \n",
       "1859    420.701000   395.825     87.0       154.5            129.0   \n",
       "1860    420.673000   395.780    110.0       134.0             87.0   \n",
       "1861    419.407500   394.000    328.0       134.0            110.0   \n",
       "1862  10884.109500   399.990    590.0       134.0            328.0   \n",
       "\n",
       "      qty_day_shift_mm_x  diff_min_pct  diff_mean_pct  pct_of_qty_day  \\\n",
       "0                    NaN     -0.005357      -0.052170             1.0   \n",
       "1                    NaN     -0.002895      -0.057219             1.0   \n",
       "2                    NaN      0.039080      -0.037139             1.0   \n",
       "3                    NaN      0.061294      -0.038661             1.0   \n",
       "4                    NaN      0.048200      -0.010652             1.0   \n",
       "...                  ...           ...            ...             ...   \n",
       "1858               154.5     -0.011217      -0.069722             1.0   \n",
       "1859               154.5     -0.013122      -0.071582             1.0   \n",
       "1860               154.5     -0.010057      -0.068683             1.0   \n",
       "1861               134.0     -0.031459      -0.092442             1.0   \n",
       "1862               134.0     -0.037361      -0.965241             1.0   \n",
       "\n",
       "      qty_day_shift_y  qty_day_shift_mm_y  qty_day_shift  qty_day_shift_mm  \\\n",
       "0                24.0                 NaN           48.0               NaN   \n",
       "1                28.0                 NaN           24.0               NaN   \n",
       "2                67.0                 NaN           28.0               NaN   \n",
       "3                46.0                 NaN           67.0               NaN   \n",
       "4                19.0                 NaN           46.0               NaN   \n",
       "...               ...                 ...            ...               ...   \n",
       "1858            175.0               154.5          370.0             154.5   \n",
       "1859            129.0               154.5          175.0             154.5   \n",
       "1860             87.0               154.5          129.0             154.5   \n",
       "1861            110.0               134.0           87.0             154.5   \n",
       "1862            328.0               134.0          110.0             134.0   \n",
       "\n",
       "      qty_order_log  \n",
       "0          3.332205  \n",
       "1          4.204693  \n",
       "2          3.828641  \n",
       "3          2.944439  \n",
       "4          2.484907  \n",
       "...             ...  \n",
       "1858       4.859812  \n",
       "1859       4.465908  \n",
       "1860       4.700480  \n",
       "1861       5.793014  \n",
       "1862       6.380123  \n",
       "\n",
       "[1863 rows x 20 columns]"
      ]
     },
     "execution_count": 13,
     "metadata": {},
     "output_type": "execute_result"
    }
   ],
   "source": [
    "df"
   ]
  },
  {
   "cell_type": "code",
   "execution_count": 14,
   "id": "c4767ebb-7c40-45e8-8d5e-81af6f7701ba",
   "metadata": {},
   "outputs": [
    {
     "data": {
      "application/vnd.plotly.v1+json": {
       "config": {
        "plotlyServerURL": "https://plot.ly"
       },
       "data": [
        {
         "hovertemplate": "prod_id=P9<br>date=%{x}<br>qty_order=%{y}<extra></extra>",
         "legendgroup": "P9",
         "marker": {
          "color": "#636efa",
          "symbol": "circle"
         },
         "mode": "markers",
         "name": "P9",
         "orientation": "v",
         "showlegend": true,
         "type": "scatter",
         "x": [
          "2015-05-06T00:00:00",
          "2015-05-07T00:00:00",
          "2015-05-08T00:00:00",
          "2015-05-10T00:00:00",
          "2015-05-11T00:00:00",
          "2015-05-12T00:00:00",
          "2015-05-13T00:00:00",
          "2015-05-14T00:00:00",
          "2015-05-16T00:00:00",
          "2015-05-27T00:00:00",
          "2015-05-28T00:00:00",
          "2015-05-29T00:00:00",
          "2015-05-30T00:00:00",
          "2015-05-31T00:00:00",
          "2015-06-01T00:00:00",
          "2015-07-09T00:00:00",
          "2015-07-19T00:00:00",
          "2015-07-20T00:00:00",
          "2015-07-21T00:00:00",
          "2015-07-22T00:00:00",
          "2015-07-27T00:00:00",
          "2015-08-06T00:00:00",
          "2015-08-07T00:00:00",
          "2015-08-08T00:00:00",
          "2015-08-10T00:00:00",
          "2015-08-11T00:00:00",
          "2015-08-12T00:00:00",
          "2015-08-15T00:00:00",
          "2015-08-16T00:00:00",
          "2015-08-18T00:00:00",
          "2015-08-19T00:00:00",
          "2015-08-20T00:00:00",
          "2015-08-21T00:00:00",
          "2015-08-22T00:00:00",
          "2015-08-23T00:00:00",
          "2015-08-24T00:00:00",
          "2015-08-25T00:00:00",
          "2015-08-26T00:00:00",
          "2015-08-27T00:00:00",
          "2015-08-28T00:00:00",
          "2015-08-29T00:00:00",
          "2015-08-30T00:00:00",
          "2015-08-31T00:00:00",
          "2015-09-01T00:00:00",
          "2015-09-02T00:00:00",
          "2015-09-04T00:00:00",
          "2015-09-05T00:00:00",
          "2015-09-11T00:00:00",
          "2015-09-12T00:00:00",
          "2015-09-13T00:00:00",
          "2015-09-14T00:00:00",
          "2015-09-15T00:00:00",
          "2015-09-16T00:00:00",
          "2015-09-17T00:00:00",
          "2015-09-18T00:00:00",
          "2015-09-19T00:00:00",
          "2015-09-20T00:00:00",
          "2015-09-21T00:00:00",
          "2015-09-22T00:00:00",
          "2015-09-23T00:00:00",
          "2015-09-25T00:00:00",
          "2015-09-26T00:00:00",
          "2015-09-30T00:00:00",
          "2015-10-01T00:00:00",
          "2015-10-03T00:00:00",
          "2015-10-04T00:00:00",
          "2015-10-05T00:00:00",
          "2015-10-06T00:00:00",
          "2015-10-07T00:00:00",
          "2015-10-08T00:00:00",
          "2015-10-09T00:00:00",
          "2015-10-10T00:00:00",
          "2015-10-11T00:00:00",
          "2015-10-12T00:00:00",
          "2015-10-13T00:00:00",
          "2015-10-14T00:00:00"
         ],
         "xaxis": "x",
         "y": [
          22,
          63,
          21,
          38,
          18,
          43,
          106,
          331,
          144,
          201,
          164,
          95,
          108,
          86,
          65,
          27,
          13,
          10,
          19,
          34,
          45,
          29,
          46,
          242,
          158,
          114,
          42,
          42,
          47,
          759,
          960,
          722,
          901,
          58,
          35,
          224,
          212,
          55,
          107,
          71,
          91,
          63,
          301,
          758,
          839,
          44,
          42,
          47,
          47,
          34,
          65,
          584,
          485,
          149,
          404,
          220,
          541,
          94,
          169,
          541,
          58,
          39,
          513,
          65,
          170,
          84,
          139,
          50,
          259,
          370,
          175,
          129,
          87,
          110,
          328,
          590
         ],
         "yaxis": "y"
        }
       ],
       "layout": {
        "autosize": true,
        "legend": {
         "title": {
          "text": "prod_id"
         },
         "tracegroupgap": 0
        },
        "margin": {
         "t": 60
        },
        "template": {
         "data": {
          "bar": [
           {
            "error_x": {
             "color": "#2a3f5f"
            },
            "error_y": {
             "color": "#2a3f5f"
            },
            "marker": {
             "line": {
              "color": "#E5ECF6",
              "width": 0.5
             },
             "pattern": {
              "fillmode": "overlay",
              "size": 10,
              "solidity": 0.2
             }
            },
            "type": "bar"
           }
          ],
          "barpolar": [
           {
            "marker": {
             "line": {
              "color": "#E5ECF6",
              "width": 0.5
             },
             "pattern": {
              "fillmode": "overlay",
              "size": 10,
              "solidity": 0.2
             }
            },
            "type": "barpolar"
           }
          ],
          "carpet": [
           {
            "aaxis": {
             "endlinecolor": "#2a3f5f",
             "gridcolor": "white",
             "linecolor": "white",
             "minorgridcolor": "white",
             "startlinecolor": "#2a3f5f"
            },
            "baxis": {
             "endlinecolor": "#2a3f5f",
             "gridcolor": "white",
             "linecolor": "white",
             "minorgridcolor": "white",
             "startlinecolor": "#2a3f5f"
            },
            "type": "carpet"
           }
          ],
          "choropleth": [
           {
            "colorbar": {
             "outlinewidth": 0,
             "ticks": ""
            },
            "type": "choropleth"
           }
          ],
          "contour": [
           {
            "colorbar": {
             "outlinewidth": 0,
             "ticks": ""
            },
            "colorscale": [
             [
              0,
              "#0d0887"
             ],
             [
              0.1111111111111111,
              "#46039f"
             ],
             [
              0.2222222222222222,
              "#7201a8"
             ],
             [
              0.3333333333333333,
              "#9c179e"
             ],
             [
              0.4444444444444444,
              "#bd3786"
             ],
             [
              0.5555555555555556,
              "#d8576b"
             ],
             [
              0.6666666666666666,
              "#ed7953"
             ],
             [
              0.7777777777777778,
              "#fb9f3a"
             ],
             [
              0.8888888888888888,
              "#fdca26"
             ],
             [
              1,
              "#f0f921"
             ]
            ],
            "type": "contour"
           }
          ],
          "contourcarpet": [
           {
            "colorbar": {
             "outlinewidth": 0,
             "ticks": ""
            },
            "type": "contourcarpet"
           }
          ],
          "heatmap": [
           {
            "colorbar": {
             "outlinewidth": 0,
             "ticks": ""
            },
            "colorscale": [
             [
              0,
              "#0d0887"
             ],
             [
              0.1111111111111111,
              "#46039f"
             ],
             [
              0.2222222222222222,
              "#7201a8"
             ],
             [
              0.3333333333333333,
              "#9c179e"
             ],
             [
              0.4444444444444444,
              "#bd3786"
             ],
             [
              0.5555555555555556,
              "#d8576b"
             ],
             [
              0.6666666666666666,
              "#ed7953"
             ],
             [
              0.7777777777777778,
              "#fb9f3a"
             ],
             [
              0.8888888888888888,
              "#fdca26"
             ],
             [
              1,
              "#f0f921"
             ]
            ],
            "type": "heatmap"
           }
          ],
          "heatmapgl": [
           {
            "colorbar": {
             "outlinewidth": 0,
             "ticks": ""
            },
            "colorscale": [
             [
              0,
              "#0d0887"
             ],
             [
              0.1111111111111111,
              "#46039f"
             ],
             [
              0.2222222222222222,
              "#7201a8"
             ],
             [
              0.3333333333333333,
              "#9c179e"
             ],
             [
              0.4444444444444444,
              "#bd3786"
             ],
             [
              0.5555555555555556,
              "#d8576b"
             ],
             [
              0.6666666666666666,
              "#ed7953"
             ],
             [
              0.7777777777777778,
              "#fb9f3a"
             ],
             [
              0.8888888888888888,
              "#fdca26"
             ],
             [
              1,
              "#f0f921"
             ]
            ],
            "type": "heatmapgl"
           }
          ],
          "histogram": [
           {
            "marker": {
             "pattern": {
              "fillmode": "overlay",
              "size": 10,
              "solidity": 0.2
             }
            },
            "type": "histogram"
           }
          ],
          "histogram2d": [
           {
            "colorbar": {
             "outlinewidth": 0,
             "ticks": ""
            },
            "colorscale": [
             [
              0,
              "#0d0887"
             ],
             [
              0.1111111111111111,
              "#46039f"
             ],
             [
              0.2222222222222222,
              "#7201a8"
             ],
             [
              0.3333333333333333,
              "#9c179e"
             ],
             [
              0.4444444444444444,
              "#bd3786"
             ],
             [
              0.5555555555555556,
              "#d8576b"
             ],
             [
              0.6666666666666666,
              "#ed7953"
             ],
             [
              0.7777777777777778,
              "#fb9f3a"
             ],
             [
              0.8888888888888888,
              "#fdca26"
             ],
             [
              1,
              "#f0f921"
             ]
            ],
            "type": "histogram2d"
           }
          ],
          "histogram2dcontour": [
           {
            "colorbar": {
             "outlinewidth": 0,
             "ticks": ""
            },
            "colorscale": [
             [
              0,
              "#0d0887"
             ],
             [
              0.1111111111111111,
              "#46039f"
             ],
             [
              0.2222222222222222,
              "#7201a8"
             ],
             [
              0.3333333333333333,
              "#9c179e"
             ],
             [
              0.4444444444444444,
              "#bd3786"
             ],
             [
              0.5555555555555556,
              "#d8576b"
             ],
             [
              0.6666666666666666,
              "#ed7953"
             ],
             [
              0.7777777777777778,
              "#fb9f3a"
             ],
             [
              0.8888888888888888,
              "#fdca26"
             ],
             [
              1,
              "#f0f921"
             ]
            ],
            "type": "histogram2dcontour"
           }
          ],
          "mesh3d": [
           {
            "colorbar": {
             "outlinewidth": 0,
             "ticks": ""
            },
            "type": "mesh3d"
           }
          ],
          "parcoords": [
           {
            "line": {
             "colorbar": {
              "outlinewidth": 0,
              "ticks": ""
             }
            },
            "type": "parcoords"
           }
          ],
          "pie": [
           {
            "automargin": true,
            "type": "pie"
           }
          ],
          "scatter": [
           {
            "marker": {
             "colorbar": {
              "outlinewidth": 0,
              "ticks": ""
             }
            },
            "type": "scatter"
           }
          ],
          "scatter3d": [
           {
            "line": {
             "colorbar": {
              "outlinewidth": 0,
              "ticks": ""
             }
            },
            "marker": {
             "colorbar": {
              "outlinewidth": 0,
              "ticks": ""
             }
            },
            "type": "scatter3d"
           }
          ],
          "scattercarpet": [
           {
            "marker": {
             "colorbar": {
              "outlinewidth": 0,
              "ticks": ""
             }
            },
            "type": "scattercarpet"
           }
          ],
          "scattergeo": [
           {
            "marker": {
             "colorbar": {
              "outlinewidth": 0,
              "ticks": ""
             }
            },
            "type": "scattergeo"
           }
          ],
          "scattergl": [
           {
            "marker": {
             "colorbar": {
              "outlinewidth": 0,
              "ticks": ""
             }
            },
            "type": "scattergl"
           }
          ],
          "scattermapbox": [
           {
            "marker": {
             "colorbar": {
              "outlinewidth": 0,
              "ticks": ""
             }
            },
            "type": "scattermapbox"
           }
          ],
          "scatterpolar": [
           {
            "marker": {
             "colorbar": {
              "outlinewidth": 0,
              "ticks": ""
             }
            },
            "type": "scatterpolar"
           }
          ],
          "scatterpolargl": [
           {
            "marker": {
             "colorbar": {
              "outlinewidth": 0,
              "ticks": ""
             }
            },
            "type": "scatterpolargl"
           }
          ],
          "scatterternary": [
           {
            "marker": {
             "colorbar": {
              "outlinewidth": 0,
              "ticks": ""
             }
            },
            "type": "scatterternary"
           }
          ],
          "surface": [
           {
            "colorbar": {
             "outlinewidth": 0,
             "ticks": ""
            },
            "colorscale": [
             [
              0,
              "#0d0887"
             ],
             [
              0.1111111111111111,
              "#46039f"
             ],
             [
              0.2222222222222222,
              "#7201a8"
             ],
             [
              0.3333333333333333,
              "#9c179e"
             ],
             [
              0.4444444444444444,
              "#bd3786"
             ],
             [
              0.5555555555555556,
              "#d8576b"
             ],
             [
              0.6666666666666666,
              "#ed7953"
             ],
             [
              0.7777777777777778,
              "#fb9f3a"
             ],
             [
              0.8888888888888888,
              "#fdca26"
             ],
             [
              1,
              "#f0f921"
             ]
            ],
            "type": "surface"
           }
          ],
          "table": [
           {
            "cells": {
             "fill": {
              "color": "#EBF0F8"
             },
             "line": {
              "color": "white"
             }
            },
            "header": {
             "fill": {
              "color": "#C8D4E3"
             },
             "line": {
              "color": "white"
             }
            },
            "type": "table"
           }
          ]
         },
         "layout": {
          "annotationdefaults": {
           "arrowcolor": "#2a3f5f",
           "arrowhead": 0,
           "arrowwidth": 1
          },
          "autotypenumbers": "strict",
          "coloraxis": {
           "colorbar": {
            "outlinewidth": 0,
            "ticks": ""
           }
          },
          "colorscale": {
           "diverging": [
            [
             0,
             "#8e0152"
            ],
            [
             0.1,
             "#c51b7d"
            ],
            [
             0.2,
             "#de77ae"
            ],
            [
             0.3,
             "#f1b6da"
            ],
            [
             0.4,
             "#fde0ef"
            ],
            [
             0.5,
             "#f7f7f7"
            ],
            [
             0.6,
             "#e6f5d0"
            ],
            [
             0.7,
             "#b8e186"
            ],
            [
             0.8,
             "#7fbc41"
            ],
            [
             0.9,
             "#4d9221"
            ],
            [
             1,
             "#276419"
            ]
           ],
           "sequential": [
            [
             0,
             "#0d0887"
            ],
            [
             0.1111111111111111,
             "#46039f"
            ],
            [
             0.2222222222222222,
             "#7201a8"
            ],
            [
             0.3333333333333333,
             "#9c179e"
            ],
            [
             0.4444444444444444,
             "#bd3786"
            ],
            [
             0.5555555555555556,
             "#d8576b"
            ],
            [
             0.6666666666666666,
             "#ed7953"
            ],
            [
             0.7777777777777778,
             "#fb9f3a"
            ],
            [
             0.8888888888888888,
             "#fdca26"
            ],
            [
             1,
             "#f0f921"
            ]
           ],
           "sequentialminus": [
            [
             0,
             "#0d0887"
            ],
            [
             0.1111111111111111,
             "#46039f"
            ],
            [
             0.2222222222222222,
             "#7201a8"
            ],
            [
             0.3333333333333333,
             "#9c179e"
            ],
            [
             0.4444444444444444,
             "#bd3786"
            ],
            [
             0.5555555555555556,
             "#d8576b"
            ],
            [
             0.6666666666666666,
             "#ed7953"
            ],
            [
             0.7777777777777778,
             "#fb9f3a"
            ],
            [
             0.8888888888888888,
             "#fdca26"
            ],
            [
             1,
             "#f0f921"
            ]
           ]
          },
          "colorway": [
           "#636efa",
           "#EF553B",
           "#00cc96",
           "#ab63fa",
           "#FFA15A",
           "#19d3f3",
           "#FF6692",
           "#B6E880",
           "#FF97FF",
           "#FECB52"
          ],
          "font": {
           "color": "#2a3f5f"
          },
          "geo": {
           "bgcolor": "white",
           "lakecolor": "white",
           "landcolor": "#E5ECF6",
           "showlakes": true,
           "showland": true,
           "subunitcolor": "white"
          },
          "hoverlabel": {
           "align": "left"
          },
          "hovermode": "closest",
          "mapbox": {
           "style": "light"
          },
          "paper_bgcolor": "white",
          "plot_bgcolor": "#E5ECF6",
          "polar": {
           "angularaxis": {
            "gridcolor": "white",
            "linecolor": "white",
            "ticks": ""
           },
           "bgcolor": "#E5ECF6",
           "radialaxis": {
            "gridcolor": "white",
            "linecolor": "white",
            "ticks": ""
           }
          },
          "scene": {
           "xaxis": {
            "backgroundcolor": "#E5ECF6",
            "gridcolor": "white",
            "gridwidth": 2,
            "linecolor": "white",
            "showbackground": true,
            "ticks": "",
            "zerolinecolor": "white"
           },
           "yaxis": {
            "backgroundcolor": "#E5ECF6",
            "gridcolor": "white",
            "gridwidth": 2,
            "linecolor": "white",
            "showbackground": true,
            "ticks": "",
            "zerolinecolor": "white"
           },
           "zaxis": {
            "backgroundcolor": "#E5ECF6",
            "gridcolor": "white",
            "gridwidth": 2,
            "linecolor": "white",
            "showbackground": true,
            "ticks": "",
            "zerolinecolor": "white"
           }
          },
          "shapedefaults": {
           "line": {
            "color": "#2a3f5f"
           }
          },
          "ternary": {
           "aaxis": {
            "gridcolor": "white",
            "linecolor": "white",
            "ticks": ""
           },
           "baxis": {
            "gridcolor": "white",
            "linecolor": "white",
            "ticks": ""
           },
           "bgcolor": "#E5ECF6",
           "caxis": {
            "gridcolor": "white",
            "linecolor": "white",
            "ticks": ""
           }
          },
          "title": {
           "x": 0.05
          },
          "xaxis": {
           "automargin": true,
           "gridcolor": "white",
           "linecolor": "white",
           "ticks": "",
           "title": {
            "standoff": 15
           },
           "zerolinecolor": "white",
           "zerolinewidth": 2
          },
          "yaxis": {
           "automargin": true,
           "gridcolor": "white",
           "linecolor": "white",
           "ticks": "",
           "title": {
            "standoff": 15
           },
           "zerolinecolor": "white",
           "zerolinewidth": 2
          }
         }
        },
        "xaxis": {
         "anchor": "y",
         "autorange": true,
         "domain": [
          0,
          1
         ],
         "range": [
          "2015-04-25 22:25:09.328",
          "2015-10-24 01:34:50.672"
         ],
         "title": {
          "text": "date"
         },
         "type": "date"
        },
        "yaxis": {
         "anchor": "x",
         "autorange": true,
         "domain": [
          0,
          1
         ],
         "range": [
          -63.55643044619423,
          1033.5564304461943
         ],
         "title": {
          "text": "qty_order"
         },
         "type": "linear"
        }
       }
      },
      "image/png": "[encoded data removed]",
      "text/html": [
       "<div>                            <div id=\"92bbb46f-290a-4f93-baac-40dae7afb698\" class=\"plotly-graph-div\" style=\"height:525px; width:100%;\"></div>            <script type=\"text/javascript\">                require([\"plotly\"], function(Plotly) {                    window.PLOTLYENV=window.PLOTLYENV || {};                                    if (document.getElementById(\"92bbb46f-290a-4f93-baac-40dae7afb698\")) {                    Plotly.newPlot(                        \"92bbb46f-290a-4f93-baac-40dae7afb698\",                        [{\"hovertemplate\":\"prod_id=P9<br>date=%{x}<br>qty_order=%{y}<extra></extra>\",\"legendgroup\":\"P9\",\"marker\":{\"color\":\"#636efa\",\"symbol\":\"circle\"},\"mode\":\"markers\",\"name\":\"P9\",\"orientation\":\"v\",\"showlegend\":true,\"type\":\"scatter\",\"x\":[\"2015-05-06T00:00:00\",\"2015-05-07T00:00:00\",\"2015-05-08T00:00:00\",\"2015-05-10T00:00:00\",\"2015-05-11T00:00:00\",\"2015-05-12T00:00:00\",\"2015-05-13T00:00:00\",\"2015-05-14T00:00:00\",\"2015-05-16T00:00:00\",\"2015-05-27T00:00:00\",\"2015-05-28T00:00:00\",\"2015-05-29T00:00:00\",\"2015-05-30T00:00:00\",\"2015-05-31T00:00:00\",\"2015-06-01T00:00:00\",\"2015-07-09T00:00:00\",\"2015-07-19T00:00:00\",\"2015-07-20T00:00:00\",\"2015-07-21T00:00:00\",\"2015-07-22T00:00:00\",\"2015-07-27T00:00:00\",\"2015-08-06T00:00:00\",\"2015-08-07T00:00:00\",\"2015-08-08T00:00:00\",\"2015-08-10T00:00:00\",\"2015-08-11T00:00:00\",\"2015-08-12T00:00:00\",\"2015-08-15T00:00:00\",\"2015-08-16T00:00:00\",\"2015-08-18T00:00:00\",\"2015-08-19T00:00:00\",\"2015-08-20T00:00:00\",\"2015-08-21T00:00:00\",\"2015-08-22T00:00:00\",\"2015-08-23T00:00:00\",\"2015-08-24T00:00:00\",\"2015-08-25T00:00:00\",\"2015-08-26T00:00:00\",\"2015-08-27T00:00:00\",\"2015-08-28T00:00:00\",\"2015-08-29T00:00:00\",\"2015-08-30T00:00:00\",\"2015-08-31T00:00:00\",\"2015-09-01T00:00:00\",\"2015-09-02T00:00:00\",\"2015-09-04T00:00:00\",\"2015-09-05T00:00:00\",\"2015-09-11T00:00:00\",\"2015-09-12T00:00:00\",\"2015-09-13T00:00:00\",\"2015-09-14T00:00:00\",\"2015-09-15T00:00:00\",\"2015-09-16T00:00:00\",\"2015-09-17T00:00:00\",\"2015-09-18T00:00:00\",\"2015-09-19T00:00:00\",\"2015-09-20T00:00:00\",\"2015-09-21T00:00:00\",\"2015-09-22T00:00:00\",\"2015-09-23T00:00:00\",\"2015-09-25T00:00:00\",\"2015-09-26T00:00:00\",\"2015-09-30T00:00:00\",\"2015-10-01T00:00:00\",\"2015-10-03T00:00:00\",\"2015-10-04T00:00:00\",\"2015-10-05T00:00:00\",\"2015-10-06T00:00:00\",\"2015-10-07T00:00:00\",\"2015-10-08T00:00:00\",\"2015-10-09T00:00:00\",\"2015-10-10T00:00:00\",\"2015-10-11T00:00:00\",\"2015-10-12T00:00:00\",\"2015-10-13T00:00:00\",\"2015-10-14T00:00:00\"],\"xaxis\":\"x\",\"y\":[22.0,63.0,21.0,38.0,18.0,43.0,106.0,331.0,144.0,201.0,164.0,95.0,108.0,86.0,65.0,27.0,13.0,10.0,19.0,34.0,45.0,29.0,46.0,242.0,158.0,114.0,42.0,42.0,47.0,759.0,960.0,722.0,901.0,58.0,35.0,224.0,212.0,55.0,107.0,71.0,91.0,63.0,301.0,758.0,839.0,44.0,42.0,47.0,47.0,34.0,65.0,584.0,485.0,149.0,404.0,220.0,541.0,94.0,169.0,541.0,58.0,39.0,513.0,65.0,170.0,84.0,139.0,50.0,259.0,370.0,175.0,129.0,87.0,110.0,328.0,590.0],\"yaxis\":\"y\"}],                        {\"legend\":{\"title\":{\"text\":\"prod_id\"},\"tracegroupgap\":0},\"margin\":{\"t\":60},\"template\":{\"data\":{\"bar\":[{\"error_x\":{\"color\":\"#2a3f5f\"},\"error_y\":{\"color\":\"#2a3f5f\"},\"marker\":{\"line\":{\"color\":\"#E5ECF6\",\"width\":0.5},\"pattern\":{\"fillmode\":\"overlay\",\"size\":10,\"solidity\":0.2}},\"type\":\"bar\"}],\"barpolar\":[{\"marker\":{\"line\":{\"color\":\"#E5ECF6\",\"width\":0.5},\"pattern\":{\"fillmode\":\"overlay\",\"size\":10,\"solidity\":0.2}},\"type\":\"barpolar\"}],\"carpet\":[{\"aaxis\":{\"endlinecolor\":\"#2a3f5f\",\"gridcolor\":\"white\",\"linecolor\":\"white\",\"minorgridcolor\":\"white\",\"startlinecolor\":\"#2a3f5f\"},\"baxis\":{\"endlinecolor\":\"#2a3f5f\",\"gridcolor\":\"white\",\"linecolor\":\"white\",\"minorgridcolor\":\"white\",\"startlinecolor\":\"#2a3f5f\"},\"type\":\"carpet\"}],\"choropleth\":[{\"colorbar\":{\"outlinewidth\":0,\"ticks\":\"\"},\"type\":\"choropleth\"}],\"contour\":[{\"colorbar\":{\"outlinewidth\":0,\"ticks\":\"\"},\"colorscale\":[[0.0,\"#0d0887\"],[0.1111111111111111,\"#46039f\"],[0.2222222222222222,\"#7201a8\"],[0.3333333333333333,\"#9c179e\"],[0.4444444444444444,\"#bd3786\"],[0.5555555555555556,\"#d8576b\"],[0.6666666666666666,\"#ed7953\"],[0.7777777777777778,\"#fb9f3a\"],[0.8888888888888888,\"#fdca26\"],[1.0,\"#f0f921\"]],\"type\":\"contour\"}],\"contourcarpet\":[{\"colorbar\":{\"outlinewidth\":0,\"ticks\":\"\"},\"type\":\"contourcarpet\"}],\"heatmap\":[{\"colorbar\":{\"outlinewidth\":0,\"ticks\":\"\"},\"colorscale\":[[0.0,\"#0d0887\"],[0.1111111111111111,\"#46039f\"],[0.2222222222222222,\"#7201a8\"],[0.3333333333333333,\"#9c179e\"],[0.4444444444444444,\"#bd3786\"],[0.5555555555555556,\"#d8576b\"],[0.6666666666666666,\"#ed7953\"],[0.7777777777777778,\"#fb9f3a\"],[0.8888888888888888,\"#fdca26\"],[1.0,\"#f0f921\"]],\"type\":\"heatmap\"}],\"heatmapgl\":[{\"colorbar\":{\"outlinewidth\":0,\"ticks\":\"\"},\"colorscale\":[[0.0,\"#0d0887\"],[0.1111111111111111,\"#46039f\"],[0.2222222222222222,\"#7201a8\"],[0.3333333333333333,\"#9c179e\"],[0.4444444444444444,\"#bd3786\"],[0.5555555555555556,\"#d8576b\"],[0.6666666666666666,\"#ed7953\"],[0.7777777777777778,\"#fb9f3a\"],[0.8888888888888888,\"#fdca26\"],[1.0,\"#f0f921\"]],\"type\":\"heatmapgl\"}],\"histogram\":[{\"marker\":{\"pattern\":{\"fillmode\":\"overlay\",\"size\":10,\"solidity\":0.2}},\"type\":\"histogram\"}],\"histogram2d\":[{\"colorbar\":{\"outlinewidth\":0,\"ticks\":\"\"},\"colorscale\":[[0.0,\"#0d0887\"],[0.1111111111111111,\"#46039f\"],[0.2222222222222222,\"#7201a8\"],[0.3333333333333333,\"#9c179e\"],[0.4444444444444444,\"#bd3786\"],[0.5555555555555556,\"#d8576b\"],[0.6666666666666666,\"#ed7953\"],[0.7777777777777778,\"#fb9f3a\"],[0.8888888888888888,\"#fdca26\"],[1.0,\"#f0f921\"]],\"type\":\"histogram2d\"}],\"histogram2dcontour\":[{\"colorbar\":{\"outlinewidth\":0,\"ticks\":\"\"},\"colorscale\":[[0.0,\"#0d0887\"],[0.1111111111111111,\"#46039f\"],[0.2222222222222222,\"#7201a8\"],[0.3333333333333333,\"#9c179e\"],[0.4444444444444444,\"#bd3786\"],[0.5555555555555556,\"#d8576b\"],[0.6666666666666666,\"#ed7953\"],[0.7777777777777778,\"#fb9f3a\"],[0.8888888888888888,\"#fdca26\"],[1.0,\"#f0f921\"]],\"type\":\"histogram2dcontour\"}],\"mesh3d\":[{\"colorbar\":{\"outlinewidth\":0,\"ticks\":\"\"},\"type\":\"mesh3d\"}],\"parcoords\":[{\"line\":{\"colorbar\":{\"outlinewidth\":0,\"ticks\":\"\"}},\"type\":\"parcoords\"}],\"pie\":[{\"automargin\":true,\"type\":\"pie\"}],\"scatter\":[{\"marker\":{\"colorbar\":{\"outlinewidth\":0,\"ticks\":\"\"}},\"type\":\"scatter\"}],\"scatter3d\":[{\"line\":{\"colorbar\":{\"outlinewidth\":0,\"ticks\":\"\"}},\"marker\":{\"colorbar\":{\"outlinewidth\":0,\"ticks\":\"\"}},\"type\":\"scatter3d\"}],\"scattercarpet\":[{\"marker\":{\"colorbar\":{\"outlinewidth\":0,\"ticks\":\"\"}},\"type\":\"scattercarpet\"}],\"scattergeo\":[{\"marker\":{\"colorbar\":{\"outlinewidth\":0,\"ticks\":\"\"}},\"type\":\"scattergeo\"}],\"scattergl\":[{\"marker\":{\"colorbar\":{\"outlinewidth\":0,\"ticks\":\"\"}},\"type\":\"scattergl\"}],\"scattermapbox\":[{\"marker\":{\"colorbar\":{\"outlinewidth\":0,\"ticks\":\"\"}},\"type\":\"scattermapbox\"}],\"scatterpolar\":[{\"marker\":{\"colorbar\":{\"outlinewidth\":0,\"ticks\":\"\"}},\"type\":\"scatterpolar\"}],\"scatterpolargl\":[{\"marker\":{\"colorbar\":{\"outlinewidth\":0,\"ticks\":\"\"}},\"type\":\"scatterpolargl\"}],\"scatterternary\":[{\"marker\":{\"colorbar\":{\"outlinewidth\":0,\"ticks\":\"\"}},\"type\":\"scatterternary\"}],\"surface\":[{\"colorbar\":{\"outlinewidth\":0,\"ticks\":\"\"},\"colorscale\":[[0.0,\"#0d0887\"],[0.1111111111111111,\"#46039f\"],[0.2222222222222222,\"#7201a8\"],[0.3333333333333333,\"#9c179e\"],[0.4444444444444444,\"#bd3786\"],[0.5555555555555556,\"#d8576b\"],[0.6666666666666666,\"#ed7953\"],[0.7777777777777778,\"#fb9f3a\"],[0.8888888888888888,\"#fdca26\"],[1.0,\"#f0f921\"]],\"type\":\"surface\"}],\"table\":[{\"cells\":{\"fill\":{\"color\":\"#EBF0F8\"},\"line\":{\"color\":\"white\"}},\"header\":{\"fill\":{\"color\":\"#C8D4E3\"},\"line\":{\"color\":\"white\"}},\"type\":\"table\"}]},\"layout\":{\"annotationdefaults\":{\"arrowcolor\":\"#2a3f5f\",\"arrowhead\":0,\"arrowwidth\":1},\"autotypenumbers\":\"strict\",\"coloraxis\":{\"colorbar\":{\"outlinewidth\":0,\"ticks\":\"\"}},\"colorscale\":{\"diverging\":[[0,\"#8e0152\"],[0.1,\"#c51b7d\"],[0.2,\"#de77ae\"],[0.3,\"#f1b6da\"],[0.4,\"#fde0ef\"],[0.5,\"#f7f7f7\"],[0.6,\"#e6f5d0\"],[0.7,\"#b8e186\"],[0.8,\"#7fbc41\"],[0.9,\"#4d9221\"],[1,\"#276419\"]],\"sequential\":[[0.0,\"#0d0887\"],[0.1111111111111111,\"#46039f\"],[0.2222222222222222,\"#7201a8\"],[0.3333333333333333,\"#9c179e\"],[0.4444444444444444,\"#bd3786\"],[0.5555555555555556,\"#d8576b\"],[0.6666666666666666,\"#ed7953\"],[0.7777777777777778,\"#fb9f3a\"],[0.8888888888888888,\"#fdca26\"],[1.0,\"#f0f921\"]],\"sequentialminus\":[[0.0,\"#0d0887\"],[0.1111111111111111,\"#46039f\"],[0.2222222222222222,\"#7201a8\"],[0.3333333333333333,\"#9c179e\"],[0.4444444444444444,\"#bd3786\"],[0.5555555555555556,\"#d8576b\"],[0.6666666666666666,\"#ed7953\"],[0.7777777777777778,\"#fb9f3a\"],[0.8888888888888888,\"#fdca26\"],[1.0,\"#f0f921\"]]},\"colorway\":[\"#636efa\",\"#EF553B\",\"#00cc96\",\"#ab63fa\",\"#FFA15A\",\"#19d3f3\",\"#FF6692\",\"#B6E880\",\"#FF97FF\",\"#FECB52\"],\"font\":{\"color\":\"#2a3f5f\"},\"geo\":{\"bgcolor\":\"white\",\"lakecolor\":\"white\",\"landcolor\":\"#E5ECF6\",\"showlakes\":true,\"showland\":true,\"subunitcolor\":\"white\"},\"hoverlabel\":{\"align\":\"left\"},\"hovermode\":\"closest\",\"mapbox\":{\"style\":\"light\"},\"paper_bgcolor\":\"white\",\"plot_bgcolor\":\"#E5ECF6\",\"polar\":{\"angularaxis\":{\"gridcolor\":\"white\",\"linecolor\":\"white\",\"ticks\":\"\"},\"bgcolor\":\"#E5ECF6\",\"radialaxis\":{\"gridcolor\":\"white\",\"linecolor\":\"white\",\"ticks\":\"\"}},\"scene\":{\"xaxis\":{\"backgroundcolor\":\"#E5ECF6\",\"gridcolor\":\"white\",\"gridwidth\":2,\"linecolor\":\"white\",\"showbackground\":true,\"ticks\":\"\",\"zerolinecolor\":\"white\"},\"yaxis\":{\"backgroundcolor\":\"#E5ECF6\",\"gridcolor\":\"white\",\"gridwidth\":2,\"linecolor\":\"white\",\"showbackground\":true,\"ticks\":\"\",\"zerolinecolor\":\"white\"},\"zaxis\":{\"backgroundcolor\":\"#E5ECF6\",\"gridcolor\":\"white\",\"gridwidth\":2,\"linecolor\":\"white\",\"showbackground\":true,\"ticks\":\"\",\"zerolinecolor\":\"white\"}},\"shapedefaults\":{\"line\":{\"color\":\"#2a3f5f\"}},\"ternary\":{\"aaxis\":{\"gridcolor\":\"white\",\"linecolor\":\"white\",\"ticks\":\"\"},\"baxis\":{\"gridcolor\":\"white\",\"linecolor\":\"white\",\"ticks\":\"\"},\"bgcolor\":\"#E5ECF6\",\"caxis\":{\"gridcolor\":\"white\",\"linecolor\":\"white\",\"ticks\":\"\"}},\"title\":{\"x\":0.05},\"xaxis\":{\"automargin\":true,\"gridcolor\":\"white\",\"linecolor\":\"white\",\"ticks\":\"\",\"title\":{\"standoff\":15},\"zerolinecolor\":\"white\",\"zerolinewidth\":2},\"yaxis\":{\"automargin\":true,\"gridcolor\":\"white\",\"linecolor\":\"white\",\"ticks\":\"\",\"title\":{\"standoff\":15},\"zerolinecolor\":\"white\",\"zerolinewidth\":2}}},\"xaxis\":{\"anchor\":\"y\",\"domain\":[0.0,1.0],\"title\":{\"text\":\"date\"}},\"yaxis\":{\"anchor\":\"x\",\"domain\":[0.0,1.0],\"title\":{\"text\":\"qty_order\"}}},                        {\"responsive\": true}                    ).then(function(){\n",
       "                            \n",
       "var gd = document.getElementById('92bbb46f-290a-4f93-baac-40dae7afb698');\n",
       "var x = new MutationObserver(function (mutations, observer) {{\n",
       "        var display = window.getComputedStyle(gd).display;\n",
       "        if (!display || display === 'none') {{\n",
       "            console.log([gd, 'removed!']);\n",
       "            Plotly.purge(gd);\n",
       "            observer.disconnect();\n",
       "        }}\n",
       "}});\n",
       "\n",
       "// Listen for the removal of the full notebook cells\n",
       "var notebookContainer = gd.closest('#notebook-container');\n",
       "if (notebookContainer) {{\n",
       "    x.observe(notebookContainer, {childList: true});\n",
       "}}\n",
       "\n",
       "// Listen for the clearing of the current output cell\n",
       "var outputEl = gd.closest('.output');\n",
       "if (outputEl) {{\n",
       "    x.observe(outputEl, {childList: true});\n",
       "}}\n",
       "\n",
       "                        })                };                });            </script>        </div>"
      ]
     },
     "metadata": {},
     "output_type": "display_data"
    }
   ],
   "source": [
    "px.scatter(df[ (df.value_per_item < df[\"min\"]*1.05) & (df.prod_id == \"P9\")].groupby([\"prod_id\", \"date\"]).agg({\"qty_order\" : \"sum\"}).reset_index(),\n",
    "        x=\"date\",\n",
    "        y=\"qty_order\",\n",
    "        color=\"prod_id\")"
   ]
  },
  {
   "cell_type": "code",
   "execution_count": 31,
   "id": "e53a08c8-1acf-48b8-939a-665ada0cdd78",
   "metadata": {},
   "outputs": [
    {
     "data": {
      "text/html": [
       "<div>\n",
       "<style scoped>\n",
       "    .dataframe tbody tr th:only-of-type {\n",
       "        vertical-align: middle;\n",
       "    }\n",
       "\n",
       "    .dataframe tbody tr th {\n",
       "        vertical-align: top;\n",
       "    }\n",
       "\n",
       "    .dataframe thead th {\n",
       "        text-align: right;\n",
       "    }\n",
       "</style>\n",
       "<table border=\"1\" class=\"dataframe\">\n",
       "  <thead>\n",
       "    <tr style=\"text-align: right;\">\n",
       "      <th></th>\n",
       "      <th>prod_id</th>\n",
       "      <th>date</th>\n",
       "      <th>value_per_item</th>\n",
       "      <th>qty_order</th>\n",
       "      <th>min</th>\n",
       "      <th>max</th>\n",
       "      <th>mean</th>\n",
       "      <th>median</th>\n",
       "      <th>qty_day</th>\n",
       "      <th>qty_day_mm</th>\n",
       "      <th>qty_day_shift_x</th>\n",
       "      <th>qty_day_shift_mm_x</th>\n",
       "      <th>diff_min_pct</th>\n",
       "      <th>diff_mean_pct</th>\n",
       "      <th>pct_of_qty_day</th>\n",
       "      <th>qty_day_shift_y</th>\n",
       "      <th>qty_day_shift_mm_y</th>\n",
       "      <th>qty_day_shift</th>\n",
       "      <th>qty_day_shift_mm</th>\n",
       "      <th>qty_order_log</th>\n",
       "    </tr>\n",
       "  </thead>\n",
       "  <tbody>\n",
       "    <tr>\n",
       "      <th>488</th>\n",
       "      <td>P3</td>\n",
       "      <td>2015-03-17</td>\n",
       "      <td>1387.794118</td>\n",
       "      <td>17.0</td>\n",
       "      <td>1274.15</td>\n",
       "      <td>1543.90</td>\n",
       "      <td>1465.965500</td>\n",
       "      <td>1499.000</td>\n",
       "      <td>17.0</td>\n",
       "      <td>NaN</td>\n",
       "      <td>17.0</td>\n",
       "      <td>NaN</td>\n",
       "      <td>0.089192</td>\n",
       "      <td>-0.053324</td>\n",
       "      <td>1.0</td>\n",
       "      <td>17.0</td>\n",
       "      <td>NaN</td>\n",
       "      <td>7.0</td>\n",
       "      <td>NaN</td>\n",
       "      <td>2.833213</td>\n",
       "    </tr>\n",
       "    <tr>\n",
       "      <th>489</th>\n",
       "      <td>P3</td>\n",
       "      <td>2015-03-18</td>\n",
       "      <td>1454.000000</td>\n",
       "      <td>18.0</td>\n",
       "      <td>1146.65</td>\n",
       "      <td>1543.90</td>\n",
       "      <td>1446.878333</td>\n",
       "      <td>1474.495</td>\n",
       "      <td>18.0</td>\n",
       "      <td>NaN</td>\n",
       "      <td>17.0</td>\n",
       "      <td>NaN</td>\n",
       "      <td>0.268042</td>\n",
       "      <td>0.004922</td>\n",
       "      <td>1.0</td>\n",
       "      <td>17.0</td>\n",
       "      <td>NaN</td>\n",
       "      <td>17.0</td>\n",
       "      <td>NaN</td>\n",
       "      <td>2.890372</td>\n",
       "    </tr>\n",
       "    <tr>\n",
       "      <th>490</th>\n",
       "      <td>P3</td>\n",
       "      <td>2015-03-19</td>\n",
       "      <td>1383.473684</td>\n",
       "      <td>19.0</td>\n",
       "      <td>1274.15</td>\n",
       "      <td>1543.90</td>\n",
       "      <td>1480.747500</td>\n",
       "      <td>1499.000</td>\n",
       "      <td>19.0</td>\n",
       "      <td>NaN</td>\n",
       "      <td>18.0</td>\n",
       "      <td>NaN</td>\n",
       "      <td>0.085801</td>\n",
       "      <td>-0.065692</td>\n",
       "      <td>1.0</td>\n",
       "      <td>18.0</td>\n",
       "      <td>NaN</td>\n",
       "      <td>17.0</td>\n",
       "      <td>NaN</td>\n",
       "      <td>2.944439</td>\n",
       "    </tr>\n",
       "    <tr>\n",
       "      <th>491</th>\n",
       "      <td>P3</td>\n",
       "      <td>2015-03-20</td>\n",
       "      <td>1412.333333</td>\n",
       "      <td>15.0</td>\n",
       "      <td>1304.13</td>\n",
       "      <td>1543.90</td>\n",
       "      <td>1482.008889</td>\n",
       "      <td>1499.000</td>\n",
       "      <td>15.0</td>\n",
       "      <td>NaN</td>\n",
       "      <td>19.0</td>\n",
       "      <td>NaN</td>\n",
       "      <td>0.082970</td>\n",
       "      <td>-0.047014</td>\n",
       "      <td>1.0</td>\n",
       "      <td>19.0</td>\n",
       "      <td>NaN</td>\n",
       "      <td>18.0</td>\n",
       "      <td>NaN</td>\n",
       "      <td>2.708050</td>\n",
       "    </tr>\n",
       "    <tr>\n",
       "      <th>492</th>\n",
       "      <td>P3</td>\n",
       "      <td>2015-03-21</td>\n",
       "      <td>1398.635455</td>\n",
       "      <td>11.0</td>\n",
       "      <td>1199.00</td>\n",
       "      <td>1543.90</td>\n",
       "      <td>1415.012222</td>\n",
       "      <td>1398.000</td>\n",
       "      <td>11.0</td>\n",
       "      <td>NaN</td>\n",
       "      <td>15.0</td>\n",
       "      <td>NaN</td>\n",
       "      <td>0.166502</td>\n",
       "      <td>-0.011574</td>\n",
       "      <td>1.0</td>\n",
       "      <td>15.0</td>\n",
       "      <td>NaN</td>\n",
       "      <td>19.0</td>\n",
       "      <td>NaN</td>\n",
       "      <td>2.397895</td>\n",
       "    </tr>\n",
       "    <tr>\n",
       "      <th>...</th>\n",
       "      <td>...</td>\n",
       "      <td>...</td>\n",
       "      <td>...</td>\n",
       "      <td>...</td>\n",
       "      <td>...</td>\n",
       "      <td>...</td>\n",
       "      <td>...</td>\n",
       "      <td>...</td>\n",
       "      <td>...</td>\n",
       "      <td>...</td>\n",
       "      <td>...</td>\n",
       "      <td>...</td>\n",
       "      <td>...</td>\n",
       "      <td>...</td>\n",
       "      <td>...</td>\n",
       "      <td>...</td>\n",
       "      <td>...</td>\n",
       "      <td>...</td>\n",
       "      <td>...</td>\n",
       "      <td>...</td>\n",
       "    </tr>\n",
       "    <tr>\n",
       "      <th>683</th>\n",
       "      <td>P3</td>\n",
       "      <td>2015-10-07</td>\n",
       "      <td>1231.790000</td>\n",
       "      <td>5.0</td>\n",
       "      <td>1099.00</td>\n",
       "      <td>1209.74</td>\n",
       "      <td>1146.960714</td>\n",
       "      <td>1130.000</td>\n",
       "      <td>5.0</td>\n",
       "      <td>5.5</td>\n",
       "      <td>6.0</td>\n",
       "      <td>6.0</td>\n",
       "      <td>0.120828</td>\n",
       "      <td>0.073960</td>\n",
       "      <td>1.0</td>\n",
       "      <td>6.0</td>\n",
       "      <td>6.0</td>\n",
       "      <td>7.0</td>\n",
       "      <td>6.0</td>\n",
       "      <td>1.609438</td>\n",
       "    </tr>\n",
       "    <tr>\n",
       "      <th>684</th>\n",
       "      <td>P3</td>\n",
       "      <td>2015-10-08</td>\n",
       "      <td>1199.375000</td>\n",
       "      <td>2.0</td>\n",
       "      <td>1083.98</td>\n",
       "      <td>1209.74</td>\n",
       "      <td>1163.573214</td>\n",
       "      <td>1184.600</td>\n",
       "      <td>2.0</td>\n",
       "      <td>5.0</td>\n",
       "      <td>5.0</td>\n",
       "      <td>5.5</td>\n",
       "      <td>0.106455</td>\n",
       "      <td>0.030769</td>\n",
       "      <td>1.0</td>\n",
       "      <td>5.0</td>\n",
       "      <td>5.5</td>\n",
       "      <td>6.0</td>\n",
       "      <td>6.0</td>\n",
       "      <td>0.693147</td>\n",
       "    </tr>\n",
       "    <tr>\n",
       "      <th>685</th>\n",
       "      <td>P3</td>\n",
       "      <td>2015-10-12</td>\n",
       "      <td>1166.960000</td>\n",
       "      <td>1.0</td>\n",
       "      <td>1055.12</td>\n",
       "      <td>1199.00</td>\n",
       "      <td>1157.035000</td>\n",
       "      <td>1199.000</td>\n",
       "      <td>1.0</td>\n",
       "      <td>4.5</td>\n",
       "      <td>7.0</td>\n",
       "      <td>5.0</td>\n",
       "      <td>0.105997</td>\n",
       "      <td>0.008578</td>\n",
       "      <td>1.0</td>\n",
       "      <td>7.0</td>\n",
       "      <td>5.0</td>\n",
       "      <td>4.0</td>\n",
       "      <td>4.5</td>\n",
       "      <td>0.000000</td>\n",
       "    </tr>\n",
       "    <tr>\n",
       "      <th>686</th>\n",
       "      <td>P3</td>\n",
       "      <td>2015-10-13</td>\n",
       "      <td>1166.960000</td>\n",
       "      <td>4.0</td>\n",
       "      <td>1026.92</td>\n",
       "      <td>1249.00</td>\n",
       "      <td>1166.135000</td>\n",
       "      <td>1199.000</td>\n",
       "      <td>4.0</td>\n",
       "      <td>4.5</td>\n",
       "      <td>1.0</td>\n",
       "      <td>4.5</td>\n",
       "      <td>0.136369</td>\n",
       "      <td>0.000707</td>\n",
       "      <td>1.0</td>\n",
       "      <td>1.0</td>\n",
       "      <td>4.5</td>\n",
       "      <td>7.0</td>\n",
       "      <td>5.0</td>\n",
       "      <td>1.386294</td>\n",
       "    </tr>\n",
       "    <tr>\n",
       "      <th>687</th>\n",
       "      <td>P3</td>\n",
       "      <td>2015-10-14</td>\n",
       "      <td>1231.790000</td>\n",
       "      <td>1.0</td>\n",
       "      <td>1055.12</td>\n",
       "      <td>119900.00</td>\n",
       "      <td>42616.050000</td>\n",
       "      <td>1199.000</td>\n",
       "      <td>1.0</td>\n",
       "      <td>4.5</td>\n",
       "      <td>4.0</td>\n",
       "      <td>4.5</td>\n",
       "      <td>0.167441</td>\n",
       "      <td>-0.971096</td>\n",
       "      <td>1.0</td>\n",
       "      <td>4.0</td>\n",
       "      <td>4.5</td>\n",
       "      <td>1.0</td>\n",
       "      <td>4.5</td>\n",
       "      <td>0.000000</td>\n",
       "    </tr>\n",
       "  </tbody>\n",
       "</table>\n",
       "<p>200 rows × 20 columns</p>\n",
       "</div>"
      ],
      "text/plain": [
       "    prod_id       date  value_per_item  qty_order      min        max  \\\n",
       "488      P3 2015-03-17     1387.794118       17.0  1274.15    1543.90   \n",
       "489      P3 2015-03-18     1454.000000       18.0  1146.65    1543.90   \n",
       "490      P3 2015-03-19     1383.473684       19.0  1274.15    1543.90   \n",
       "491      P3 2015-03-20     1412.333333       15.0  1304.13    1543.90   \n",
       "492      P3 2015-03-21     1398.635455       11.0  1199.00    1543.90   \n",
       "..      ...        ...             ...        ...      ...        ...   \n",
       "683      P3 2015-10-07     1231.790000        5.0  1099.00    1209.74   \n",
       "684      P3 2015-10-08     1199.375000        2.0  1083.98    1209.74   \n",
       "685      P3 2015-10-12     1166.960000        1.0  1055.12    1199.00   \n",
       "686      P3 2015-10-13     1166.960000        4.0  1026.92    1249.00   \n",
       "687      P3 2015-10-14     1231.790000        1.0  1055.12  119900.00   \n",
       "\n",
       "             mean    median  qty_day  qty_day_mm  qty_day_shift_x  \\\n",
       "488   1465.965500  1499.000     17.0         NaN             17.0   \n",
       "489   1446.878333  1474.495     18.0         NaN             17.0   \n",
       "490   1480.747500  1499.000     19.0         NaN             18.0   \n",
       "491   1482.008889  1499.000     15.0         NaN             19.0   \n",
       "492   1415.012222  1398.000     11.0         NaN             15.0   \n",
       "..            ...       ...      ...         ...              ...   \n",
       "683   1146.960714  1130.000      5.0         5.5              6.0   \n",
       "684   1163.573214  1184.600      2.0         5.0              5.0   \n",
       "685   1157.035000  1199.000      1.0         4.5              7.0   \n",
       "686   1166.135000  1199.000      4.0         4.5              1.0   \n",
       "687  42616.050000  1199.000      1.0         4.5              4.0   \n",
       "\n",
       "     qty_day_shift_mm_x  diff_min_pct  diff_mean_pct  pct_of_qty_day  \\\n",
       "488                 NaN      0.089192      -0.053324             1.0   \n",
       "489                 NaN      0.268042       0.004922             1.0   \n",
       "490                 NaN      0.085801      -0.065692             1.0   \n",
       "491                 NaN      0.082970      -0.047014             1.0   \n",
       "492                 NaN      0.166502      -0.011574             1.0   \n",
       "..                  ...           ...            ...             ...   \n",
       "683                 6.0      0.120828       0.073960             1.0   \n",
       "684                 5.5      0.106455       0.030769             1.0   \n",
       "685                 5.0      0.105997       0.008578             1.0   \n",
       "686                 4.5      0.136369       0.000707             1.0   \n",
       "687                 4.5      0.167441      -0.971096             1.0   \n",
       "\n",
       "     qty_day_shift_y  qty_day_shift_mm_y  qty_day_shift  qty_day_shift_mm  \\\n",
       "488             17.0                 NaN            7.0               NaN   \n",
       "489             17.0                 NaN           17.0               NaN   \n",
       "490             18.0                 NaN           17.0               NaN   \n",
       "491             19.0                 NaN           18.0               NaN   \n",
       "492             15.0                 NaN           19.0               NaN   \n",
       "..               ...                 ...            ...               ...   \n",
       "683              6.0                 6.0            7.0               6.0   \n",
       "684              5.0                 5.5            6.0               6.0   \n",
       "685              7.0                 5.0            4.0               4.5   \n",
       "686              1.0                 4.5            7.0               5.0   \n",
       "687              4.0                 4.5            1.0               4.5   \n",
       "\n",
       "     qty_order_log  \n",
       "488       2.833213  \n",
       "489       2.890372  \n",
       "490       2.944439  \n",
       "491       2.708050  \n",
       "492       2.397895  \n",
       "..             ...  \n",
       "683       1.609438  \n",
       "684       0.693147  \n",
       "685       0.000000  \n",
       "686       1.386294  \n",
       "687       0.000000  \n",
       "\n",
       "[200 rows x 20 columns]"
      ]
     },
     "execution_count": 31,
     "metadata": {},
     "output_type": "execute_result"
    }
   ],
   "source": [
    "df[(df.prod_id == prod_id) & (df.diff_mean_pct < 0.8)]"
   ]
  },
  {
   "cell_type": "code",
   "execution_count": 30,
   "id": "2ed4a4b3-ed1a-46d1-9e40-09c5c0ada344",
   "metadata": {},
   "outputs": [
    {
     "data": {
      "application/vnd.plotly.v1+json": {
       "config": {
        "plotlyServerURL": "https://plot.ly"
       },
       "data": [
        {
         "hovertemplate": "diff_mean_pct=%{x}<br>qty_order=%{y}<extra></extra>",
         "legendgroup": "",
         "marker": {
          "color": "#636efa",
          "symbol": "circle"
         },
         "mode": "markers",
         "name": "",
         "orientation": "v",
         "showlegend": false,
         "type": "scatter",
         "x": [
          -0.05332416237144819,
          0.004922090892231208,
          -0.06569237212250834,
          -0.04701426292239947,
          -0.011573587435908401,
          0.021663731212372514,
          -0.019578270124762532,
          -0.031025482119602987,
          -0.02748575897028626,
          -0.03982005363521156,
          -0.05202451804705033,
          -0.03178749801979334,
          -0.03355003221909785,
          -0.03758667049253934,
          -0.020823177436447654,
          -0.0360077966491046,
          -0.03191113211149024,
          -0.008919046290413008,
          -0.02306311671533752,
          0.007475993462607935,
          -0.012918129378083173,
          -0.019564218120980834,
          -0.007186659159864589,
          -0.03517692451579976,
          -0.009516987897069616,
          -0.019007452556445592,
          -0.02348154465218214,
          -0.025446431573455244,
          -0.011979419307056679,
          0.02655556895207678,
          0.0431226334100649,
          -0.011133153186984882,
          -0.01707202696010747,
          -0.015094431682520027,
          -0.014807204985959941,
          -0.04085887893832394,
          -0.03063934967108879,
          -0.031878198722566586,
          -0.06231447415874777,
          -0.07484821209572114,
          -0.06960503443471106,
          -0.034789360364064374,
          0.002301759791649427,
          -0.00787474048262625,
          -0.003064188966648459,
          0.029633183049169346,
          0.0557630908464116,
          0.06350336967837387,
          0.03776739569473089,
          0.037288195214611644,
          0.0209846510888236,
          -0.02386982807161654,
          0.004341203351104203,
          -0.0026993620187655844,
          0.015518289251547515,
          0.032585465412931024,
          0.004428909967042527,
          -0.03247667163948319,
          -0.04425241233581125,
          -0.022011766272282223,
          0.04608734268845237,
          0.0300215024109418,
          0.037019550087643724,
          0.002354158666519084,
          0.01929575439833446,
          -0.015907782971534997,
          0.05861407477454637,
          0.03212680367175061,
          0.024468544088379205,
          0.06695245750349785,
          0.03677374046606372,
          0.02725417257686892,
          0.034524672428212874,
          0.0672955377287187,
          0.06350326180004127,
          0.05308851811119012,
          0.059937174303816905,
          0.06813475469229406,
          0.036696650655648706,
          0.08965436582981558,
          0.055586292810962716,
          0.03961325617191662,
          0.06681323788329724,
          0.04288178648465812,
          0.03969118298317118,
          0.035228089110747624,
          0.06859229720150734,
          0.1204906854227384,
          0.09637097811270273,
          0.005130421967873395,
          0.005401729470643663,
          -0.013477835783420183,
          0.004656619794233457,
          0.053636234961075606,
          0.055517482057022574,
          0.04959377723435547,
          0.04733116325654602,
          0.04885852460274813,
          0.027150337837837803,
          0.028020897771190344,
          0.03646544390908804,
          0.012867745207966344,
          0.05257709976409879,
          0.0649523090229136,
          0.06621498969051824,
          0.05582709054663733,
          0.0786210003237748,
          0.09082668187001122,
          -0.021034125415172966,
          -0.040518775837120616,
          -0.025338907893069893,
          -0.002954652451674502,
          0.011129588683970746,
          0.00385395038697596,
          0.0016975994348930325,
          0.01505982353212912,
          0.021736145760430526,
          0.017499464699355764,
          0.007750830257081954,
          0.06526340943640069,
          0.06459217915961542,
          0.014161375530719158,
          0.014588859416445672,
          0.008466208968736379,
          0.011202694435490658,
          0.010108872950892123,
          0.027731432622985015,
          0.06394782293723474,
          0.06138039494620352,
          0.09228653271002965,
          0.09386338007107899,
          0.07632463840650965,
          0.09375376943911627,
          0.0630304496170752,
          0.06842758623438047,
          0.11193808084824027,
          0.027100172152927576,
          0.03817933156660122,
          0.02973586725705208,
          0.11082809861082361,
          0.1365472130885465,
          -0.09501942776404093,
          0.0871305781231603,
          -0.011774402449075657,
          0.09293680297397762,
          0.11438375750643401,
          0.07029565647272072,
          0.16952406867760747,
          -0.04753727168125346,
          0.0036035916362431378,
          0.1559762236107623,
          0.10300916809386819,
          0.03125542982281763,
          0.10572904193646035,
          0.10692819622632967,
          0.06858809318456016,
          0.1767072349875607,
          0.19462330494644067,
          0.23603194544874304,
          0.22782545824117925,
          0.3421721714723229,
          0.22960189418290766,
          0.31607457819415974,
          0.14661733855863596,
          0.05831986318646328,
          0.10278611273646618,
          0.1268385663592683,
          0.18666501146816106,
          0.1567124210969412,
          0.060212078226388605,
          0.04603755750853472,
          0.0016822500826824348,
          0.07429195980289481,
          0.09062179695920643,
          0.02594958438638574,
          0.035414027176794795,
          -0.09123061617002674,
          -0.1104369416081684,
          0.09300424010992248,
          0.08383343151402936,
          0.06393751106609176,
          0.1211863673983669,
          0.12552234309845034,
          0.08784749584235496,
          0.06406637817230917,
          0.04844192282090048,
          -0.00969815583878297,
          0.04623573669668908,
          0.1486465451879672,
          0.04021403256856673,
          0.0890318868856663,
          0.05815807740652496,
          0.061379984200241135,
          0.050512221030512124,
          0.10316519021316183,
          0.07396006215183593,
          0.030768829390992278,
          0.008577960044423854,
          0.0007074652591681456,
          -0.971095631810081
         ],
         "xaxis": "x",
         "y": [
          17,
          18,
          19,
          15,
          11,
          6,
          8,
          6,
          10,
          10,
          4,
          10,
          6,
          17,
          7,
          8,
          11,
          6,
          5,
          2,
          9,
          10,
          16,
          9,
          9,
          15,
          15,
          33,
          35,
          9,
          7,
          14,
          23,
          15,
          8,
          28,
          14,
          13,
          16,
          23,
          10,
          9,
          4,
          13,
          20,
          5,
          3,
          1,
          12,
          17,
          12,
          14,
          9,
          9,
          7,
          17,
          23,
          18,
          20,
          17,
          16,
          22,
          11,
          12,
          15,
          10,
          7,
          24,
          21,
          1,
          6,
          7,
          2,
          2,
          12,
          7,
          6,
          6,
          5,
          11,
          6,
          4,
          3,
          5,
          6,
          6,
          4,
          8,
          2,
          2,
          3,
          23,
          28,
          18,
          5,
          11,
          8,
          14,
          10,
          15,
          6,
          5,
          9,
          4,
          5,
          15,
          9,
          12,
          22,
          24,
          31,
          57,
          45,
          40,
          41,
          38,
          28,
          27,
          35,
          38,
          38,
          21,
          29,
          37,
          33,
          54,
          44,
          21,
          11,
          6,
          9,
          7,
          9,
          8,
          7,
          7,
          23,
          21,
          11,
          5,
          7,
          3,
          2,
          1,
          4,
          3,
          3,
          2,
          11,
          18,
          8,
          6,
          7,
          6,
          6,
          3,
          3,
          1,
          2,
          5,
          2,
          8,
          18,
          15,
          6,
          8,
          2,
          3,
          1,
          5,
          8,
          11,
          4,
          1,
          5,
          2,
          7,
          29,
          5,
          6,
          3,
          4,
          6,
          7,
          8,
          14,
          1,
          6,
          1,
          3,
          6,
          6,
          5,
          7,
          6,
          5,
          2,
          1,
          4,
          1
         ],
         "yaxis": "y"
        }
       ],
       "layout": {
        "autosize": true,
        "legend": {
         "tracegroupgap": 0
        },
        "margin": {
         "t": 60
        },
        "template": {
         "data": {
          "bar": [
           {
            "error_x": {
             "color": "#2a3f5f"
            },
            "error_y": {
             "color": "#2a3f5f"
            },
            "marker": {
             "line": {
              "color": "#E5ECF6",
              "width": 0.5
             },
             "pattern": {
              "fillmode": "overlay",
              "size": 10,
              "solidity": 0.2
             }
            },
            "type": "bar"
           }
          ],
          "barpolar": [
           {
            "marker": {
             "line": {
              "color": "#E5ECF6",
              "width": 0.5
             },
             "pattern": {
              "fillmode": "overlay",
              "size": 10,
              "solidity": 0.2
             }
            },
            "type": "barpolar"
           }
          ],
          "carpet": [
           {
            "aaxis": {
             "endlinecolor": "#2a3f5f",
             "gridcolor": "white",
             "linecolor": "white",
             "minorgridcolor": "white",
             "startlinecolor": "#2a3f5f"
            },
            "baxis": {
             "endlinecolor": "#2a3f5f",
             "gridcolor": "white",
             "linecolor": "white",
             "minorgridcolor": "white",
             "startlinecolor": "#2a3f5f"
            },
            "type": "carpet"
           }
          ],
          "choropleth": [
           {
            "colorbar": {
             "outlinewidth": 0,
             "ticks": ""
            },
            "type": "choropleth"
           }
          ],
          "contour": [
           {
            "colorbar": {
             "outlinewidth": 0,
             "ticks": ""
            },
            "colorscale": [
             [
              0,
              "#0d0887"
             ],
             [
              0.1111111111111111,
              "#46039f"
             ],
             [
              0.2222222222222222,
              "#7201a8"
             ],
             [
              0.3333333333333333,
              "#9c179e"
             ],
             [
              0.4444444444444444,
              "#bd3786"
             ],
             [
              0.5555555555555556,
              "#d8576b"
             ],
             [
              0.6666666666666666,
              "#ed7953"
             ],
             [
              0.7777777777777778,
              "#fb9f3a"
             ],
             [
              0.8888888888888888,
              "#fdca26"
             ],
             [
              1,
              "#f0f921"
             ]
            ],
            "type": "contour"
           }
          ],
          "contourcarpet": [
           {
            "colorbar": {
             "outlinewidth": 0,
             "ticks": ""
            },
            "type": "contourcarpet"
           }
          ],
          "heatmap": [
           {
            "colorbar": {
             "outlinewidth": 0,
             "ticks": ""
            },
            "colorscale": [
             [
              0,
              "#0d0887"
             ],
             [
              0.1111111111111111,
              "#46039f"
             ],
             [
              0.2222222222222222,
              "#7201a8"
             ],
             [
              0.3333333333333333,
              "#9c179e"
             ],
             [
              0.4444444444444444,
              "#bd3786"
             ],
             [
              0.5555555555555556,
              "#d8576b"
             ],
             [
              0.6666666666666666,
              "#ed7953"
             ],
             [
              0.7777777777777778,
              "#fb9f3a"
             ],
             [
              0.8888888888888888,
              "#fdca26"
             ],
             [
              1,
              "#f0f921"
             ]
            ],
            "type": "heatmap"
           }
          ],
          "heatmapgl": [
           {
            "colorbar": {
             "outlinewidth": 0,
             "ticks": ""
            },
            "colorscale": [
             [
              0,
              "#0d0887"
             ],
             [
              0.1111111111111111,
              "#46039f"
             ],
             [
              0.2222222222222222,
              "#7201a8"
             ],
             [
              0.3333333333333333,
              "#9c179e"
             ],
             [
              0.4444444444444444,
              "#bd3786"
             ],
             [
              0.5555555555555556,
              "#d8576b"
             ],
             [
              0.6666666666666666,
              "#ed7953"
             ],
             [
              0.7777777777777778,
              "#fb9f3a"
             ],
             [
              0.8888888888888888,
              "#fdca26"
             ],
             [
              1,
              "#f0f921"
             ]
            ],
            "type": "heatmapgl"
           }
          ],
          "histogram": [
           {
            "marker": {
             "pattern": {
              "fillmode": "overlay",
              "size": 10,
              "solidity": 0.2
             }
            },
            "type": "histogram"
           }
          ],
          "histogram2d": [
           {
            "colorbar": {
             "outlinewidth": 0,
             "ticks": ""
            },
            "colorscale": [
             [
              0,
              "#0d0887"
             ],
             [
              0.1111111111111111,
              "#46039f"
             ],
             [
              0.2222222222222222,
              "#7201a8"
             ],
             [
              0.3333333333333333,
              "#9c179e"
             ],
             [
              0.4444444444444444,
              "#bd3786"
             ],
             [
              0.5555555555555556,
              "#d8576b"
             ],
             [
              0.6666666666666666,
              "#ed7953"
             ],
             [
              0.7777777777777778,
              "#fb9f3a"
             ],
             [
              0.8888888888888888,
              "#fdca26"
             ],
             [
              1,
              "#f0f921"
             ]
            ],
            "type": "histogram2d"
           }
          ],
          "histogram2dcontour": [
           {
            "colorbar": {
             "outlinewidth": 0,
             "ticks": ""
            },
            "colorscale": [
             [
              0,
              "#0d0887"
             ],
             [
              0.1111111111111111,
              "#46039f"
             ],
             [
              0.2222222222222222,
              "#7201a8"
             ],
             [
              0.3333333333333333,
              "#9c179e"
             ],
             [
              0.4444444444444444,
              "#bd3786"
             ],
             [
              0.5555555555555556,
              "#d8576b"
             ],
             [
              0.6666666666666666,
              "#ed7953"
             ],
             [
              0.7777777777777778,
              "#fb9f3a"
             ],
             [
              0.8888888888888888,
              "#fdca26"
             ],
             [
              1,
              "#f0f921"
             ]
            ],
            "type": "histogram2dcontour"
           }
          ],
          "mesh3d": [
           {
            "colorbar": {
             "outlinewidth": 0,
             "ticks": ""
            },
            "type": "mesh3d"
           }
          ],
          "parcoords": [
           {
            "line": {
             "colorbar": {
              "outlinewidth": 0,
              "ticks": ""
             }
            },
            "type": "parcoords"
           }
          ],
          "pie": [
           {
            "automargin": true,
            "type": "pie"
           }
          ],
          "scatter": [
           {
            "marker": {
             "colorbar": {
              "outlinewidth": 0,
              "ticks": ""
             }
            },
            "type": "scatter"
           }
          ],
          "scatter3d": [
           {
            "line": {
             "colorbar": {
              "outlinewidth": 0,
              "ticks": ""
             }
            },
            "marker": {
             "colorbar": {
              "outlinewidth": 0,
              "ticks": ""
             }
            },
            "type": "scatter3d"
           }
          ],
          "scattercarpet": [
           {
            "marker": {
             "colorbar": {
              "outlinewidth": 0,
              "ticks": ""
             }
            },
            "type": "scattercarpet"
           }
          ],
          "scattergeo": [
           {
            "marker": {
             "colorbar": {
              "outlinewidth": 0,
              "ticks": ""
             }
            },
            "type": "scattergeo"
           }
          ],
          "scattergl": [
           {
            "marker": {
             "colorbar": {
              "outlinewidth": 0,
              "ticks": ""
             }
            },
            "type": "scattergl"
           }
          ],
          "scattermapbox": [
           {
            "marker": {
             "colorbar": {
              "outlinewidth": 0,
              "ticks": ""
             }
            },
            "type": "scattermapbox"
           }
          ],
          "scatterpolar": [
           {
            "marker": {
             "colorbar": {
              "outlinewidth": 0,
              "ticks": ""
             }
            },
            "type": "scatterpolar"
           }
          ],
          "scatterpolargl": [
           {
            "marker": {
             "colorbar": {
              "outlinewidth": 0,
              "ticks": ""
             }
            },
            "type": "scatterpolargl"
           }
          ],
          "scatterternary": [
           {
            "marker": {
             "colorbar": {
              "outlinewidth": 0,
              "ticks": ""
             }
            },
            "type": "scatterternary"
           }
          ],
          "surface": [
           {
            "colorbar": {
             "outlinewidth": 0,
             "ticks": ""
            },
            "colorscale": [
             [
              0,
              "#0d0887"
             ],
             [
              0.1111111111111111,
              "#46039f"
             ],
             [
              0.2222222222222222,
              "#7201a8"
             ],
             [
              0.3333333333333333,
              "#9c179e"
             ],
             [
              0.4444444444444444,
              "#bd3786"
             ],
             [
              0.5555555555555556,
              "#d8576b"
             ],
             [
              0.6666666666666666,
              "#ed7953"
             ],
             [
              0.7777777777777778,
              "#fb9f3a"
             ],
             [
              0.8888888888888888,
              "#fdca26"
             ],
             [
              1,
              "#f0f921"
             ]
            ],
            "type": "surface"
           }
          ],
          "table": [
           {
            "cells": {
             "fill": {
              "color": "#EBF0F8"
             },
             "line": {
              "color": "white"
             }
            },
            "header": {
             "fill": {
              "color": "#C8D4E3"
             },
             "line": {
              "color": "white"
             }
            },
            "type": "table"
           }
          ]
         },
         "layout": {
          "annotationdefaults": {
           "arrowcolor": "#2a3f5f",
           "arrowhead": 0,
           "arrowwidth": 1
          },
          "autotypenumbers": "strict",
          "coloraxis": {
           "colorbar": {
            "outlinewidth": 0,
            "ticks": ""
           }
          },
          "colorscale": {
           "diverging": [
            [
             0,
             "#8e0152"
            ],
            [
             0.1,
             "#c51b7d"
            ],
            [
             0.2,
             "#de77ae"
            ],
            [
             0.3,
             "#f1b6da"
            ],
            [
             0.4,
             "#fde0ef"
            ],
            [
             0.5,
             "#f7f7f7"
            ],
            [
             0.6,
             "#e6f5d0"
            ],
            [
             0.7,
             "#b8e186"
            ],
            [
             0.8,
             "#7fbc41"
            ],
            [
             0.9,
             "#4d9221"
            ],
            [
             1,
             "#276419"
            ]
           ],
           "sequential": [
            [
             0,
             "#0d0887"
            ],
            [
             0.1111111111111111,
             "#46039f"
            ],
            [
             0.2222222222222222,
             "#7201a8"
            ],
            [
             0.3333333333333333,
             "#9c179e"
            ],
            [
             0.4444444444444444,
             "#bd3786"
            ],
            [
             0.5555555555555556,
             "#d8576b"
            ],
            [
             0.6666666666666666,
             "#ed7953"
            ],
            [
             0.7777777777777778,
             "#fb9f3a"
            ],
            [
             0.8888888888888888,
             "#fdca26"
            ],
            [
             1,
             "#f0f921"
            ]
           ],
           "sequentialminus": [
            [
             0,
             "#0d0887"
            ],
            [
             0.1111111111111111,
             "#46039f"
            ],
            [
             0.2222222222222222,
             "#7201a8"
            ],
            [
             0.3333333333333333,
             "#9c179e"
            ],
            [
             0.4444444444444444,
             "#bd3786"
            ],
            [
             0.5555555555555556,
             "#d8576b"
            ],
            [
             0.6666666666666666,
             "#ed7953"
            ],
            [
             0.7777777777777778,
             "#fb9f3a"
            ],
            [
             0.8888888888888888,
             "#fdca26"
            ],
            [
             1,
             "#f0f921"
            ]
           ]
          },
          "colorway": [
           "#636efa",
           "#EF553B",
           "#00cc96",
           "#ab63fa",
           "#FFA15A",
           "#19d3f3",
           "#FF6692",
           "#B6E880",
           "#FF97FF",
           "#FECB52"
          ],
          "font": {
           "color": "#2a3f5f"
          },
          "geo": {
           "bgcolor": "white",
           "lakecolor": "white",
           "landcolor": "#E5ECF6",
           "showlakes": true,
           "showland": true,
           "subunitcolor": "white"
          },
          "hoverlabel": {
           "align": "left"
          },
          "hovermode": "closest",
          "mapbox": {
           "style": "light"
          },
          "paper_bgcolor": "white",
          "plot_bgcolor": "#E5ECF6",
          "polar": {
           "angularaxis": {
            "gridcolor": "white",
            "linecolor": "white",
            "ticks": ""
           },
           "bgcolor": "#E5ECF6",
           "radialaxis": {
            "gridcolor": "white",
            "linecolor": "white",
            "ticks": ""
           }
          },
          "scene": {
           "xaxis": {
            "backgroundcolor": "#E5ECF6",
            "gridcolor": "white",
            "gridwidth": 2,
            "linecolor": "white",
            "showbackground": true,
            "ticks": "",
            "zerolinecolor": "white"
           },
           "yaxis": {
            "backgroundcolor": "#E5ECF6",
            "gridcolor": "white",
            "gridwidth": 2,
            "linecolor": "white",
            "showbackground": true,
            "ticks": "",
            "zerolinecolor": "white"
           },
           "zaxis": {
            "backgroundcolor": "#E5ECF6",
            "gridcolor": "white",
            "gridwidth": 2,
            "linecolor": "white",
            "showbackground": true,
            "ticks": "",
            "zerolinecolor": "white"
           }
          },
          "shapedefaults": {
           "line": {
            "color": "#2a3f5f"
           }
          },
          "ternary": {
           "aaxis": {
            "gridcolor": "white",
            "linecolor": "white",
            "ticks": ""
           },
           "baxis": {
            "gridcolor": "white",
            "linecolor": "white",
            "ticks": ""
           },
           "bgcolor": "#E5ECF6",
           "caxis": {
            "gridcolor": "white",
            "linecolor": "white",
            "ticks": ""
           }
          },
          "title": {
           "x": 0.05
          },
          "xaxis": {
           "automargin": true,
           "gridcolor": "white",
           "linecolor": "white",
           "ticks": "",
           "title": {
            "standoff": 15
           },
           "zerolinecolor": "white",
           "zerolinewidth": 2
          },
          "yaxis": {
           "automargin": true,
           "gridcolor": "white",
           "linecolor": "white",
           "ticks": "",
           "title": {
            "standoff": 15
           },
           "zerolinecolor": "white",
           "zerolinewidth": 2
          }
         }
        },
        "xaxis": {
         "anchor": "y",
         "autorange": true,
         "domain": [
          0,
          1
         ],
         "range": [
          -1.0531340137473342,
          0.42421055340957603
         ],
         "title": {
          "text": "diff_mean_pct"
         },
         "type": "linear"
        },
        "yaxis": {
         "anchor": "x",
         "autorange": true,
         "domain": [
          0,
          1
         ],
         "range": [
          -3.335958005249344,
          61.335958005249346
         ],
         "title": {
          "text": "qty_order"
         },
         "type": "linear"
        }
       }
      },
      "image/png": "[encoded data removed]",
      "text/html": [
       "<div>                            <div id=\"ceffa166-e4e1-4848-883b-0dc89f70f720\" class=\"plotly-graph-div\" style=\"height:525px; width:100%;\"></div>            <script type=\"text/javascript\">                require([\"plotly\"], function(Plotly) {                    window.PLOTLYENV=window.PLOTLYENV || {};                                    if (document.getElementById(\"ceffa166-e4e1-4848-883b-0dc89f70f720\")) {                    Plotly.newPlot(                        \"ceffa166-e4e1-4848-883b-0dc89f70f720\",                        [{\"hovertemplate\":\"diff_mean_pct=%{x}<br>qty_order=%{y}<extra></extra>\",\"legendgroup\":\"\",\"marker\":{\"color\":\"#636efa\",\"symbol\":\"circle\"},\"mode\":\"markers\",\"name\":\"\",\"orientation\":\"v\",\"showlegend\":false,\"type\":\"scatter\",\"x\":[-0.05332416237144819,0.004922090892231208,-0.06569237212250834,-0.04701426292239947,-0.011573587435908401,0.021663731212372514,-0.019578270124762532,-0.031025482119602987,-0.02748575897028626,-0.03982005363521156,-0.05202451804705033,-0.03178749801979334,-0.03355003221909785,-0.03758667049253934,-0.020823177436447654,-0.0360077966491046,-0.03191113211149024,-0.008919046290413008,-0.02306311671533752,0.007475993462607935,-0.012918129378083173,-0.019564218120980834,-0.007186659159864589,-0.03517692451579976,-0.009516987897069616,-0.019007452556445592,-0.02348154465218214,-0.025446431573455244,-0.011979419307056679,0.02655556895207678,0.0431226334100649,-0.011133153186984882,-0.01707202696010747,-0.015094431682520027,-0.014807204985959941,-0.04085887893832394,-0.03063934967108879,-0.031878198722566586,-0.06231447415874777,-0.07484821209572114,-0.06960503443471106,-0.034789360364064374,0.002301759791649427,-0.00787474048262625,-0.003064188966648459,0.029633183049169346,0.0557630908464116,0.06350336967837387,0.03776739569473089,0.037288195214611644,0.0209846510888236,-0.02386982807161654,0.004341203351104203,-0.0026993620187655844,0.015518289251547515,0.032585465412931024,0.004428909967042527,-0.03247667163948319,-0.04425241233581125,-0.022011766272282223,0.04608734268845237,0.0300215024109418,0.037019550087643724,0.002354158666519084,0.01929575439833446,-0.015907782971534997,0.05861407477454637,0.03212680367175061,0.024468544088379205,0.06695245750349785,0.03677374046606372,0.02725417257686892,0.034524672428212874,0.0672955377287187,0.06350326180004127,0.05308851811119012,0.059937174303816905,0.06813475469229406,0.036696650655648706,0.08965436582981558,0.055586292810962716,0.03961325617191662,0.06681323788329724,0.04288178648465812,0.03969118298317118,0.035228089110747624,0.06859229720150734,0.1204906854227384,0.09637097811270273,0.005130421967873395,0.005401729470643663,-0.013477835783420183,0.004656619794233457,0.053636234961075606,0.055517482057022574,0.04959377723435547,0.04733116325654602,0.04885852460274813,0.027150337837837803,0.028020897771190344,0.03646544390908804,0.012867745207966344,0.05257709976409879,0.0649523090229136,0.06621498969051824,0.05582709054663733,0.0786210003237748,0.09082668187001122,-0.021034125415172966,-0.040518775837120616,-0.025338907893069893,-0.002954652451674502,0.011129588683970746,0.00385395038697596,0.0016975994348930325,0.01505982353212912,0.021736145760430526,0.017499464699355764,0.007750830257081954,0.06526340943640069,0.06459217915961542,0.014161375530719158,0.014588859416445672,0.008466208968736379,0.011202694435490658,0.010108872950892123,0.027731432622985015,0.06394782293723474,0.06138039494620352,0.09228653271002965,0.09386338007107899,0.07632463840650965,0.09375376943911627,0.0630304496170752,0.06842758623438047,0.11193808084824027,0.027100172152927576,0.03817933156660122,0.02973586725705208,0.11082809861082361,0.1365472130885465,-0.09501942776404093,0.0871305781231603,-0.011774402449075657,0.09293680297397762,0.11438375750643401,0.07029565647272072,0.16952406867760747,-0.04753727168125346,0.0036035916362431378,0.1559762236107623,0.10300916809386819,0.03125542982281763,0.10572904193646035,0.10692819622632967,0.06858809318456016,0.1767072349875607,0.19462330494644067,0.23603194544874304,0.22782545824117925,0.3421721714723229,0.22960189418290766,0.31607457819415974,0.14661733855863596,0.05831986318646328,0.10278611273646618,0.1268385663592683,0.18666501146816106,0.1567124210969412,0.060212078226388605,0.04603755750853472,0.0016822500826824348,0.07429195980289481,0.09062179695920643,0.02594958438638574,0.035414027176794795,-0.09123061617002674,-0.1104369416081684,0.09300424010992248,0.08383343151402936,0.06393751106609176,0.1211863673983669,0.12552234309845034,0.08784749584235496,0.06406637817230917,0.04844192282090048,-0.00969815583878297,0.04623573669668908,0.1486465451879672,0.04021403256856673,0.0890318868856663,0.05815807740652496,0.061379984200241135,0.050512221030512124,0.10316519021316183,0.07396006215183593,0.030768829390992278,0.008577960044423854,0.0007074652591681456,-0.971095631810081],\"xaxis\":\"x\",\"y\":[17.0,18.0,19.0,15.0,11.0,6.0,8.0,6.0,10.0,10.0,4.0,10.0,6.0,17.0,7.0,8.0,11.0,6.0,5.0,2.0,9.0,10.0,16.0,9.0,9.0,15.0,15.0,33.0,35.0,9.0,7.0,14.0,23.0,15.0,8.0,28.0,14.0,13.0,16.0,23.0,10.0,9.0,4.0,13.0,20.0,5.0,3.0,1.0,12.0,17.0,12.0,14.0,9.0,9.0,7.0,17.0,23.0,18.0,20.0,17.0,16.0,22.0,11.0,12.0,15.0,10.0,7.0,24.0,21.0,1.0,6.0,7.0,2.0,2.0,12.0,7.0,6.0,6.0,5.0,11.0,6.0,4.0,3.0,5.0,6.0,6.0,4.0,8.0,2.0,2.0,3.0,23.0,28.0,18.0,5.0,11.0,8.0,14.0,10.0,15.0,6.0,5.0,9.0,4.0,5.0,15.0,9.0,12.0,22.0,24.0,31.0,57.0,45.0,40.0,41.0,38.0,28.0,27.0,35.0,38.0,38.0,21.0,29.0,37.0,33.0,54.0,44.0,21.0,11.0,6.0,9.0,7.0,9.0,8.0,7.0,7.0,23.0,21.0,11.0,5.0,7.0,3.0,2.0,1.0,4.0,3.0,3.0,2.0,11.0,18.0,8.0,6.0,7.0,6.0,6.0,3.0,3.0,1.0,2.0,5.0,2.0,8.0,18.0,15.0,6.0,8.0,2.0,3.0,1.0,5.0,8.0,11.0,4.0,1.0,5.0,2.0,7.0,29.0,5.0,6.0,3.0,4.0,6.0,7.0,8.0,14.0,1.0,6.0,1.0,3.0,6.0,6.0,5.0,7.0,6.0,5.0,2.0,1.0,4.0,1.0],\"yaxis\":\"y\"}],                        {\"legend\":{\"tracegroupgap\":0},\"margin\":{\"t\":60},\"template\":{\"data\":{\"bar\":[{\"error_x\":{\"color\":\"#2a3f5f\"},\"error_y\":{\"color\":\"#2a3f5f\"},\"marker\":{\"line\":{\"color\":\"#E5ECF6\",\"width\":0.5},\"pattern\":{\"fillmode\":\"overlay\",\"size\":10,\"solidity\":0.2}},\"type\":\"bar\"}],\"barpolar\":[{\"marker\":{\"line\":{\"color\":\"#E5ECF6\",\"width\":0.5},\"pattern\":{\"fillmode\":\"overlay\",\"size\":10,\"solidity\":0.2}},\"type\":\"barpolar\"}],\"carpet\":[{\"aaxis\":{\"endlinecolor\":\"#2a3f5f\",\"gridcolor\":\"white\",\"linecolor\":\"white\",\"minorgridcolor\":\"white\",\"startlinecolor\":\"#2a3f5f\"},\"baxis\":{\"endlinecolor\":\"#2a3f5f\",\"gridcolor\":\"white\",\"linecolor\":\"white\",\"minorgridcolor\":\"white\",\"startlinecolor\":\"#2a3f5f\"},\"type\":\"carpet\"}],\"choropleth\":[{\"colorbar\":{\"outlinewidth\":0,\"ticks\":\"\"},\"type\":\"choropleth\"}],\"contour\":[{\"colorbar\":{\"outlinewidth\":0,\"ticks\":\"\"},\"colorscale\":[[0.0,\"#0d0887\"],[0.1111111111111111,\"#46039f\"],[0.2222222222222222,\"#7201a8\"],[0.3333333333333333,\"#9c179e\"],[0.4444444444444444,\"#bd3786\"],[0.5555555555555556,\"#d8576b\"],[0.6666666666666666,\"#ed7953\"],[0.7777777777777778,\"#fb9f3a\"],[0.8888888888888888,\"#fdca26\"],[1.0,\"#f0f921\"]],\"type\":\"contour\"}],\"contourcarpet\":[{\"colorbar\":{\"outlinewidth\":0,\"ticks\":\"\"},\"type\":\"contourcarpet\"}],\"heatmap\":[{\"colorbar\":{\"outlinewidth\":0,\"ticks\":\"\"},\"colorscale\":[[0.0,\"#0d0887\"],[0.1111111111111111,\"#46039f\"],[0.2222222222222222,\"#7201a8\"],[0.3333333333333333,\"#9c179e\"],[0.4444444444444444,\"#bd3786\"],[0.5555555555555556,\"#d8576b\"],[0.6666666666666666,\"#ed7953\"],[0.7777777777777778,\"#fb9f3a\"],[0.8888888888888888,\"#fdca26\"],[1.0,\"#f0f921\"]],\"type\":\"heatmap\"}],\"heatmapgl\":[{\"colorbar\":{\"outlinewidth\":0,\"ticks\":\"\"},\"colorscale\":[[0.0,\"#0d0887\"],[0.1111111111111111,\"#46039f\"],[0.2222222222222222,\"#7201a8\"],[0.3333333333333333,\"#9c179e\"],[0.4444444444444444,\"#bd3786\"],[0.5555555555555556,\"#d8576b\"],[0.6666666666666666,\"#ed7953\"],[0.7777777777777778,\"#fb9f3a\"],[0.8888888888888888,\"#fdca26\"],[1.0,\"#f0f921\"]],\"type\":\"heatmapgl\"}],\"histogram\":[{\"marker\":{\"pattern\":{\"fillmode\":\"overlay\",\"size\":10,\"solidity\":0.2}},\"type\":\"histogram\"}],\"histogram2d\":[{\"colorbar\":{\"outlinewidth\":0,\"ticks\":\"\"},\"colorscale\":[[0.0,\"#0d0887\"],[0.1111111111111111,\"#46039f\"],[0.2222222222222222,\"#7201a8\"],[0.3333333333333333,\"#9c179e\"],[0.4444444444444444,\"#bd3786\"],[0.5555555555555556,\"#d8576b\"],[0.6666666666666666,\"#ed7953\"],[0.7777777777777778,\"#fb9f3a\"],[0.8888888888888888,\"#fdca26\"],[1.0,\"#f0f921\"]],\"type\":\"histogram2d\"}],\"histogram2dcontour\":[{\"colorbar\":{\"outlinewidth\":0,\"ticks\":\"\"},\"colorscale\":[[0.0,\"#0d0887\"],[0.1111111111111111,\"#46039f\"],[0.2222222222222222,\"#7201a8\"],[0.3333333333333333,\"#9c179e\"],[0.4444444444444444,\"#bd3786\"],[0.5555555555555556,\"#d8576b\"],[0.6666666666666666,\"#ed7953\"],[0.7777777777777778,\"#fb9f3a\"],[0.8888888888888888,\"#fdca26\"],[1.0,\"#f0f921\"]],\"type\":\"histogram2dcontour\"}],\"mesh3d\":[{\"colorbar\":{\"outlinewidth\":0,\"ticks\":\"\"},\"type\":\"mesh3d\"}],\"parcoords\":[{\"line\":{\"colorbar\":{\"outlinewidth\":0,\"ticks\":\"\"}},\"type\":\"parcoords\"}],\"pie\":[{\"automargin\":true,\"type\":\"pie\"}],\"scatter\":[{\"marker\":{\"colorbar\":{\"outlinewidth\":0,\"ticks\":\"\"}},\"type\":\"scatter\"}],\"scatter3d\":[{\"line\":{\"colorbar\":{\"outlinewidth\":0,\"ticks\":\"\"}},\"marker\":{\"colorbar\":{\"outlinewidth\":0,\"ticks\":\"\"}},\"type\":\"scatter3d\"}],\"scattercarpet\":[{\"marker\":{\"colorbar\":{\"outlinewidth\":0,\"ticks\":\"\"}},\"type\":\"scattercarpet\"}],\"scattergeo\":[{\"marker\":{\"colorbar\":{\"outlinewidth\":0,\"ticks\":\"\"}},\"type\":\"scattergeo\"}],\"scattergl\":[{\"marker\":{\"colorbar\":{\"outlinewidth\":0,\"ticks\":\"\"}},\"type\":\"scattergl\"}],\"scattermapbox\":[{\"marker\":{\"colorbar\":{\"outlinewidth\":0,\"ticks\":\"\"}},\"type\":\"scattermapbox\"}],\"scatterpolar\":[{\"marker\":{\"colorbar\":{\"outlinewidth\":0,\"ticks\":\"\"}},\"type\":\"scatterpolar\"}],\"scatterpolargl\":[{\"marker\":{\"colorbar\":{\"outlinewidth\":0,\"ticks\":\"\"}},\"type\":\"scatterpolargl\"}],\"scatterternary\":[{\"marker\":{\"colorbar\":{\"outlinewidth\":0,\"ticks\":\"\"}},\"type\":\"scatterternary\"}],\"surface\":[{\"colorbar\":{\"outlinewidth\":0,\"ticks\":\"\"},\"colorscale\":[[0.0,\"#0d0887\"],[0.1111111111111111,\"#46039f\"],[0.2222222222222222,\"#7201a8\"],[0.3333333333333333,\"#9c179e\"],[0.4444444444444444,\"#bd3786\"],[0.5555555555555556,\"#d8576b\"],[0.6666666666666666,\"#ed7953\"],[0.7777777777777778,\"#fb9f3a\"],[0.8888888888888888,\"#fdca26\"],[1.0,\"#f0f921\"]],\"type\":\"surface\"}],\"table\":[{\"cells\":{\"fill\":{\"color\":\"#EBF0F8\"},\"line\":{\"color\":\"white\"}},\"header\":{\"fill\":{\"color\":\"#C8D4E3\"},\"line\":{\"color\":\"white\"}},\"type\":\"table\"}]},\"layout\":{\"annotationdefaults\":{\"arrowcolor\":\"#2a3f5f\",\"arrowhead\":0,\"arrowwidth\":1},\"autotypenumbers\":\"strict\",\"coloraxis\":{\"colorbar\":{\"outlinewidth\":0,\"ticks\":\"\"}},\"colorscale\":{\"diverging\":[[0,\"#8e0152\"],[0.1,\"#c51b7d\"],[0.2,\"#de77ae\"],[0.3,\"#f1b6da\"],[0.4,\"#fde0ef\"],[0.5,\"#f7f7f7\"],[0.6,\"#e6f5d0\"],[0.7,\"#b8e186\"],[0.8,\"#7fbc41\"],[0.9,\"#4d9221\"],[1,\"#276419\"]],\"sequential\":[[0.0,\"#0d0887\"],[0.1111111111111111,\"#46039f\"],[0.2222222222222222,\"#7201a8\"],[0.3333333333333333,\"#9c179e\"],[0.4444444444444444,\"#bd3786\"],[0.5555555555555556,\"#d8576b\"],[0.6666666666666666,\"#ed7953\"],[0.7777777777777778,\"#fb9f3a\"],[0.8888888888888888,\"#fdca26\"],[1.0,\"#f0f921\"]],\"sequentialminus\":[[0.0,\"#0d0887\"],[0.1111111111111111,\"#46039f\"],[0.2222222222222222,\"#7201a8\"],[0.3333333333333333,\"#9c179e\"],[0.4444444444444444,\"#bd3786\"],[0.5555555555555556,\"#d8576b\"],[0.6666666666666666,\"#ed7953\"],[0.7777777777777778,\"#fb9f3a\"],[0.8888888888888888,\"#fdca26\"],[1.0,\"#f0f921\"]]},\"colorway\":[\"#636efa\",\"#EF553B\",\"#00cc96\",\"#ab63fa\",\"#FFA15A\",\"#19d3f3\",\"#FF6692\",\"#B6E880\",\"#FF97FF\",\"#FECB52\"],\"font\":{\"color\":\"#2a3f5f\"},\"geo\":{\"bgcolor\":\"white\",\"lakecolor\":\"white\",\"landcolor\":\"#E5ECF6\",\"showlakes\":true,\"showland\":true,\"subunitcolor\":\"white\"},\"hoverlabel\":{\"align\":\"left\"},\"hovermode\":\"closest\",\"mapbox\":{\"style\":\"light\"},\"paper_bgcolor\":\"white\",\"plot_bgcolor\":\"#E5ECF6\",\"polar\":{\"angularaxis\":{\"gridcolor\":\"white\",\"linecolor\":\"white\",\"ticks\":\"\"},\"bgcolor\":\"#E5ECF6\",\"radialaxis\":{\"gridcolor\":\"white\",\"linecolor\":\"white\",\"ticks\":\"\"}},\"scene\":{\"xaxis\":{\"backgroundcolor\":\"#E5ECF6\",\"gridcolor\":\"white\",\"gridwidth\":2,\"linecolor\":\"white\",\"showbackground\":true,\"ticks\":\"\",\"zerolinecolor\":\"white\"},\"yaxis\":{\"backgroundcolor\":\"#E5ECF6\",\"gridcolor\":\"white\",\"gridwidth\":2,\"linecolor\":\"white\",\"showbackground\":true,\"ticks\":\"\",\"zerolinecolor\":\"white\"},\"zaxis\":{\"backgroundcolor\":\"#E5ECF6\",\"gridcolor\":\"white\",\"gridwidth\":2,\"linecolor\":\"white\",\"showbackground\":true,\"ticks\":\"\",\"zerolinecolor\":\"white\"}},\"shapedefaults\":{\"line\":{\"color\":\"#2a3f5f\"}},\"ternary\":{\"aaxis\":{\"gridcolor\":\"white\",\"linecolor\":\"white\",\"ticks\":\"\"},\"baxis\":{\"gridcolor\":\"white\",\"linecolor\":\"white\",\"ticks\":\"\"},\"bgcolor\":\"#E5ECF6\",\"caxis\":{\"gridcolor\":\"white\",\"linecolor\":\"white\",\"ticks\":\"\"}},\"title\":{\"x\":0.05},\"xaxis\":{\"automargin\":true,\"gridcolor\":\"white\",\"linecolor\":\"white\",\"ticks\":\"\",\"title\":{\"standoff\":15},\"zerolinecolor\":\"white\",\"zerolinewidth\":2},\"yaxis\":{\"automargin\":true,\"gridcolor\":\"white\",\"linecolor\":\"white\",\"ticks\":\"\",\"title\":{\"standoff\":15},\"zerolinecolor\":\"white\",\"zerolinewidth\":2}}},\"xaxis\":{\"anchor\":\"y\",\"domain\":[0.0,1.0],\"title\":{\"text\":\"diff_mean_pct\"}},\"yaxis\":{\"anchor\":\"x\",\"domain\":[0.0,1.0],\"title\":{\"text\":\"qty_order\"}}},                        {\"responsive\": true}                    ).then(function(){\n",
       "                            \n",
       "var gd = document.getElementById('ceffa166-e4e1-4848-883b-0dc89f70f720');\n",
       "var x = new MutationObserver(function (mutations, observer) {{\n",
       "        var display = window.getComputedStyle(gd).display;\n",
       "        if (!display || display === 'none') {{\n",
       "            console.log([gd, 'removed!']);\n",
       "            Plotly.purge(gd);\n",
       "            observer.disconnect();\n",
       "        }}\n",
       "}});\n",
       "\n",
       "// Listen for the removal of the full notebook cells\n",
       "var notebookContainer = gd.closest('#notebook-container');\n",
       "if (notebookContainer) {{\n",
       "    x.observe(notebookContainer, {childList: true});\n",
       "}}\n",
       "\n",
       "// Listen for the clearing of the current output cell\n",
       "var outputEl = gd.closest('.output');\n",
       "if (outputEl) {{\n",
       "    x.observe(outputEl, {childList: true});\n",
       "}}\n",
       "\n",
       "                        })                };                });            </script>        </div>"
      ]
     },
     "metadata": {},
     "output_type": "display_data"
    },
    {
     "data": {
      "application/vnd.plotly.v1+json": {
       "config": {
        "plotlyServerURL": "https://plot.ly"
       },
       "data": [
        {
         "hovertemplate": "diff_mean_pct=%{x}<br>qty_order_log=%{y}<extra></extra>",
         "legendgroup": "",
         "marker": {
          "color": "#636efa",
          "symbol": "circle"
         },
         "mode": "markers",
         "name": "",
         "orientation": "v",
         "showlegend": false,
         "type": "scatter",
         "x": [
          -0.05332416237144819,
          0.004922090892231208,
          -0.06569237212250834,
          -0.04701426292239947,
          -0.011573587435908401,
          0.021663731212372514,
          -0.019578270124762532,
          -0.031025482119602987,
          -0.02748575897028626,
          -0.03982005363521156,
          -0.05202451804705033,
          -0.03178749801979334,
          -0.03355003221909785,
          -0.03758667049253934,
          -0.020823177436447654,
          -0.0360077966491046,
          -0.03191113211149024,
          -0.008919046290413008,
          -0.02306311671533752,
          0.007475993462607935,
          -0.012918129378083173,
          -0.019564218120980834,
          -0.007186659159864589,
          -0.03517692451579976,
          -0.009516987897069616,
          -0.019007452556445592,
          -0.02348154465218214,
          -0.025446431573455244,
          -0.011979419307056679,
          0.02655556895207678,
          0.0431226334100649,
          -0.011133153186984882,
          -0.01707202696010747,
          -0.015094431682520027,
          -0.014807204985959941,
          -0.04085887893832394,
          -0.03063934967108879,
          -0.031878198722566586,
          -0.06231447415874777,
          -0.07484821209572114,
          -0.06960503443471106,
          -0.034789360364064374,
          0.002301759791649427,
          -0.00787474048262625,
          -0.003064188966648459,
          0.029633183049169346,
          0.0557630908464116,
          0.06350336967837387,
          0.03776739569473089,
          0.037288195214611644,
          0.0209846510888236,
          -0.02386982807161654,
          0.004341203351104203,
          -0.0026993620187655844,
          0.015518289251547515,
          0.032585465412931024,
          0.004428909967042527,
          -0.03247667163948319,
          -0.04425241233581125,
          -0.022011766272282223,
          0.04608734268845237,
          0.0300215024109418,
          0.037019550087643724,
          0.002354158666519084,
          0.01929575439833446,
          -0.015907782971534997,
          0.05861407477454637,
          0.03212680367175061,
          0.024468544088379205,
          0.06695245750349785,
          0.03677374046606372,
          0.02725417257686892,
          0.034524672428212874,
          0.0672955377287187,
          0.06350326180004127,
          0.05308851811119012,
          0.059937174303816905,
          0.06813475469229406,
          0.036696650655648706,
          0.08965436582981558,
          0.055586292810962716,
          0.03961325617191662,
          0.06681323788329724,
          0.04288178648465812,
          0.03969118298317118,
          0.035228089110747624,
          0.06859229720150734,
          0.1204906854227384,
          0.09637097811270273,
          0.005130421967873395,
          0.005401729470643663,
          -0.013477835783420183,
          0.004656619794233457,
          0.053636234961075606,
          0.055517482057022574,
          0.04959377723435547,
          0.04733116325654602,
          0.04885852460274813,
          0.027150337837837803,
          0.028020897771190344,
          0.03646544390908804,
          0.012867745207966344,
          0.05257709976409879,
          0.0649523090229136,
          0.06621498969051824,
          0.05582709054663733,
          0.0786210003237748,
          0.09082668187001122,
          -0.021034125415172966,
          -0.040518775837120616,
          -0.025338907893069893,
          -0.002954652451674502,
          0.011129588683970746,
          0.00385395038697596,
          0.0016975994348930325,
          0.01505982353212912,
          0.021736145760430526,
          0.017499464699355764,
          0.007750830257081954,
          0.06526340943640069,
          0.06459217915961542,
          0.014161375530719158,
          0.014588859416445672,
          0.008466208968736379,
          0.011202694435490658,
          0.010108872950892123,
          0.027731432622985015,
          0.06394782293723474,
          0.06138039494620352,
          0.09228653271002965,
          0.09386338007107899,
          0.07632463840650965,
          0.09375376943911627,
          0.0630304496170752,
          0.06842758623438047,
          0.11193808084824027,
          0.027100172152927576,
          0.03817933156660122,
          0.02973586725705208,
          0.11082809861082361,
          0.1365472130885465,
          -0.09501942776404093,
          0.0871305781231603,
          -0.011774402449075657,
          0.09293680297397762,
          0.11438375750643401,
          0.07029565647272072,
          0.16952406867760747,
          -0.04753727168125346,
          0.0036035916362431378,
          0.1559762236107623,
          0.10300916809386819,
          0.03125542982281763,
          0.10572904193646035,
          0.10692819622632967,
          0.06858809318456016,
          0.1767072349875607,
          0.19462330494644067,
          0.23603194544874304,
          0.22782545824117925,
          0.3421721714723229,
          0.22960189418290766,
          0.31607457819415974,
          0.14661733855863596,
          0.05831986318646328,
          0.10278611273646618,
          0.1268385663592683,
          0.18666501146816106,
          0.1567124210969412,
          0.060212078226388605,
          0.04603755750853472,
          0.0016822500826824348,
          0.07429195980289481,
          0.09062179695920643,
          0.02594958438638574,
          0.035414027176794795,
          -0.09123061617002674,
          -0.1104369416081684,
          0.09300424010992248,
          0.08383343151402936,
          0.06393751106609176,
          0.1211863673983669,
          0.12552234309845034,
          0.08784749584235496,
          0.06406637817230917,
          0.04844192282090048,
          -0.00969815583878297,
          0.04623573669668908,
          0.1486465451879672,
          0.04021403256856673,
          0.0890318868856663,
          0.05815807740652496,
          0.061379984200241135,
          0.050512221030512124,
          0.10316519021316183,
          0.07396006215183593,
          0.030768829390992278,
          0.008577960044423854,
          0.0007074652591681456,
          -0.971095631810081
         ],
         "xaxis": "x",
         "y": [
          2.833213344056216,
          2.8903717578961645,
          2.9444389791664403,
          2.70805020110221,
          2.3978952727983707,
          1.791759469228055,
          2.0794415416798357,
          1.791759469228055,
          2.302585092994046,
          2.302585092994046,
          1.3862943611198906,
          2.302585092994046,
          1.791759469228055,
          2.833213344056216,
          1.9459101490553132,
          2.0794415416798357,
          2.3978952727983707,
          1.791759469228055,
          1.6094379124341003,
          0.6931471805599453,
          2.1972245773362196,
          2.302585092994046,
          2.772588722239781,
          2.1972245773362196,
          2.1972245773362196,
          2.70805020110221,
          2.70805020110221,
          3.4965075614664802,
          3.5553480614894135,
          2.1972245773362196,
          1.9459101490553132,
          2.6390573296152584,
          3.1354942159291497,
          2.70805020110221,
          2.0794415416798357,
          3.332204510175204,
          2.6390573296152584,
          2.5649493574615367,
          2.772588722239781,
          3.1354942159291497,
          2.302585092994046,
          2.1972245773362196,
          1.3862943611198906,
          2.5649493574615367,
          2.995732273553991,
          1.6094379124341003,
          1.0986122886681098,
          0,
          2.4849066497880004,
          2.833213344056216,
          2.4849066497880004,
          2.6390573296152584,
          2.1972245773362196,
          2.1972245773362196,
          1.9459101490553132,
          2.833213344056216,
          3.1354942159291497,
          2.8903717578961645,
          2.995732273553991,
          2.833213344056216,
          2.772588722239781,
          3.091042453358316,
          2.3978952727983707,
          2.4849066497880004,
          2.70805020110221,
          2.302585092994046,
          1.9459101490553132,
          3.1780538303479458,
          3.044522437723423,
          0,
          1.791759469228055,
          1.9459101490553132,
          0.6931471805599453,
          0.6931471805599453,
          2.4849066497880004,
          1.9459101490553132,
          1.791759469228055,
          1.791759469228055,
          1.6094379124341003,
          2.3978952727983707,
          1.791759469228055,
          1.3862943611198906,
          1.0986122886681098,
          1.6094379124341003,
          1.791759469228055,
          1.791759469228055,
          1.3862943611198906,
          2.0794415416798357,
          0.6931471805599453,
          0.6931471805599453,
          1.0986122886681098,
          3.1354942159291497,
          3.332204510175204,
          2.8903717578961645,
          1.6094379124341003,
          2.3978952727983707,
          2.0794415416798357,
          2.6390573296152584,
          2.302585092994046,
          2.70805020110221,
          1.791759469228055,
          1.6094379124341003,
          2.1972245773362196,
          1.3862943611198906,
          1.6094379124341003,
          2.70805020110221,
          2.1972245773362196,
          2.4849066497880004,
          3.091042453358316,
          3.1780538303479458,
          3.4339872044851463,
          4.04305126783455,
          3.8066624897703196,
          3.6888794541139363,
          3.713572066704308,
          3.6375861597263857,
          3.332204510175204,
          3.295836866004329,
          3.5553480614894135,
          3.6375861597263857,
          3.6375861597263857,
          3.044522437723423,
          3.367295829986474,
          3.6109179126442243,
          3.4965075614664802,
          3.9889840465642745,
          3.784189633918261,
          3.044522437723423,
          2.3978952727983707,
          1.791759469228055,
          2.1972245773362196,
          1.9459101490553132,
          2.1972245773362196,
          2.0794415416798357,
          1.9459101490553132,
          1.9459101490553132,
          3.1354942159291497,
          3.044522437723423,
          2.3978952727983707,
          1.6094379124341003,
          1.9459101490553132,
          1.0986122886681098,
          0.6931471805599453,
          0,
          1.3862943611198906,
          1.0986122886681098,
          1.0986122886681098,
          0.6931471805599453,
          2.3978952727983707,
          2.8903717578961645,
          2.0794415416798357,
          1.791759469228055,
          1.9459101490553132,
          1.791759469228055,
          1.791759469228055,
          1.0986122886681098,
          1.0986122886681098,
          0,
          0.6931471805599453,
          1.6094379124341003,
          0.6931471805599453,
          2.0794415416798357,
          2.8903717578961645,
          2.70805020110221,
          1.791759469228055,
          2.0794415416798357,
          0.6931471805599453,
          1.0986122886681098,
          0,
          1.6094379124341003,
          2.0794415416798357,
          2.3978952727983707,
          1.3862943611198906,
          0,
          1.6094379124341003,
          0.6931471805599453,
          1.9459101490553132,
          3.367295829986474,
          1.6094379124341003,
          1.791759469228055,
          1.0986122886681098,
          1.3862943611198906,
          1.791759469228055,
          1.9459101490553132,
          2.0794415416798357,
          2.6390573296152584,
          0,
          1.791759469228055,
          0,
          1.0986122886681098,
          1.791759469228055,
          1.791759469228055,
          1.6094379124341003,
          1.9459101490553132,
          1.791759469228055,
          1.6094379124341003,
          0.6931471805599453,
          0,
          1.3862943611198906,
          0
         ],
         "yaxis": "y"
        }
       ],
       "layout": {
        "autosize": true,
        "legend": {
         "tracegroupgap": 0
        },
        "margin": {
         "t": 60
        },
        "template": {
         "data": {
          "bar": [
           {
            "error_x": {
             "color": "#2a3f5f"
            },
            "error_y": {
             "color": "#2a3f5f"
            },
            "marker": {
             "line": {
              "color": "#E5ECF6",
              "width": 0.5
             },
             "pattern": {
              "fillmode": "overlay",
              "size": 10,
              "solidity": 0.2
             }
            },
            "type": "bar"
           }
          ],
          "barpolar": [
           {
            "marker": {
             "line": {
              "color": "#E5ECF6",
              "width": 0.5
             },
             "pattern": {
              "fillmode": "overlay",
              "size": 10,
              "solidity": 0.2
             }
            },
            "type": "barpolar"
           }
          ],
          "carpet": [
           {
            "aaxis": {
             "endlinecolor": "#2a3f5f",
             "gridcolor": "white",
             "linecolor": "white",
             "minorgridcolor": "white",
             "startlinecolor": "#2a3f5f"
            },
            "baxis": {
             "endlinecolor": "#2a3f5f",
             "gridcolor": "white",
             "linecolor": "white",
             "minorgridcolor": "white",
             "startlinecolor": "#2a3f5f"
            },
            "type": "carpet"
           }
          ],
          "choropleth": [
           {
            "colorbar": {
             "outlinewidth": 0,
             "ticks": ""
            },
            "type": "choropleth"
           }
          ],
          "contour": [
           {
            "colorbar": {
             "outlinewidth": 0,
             "ticks": ""
            },
            "colorscale": [
             [
              0,
              "#0d0887"
             ],
             [
              0.1111111111111111,
              "#46039f"
             ],
             [
              0.2222222222222222,
              "#7201a8"
             ],
             [
              0.3333333333333333,
              "#9c179e"
             ],
             [
              0.4444444444444444,
              "#bd3786"
             ],
             [
              0.5555555555555556,
              "#d8576b"
             ],
             [
              0.6666666666666666,
              "#ed7953"
             ],
             [
              0.7777777777777778,
              "#fb9f3a"
             ],
             [
              0.8888888888888888,
              "#fdca26"
             ],
             [
              1,
              "#f0f921"
             ]
            ],
            "type": "contour"
           }
          ],
          "contourcarpet": [
           {
            "colorbar": {
             "outlinewidth": 0,
             "ticks": ""
            },
            "type": "contourcarpet"
           }
          ],
          "heatmap": [
           {
            "colorbar": {
             "outlinewidth": 0,
             "ticks": ""
            },
            "colorscale": [
             [
              0,
              "#0d0887"
             ],
             [
              0.1111111111111111,
              "#46039f"
             ],
             [
              0.2222222222222222,
              "#7201a8"
             ],
             [
              0.3333333333333333,
              "#9c179e"
             ],
             [
              0.4444444444444444,
              "#bd3786"
             ],
             [
              0.5555555555555556,
              "#d8576b"
             ],
             [
              0.6666666666666666,
              "#ed7953"
             ],
             [
              0.7777777777777778,
              "#fb9f3a"
             ],
             [
              0.8888888888888888,
              "#fdca26"
             ],
             [
              1,
              "#f0f921"
             ]
            ],
            "type": "heatmap"
           }
          ],
          "heatmapgl": [
           {
            "colorbar": {
             "outlinewidth": 0,
             "ticks": ""
            },
            "colorscale": [
             [
              0,
              "#0d0887"
             ],
             [
              0.1111111111111111,
              "#46039f"
             ],
             [
              0.2222222222222222,
              "#7201a8"
             ],
             [
              0.3333333333333333,
              "#9c179e"
             ],
             [
              0.4444444444444444,
              "#bd3786"
             ],
             [
              0.5555555555555556,
              "#d8576b"
             ],
             [
              0.6666666666666666,
              "#ed7953"
             ],
             [
              0.7777777777777778,
              "#fb9f3a"
             ],
             [
              0.8888888888888888,
              "#fdca26"
             ],
             [
              1,
              "#f0f921"
             ]
            ],
            "type": "heatmapgl"
           }
          ],
          "histogram": [
           {
            "marker": {
             "pattern": {
              "fillmode": "overlay",
              "size": 10,
              "solidity": 0.2
             }
            },
            "type": "histogram"
           }
          ],
          "histogram2d": [
           {
            "colorbar": {
             "outlinewidth": 0,
             "ticks": ""
            },
            "colorscale": [
             [
              0,
              "#0d0887"
             ],
             [
              0.1111111111111111,
              "#46039f"
             ],
             [
              0.2222222222222222,
              "#7201a8"
             ],
             [
              0.3333333333333333,
              "#9c179e"
             ],
             [
              0.4444444444444444,
              "#bd3786"
             ],
             [
              0.5555555555555556,
              "#d8576b"
             ],
             [
              0.6666666666666666,
              "#ed7953"
             ],
             [
              0.7777777777777778,
              "#fb9f3a"
             ],
             [
              0.8888888888888888,
              "#fdca26"
             ],
             [
              1,
              "#f0f921"
             ]
            ],
            "type": "histogram2d"
           }
          ],
          "histogram2dcontour": [
           {
            "colorbar": {
             "outlinewidth": 0,
             "ticks": ""
            },
            "colorscale": [
             [
              0,
              "#0d0887"
             ],
             [
              0.1111111111111111,
              "#46039f"
             ],
             [
              0.2222222222222222,
              "#7201a8"
             ],
             [
              0.3333333333333333,
              "#9c179e"
             ],
             [
              0.4444444444444444,
              "#bd3786"
             ],
             [
              0.5555555555555556,
              "#d8576b"
             ],
             [
              0.6666666666666666,
              "#ed7953"
             ],
             [
              0.7777777777777778,
              "#fb9f3a"
             ],
             [
              0.8888888888888888,
              "#fdca26"
             ],
             [
              1,
              "#f0f921"
             ]
            ],
            "type": "histogram2dcontour"
           }
          ],
          "mesh3d": [
           {
            "colorbar": {
             "outlinewidth": 0,
             "ticks": ""
            },
            "type": "mesh3d"
           }
          ],
          "parcoords": [
           {
            "line": {
             "colorbar": {
              "outlinewidth": 0,
              "ticks": ""
             }
            },
            "type": "parcoords"
           }
          ],
          "pie": [
           {
            "automargin": true,
            "type": "pie"
           }
          ],
          "scatter": [
           {
            "marker": {
             "colorbar": {
              "outlinewidth": 0,
              "ticks": ""
             }
            },
            "type": "scatter"
           }
          ],
          "scatter3d": [
           {
            "line": {
             "colorbar": {
              "outlinewidth": 0,
              "ticks": ""
             }
            },
            "marker": {
             "colorbar": {
              "outlinewidth": 0,
              "ticks": ""
             }
            },
            "type": "scatter3d"
           }
          ],
          "scattercarpet": [
           {
            "marker": {
             "colorbar": {
              "outlinewidth": 0,
              "ticks": ""
             }
            },
            "type": "scattercarpet"
           }
          ],
          "scattergeo": [
           {
            "marker": {
             "colorbar": {
              "outlinewidth": 0,
              "ticks": ""
             }
            },
            "type": "scattergeo"
           }
          ],
          "scattergl": [
           {
            "marker": {
             "colorbar": {
              "outlinewidth": 0,
              "ticks": ""
             }
            },
            "type": "scattergl"
           }
          ],
          "scattermapbox": [
           {
            "marker": {
             "colorbar": {
              "outlinewidth": 0,
              "ticks": ""
             }
            },
            "type": "scattermapbox"
           }
          ],
          "scatterpolar": [
           {
            "marker": {
             "colorbar": {
              "outlinewidth": 0,
              "ticks": ""
             }
            },
            "type": "scatterpolar"
           }
          ],
          "scatterpolargl": [
           {
            "marker": {
             "colorbar": {
              "outlinewidth": 0,
              "ticks": ""
             }
            },
            "type": "scatterpolargl"
           }
          ],
          "scatterternary": [
           {
            "marker": {
             "colorbar": {
              "outlinewidth": 0,
              "ticks": ""
             }
            },
            "type": "scatterternary"
           }
          ],
          "surface": [
           {
            "colorbar": {
             "outlinewidth": 0,
             "ticks": ""
            },
            "colorscale": [
             [
              0,
              "#0d0887"
             ],
             [
              0.1111111111111111,
              "#46039f"
             ],
             [
              0.2222222222222222,
              "#7201a8"
             ],
             [
              0.3333333333333333,
              "#9c179e"
             ],
             [
              0.4444444444444444,
              "#bd3786"
             ],
             [
              0.5555555555555556,
              "#d8576b"
             ],
             [
              0.6666666666666666,
              "#ed7953"
             ],
             [
              0.7777777777777778,
              "#fb9f3a"
             ],
             [
              0.8888888888888888,
              "#fdca26"
             ],
             [
              1,
              "#f0f921"
             ]
            ],
            "type": "surface"
           }
          ],
          "table": [
           {
            "cells": {
             "fill": {
              "color": "#EBF0F8"
             },
             "line": {
              "color": "white"
             }
            },
            "header": {
             "fill": {
              "color": "#C8D4E3"
             },
             "line": {
              "color": "white"
             }
            },
            "type": "table"
           }
          ]
         },
         "layout": {
          "annotationdefaults": {
           "arrowcolor": "#2a3f5f",
           "arrowhead": 0,
           "arrowwidth": 1
          },
          "autotypenumbers": "strict",
          "coloraxis": {
           "colorbar": {
            "outlinewidth": 0,
            "ticks": ""
           }
          },
          "colorscale": {
           "diverging": [
            [
             0,
             "#8e0152"
            ],
            [
             0.1,
             "#c51b7d"
            ],
            [
             0.2,
             "#de77ae"
            ],
            [
             0.3,
             "#f1b6da"
            ],
            [
             0.4,
             "#fde0ef"
            ],
            [
             0.5,
             "#f7f7f7"
            ],
            [
             0.6,
             "#e6f5d0"
            ],
            [
             0.7,
             "#b8e186"
            ],
            [
             0.8,
             "#7fbc41"
            ],
            [
             0.9,
             "#4d9221"
            ],
            [
             1,
             "#276419"
            ]
           ],
           "sequential": [
            [
             0,
             "#0d0887"
            ],
            [
             0.1111111111111111,
             "#46039f"
            ],
            [
             0.2222222222222222,
             "#7201a8"
            ],
            [
             0.3333333333333333,
             "#9c179e"
            ],
            [
             0.4444444444444444,
             "#bd3786"
            ],
            [
             0.5555555555555556,
             "#d8576b"
            ],
            [
             0.6666666666666666,
             "#ed7953"
            ],
            [
             0.7777777777777778,
             "#fb9f3a"
            ],
            [
             0.8888888888888888,
             "#fdca26"
            ],
            [
             1,
             "#f0f921"
            ]
           ],
           "sequentialminus": [
            [
             0,
             "#0d0887"
            ],
            [
             0.1111111111111111,
             "#46039f"
            ],
            [
             0.2222222222222222,
             "#7201a8"
            ],
            [
             0.3333333333333333,
             "#9c179e"
            ],
            [
             0.4444444444444444,
             "#bd3786"
            ],
            [
             0.5555555555555556,
             "#d8576b"
            ],
            [
             0.6666666666666666,
             "#ed7953"
            ],
            [
             0.7777777777777778,
             "#fb9f3a"
            ],
            [
             0.8888888888888888,
             "#fdca26"
            ],
            [
             1,
             "#f0f921"
            ]
           ]
          },
          "colorway": [
           "#636efa",
           "#EF553B",
           "#00cc96",
           "#ab63fa",
           "#FFA15A",
           "#19d3f3",
           "#FF6692",
           "#B6E880",
           "#FF97FF",
           "#FECB52"
          ],
          "font": {
           "color": "#2a3f5f"
          },
          "geo": {
           "bgcolor": "white",
           "lakecolor": "white",
           "landcolor": "#E5ECF6",
           "showlakes": true,
           "showland": true,
           "subunitcolor": "white"
          },
          "hoverlabel": {
           "align": "left"
          },
          "hovermode": "closest",
          "mapbox": {
           "style": "light"
          },
          "paper_bgcolor": "white",
          "plot_bgcolor": "#E5ECF6",
          "polar": {
           "angularaxis": {
            "gridcolor": "white",
            "linecolor": "white",
            "ticks": ""
           },
           "bgcolor": "#E5ECF6",
           "radialaxis": {
            "gridcolor": "white",
            "linecolor": "white",
            "ticks": ""
           }
          },
          "scene": {
           "xaxis": {
            "backgroundcolor": "#E5ECF6",
            "gridcolor": "white",
            "gridwidth": 2,
            "linecolor": "white",
            "showbackground": true,
            "ticks": "",
            "zerolinecolor": "white"
           },
           "yaxis": {
            "backgroundcolor": "#E5ECF6",
            "gridcolor": "white",
            "gridwidth": 2,
            "linecolor": "white",
            "showbackground": true,
            "ticks": "",
            "zerolinecolor": "white"
           },
           "zaxis": {
            "backgroundcolor": "#E5ECF6",
            "gridcolor": "white",
            "gridwidth": 2,
            "linecolor": "white",
            "showbackground": true,
            "ticks": "",
            "zerolinecolor": "white"
           }
          },
          "shapedefaults": {
           "line": {
            "color": "#2a3f5f"
           }
          },
          "ternary": {
           "aaxis": {
            "gridcolor": "white",
            "linecolor": "white",
            "ticks": ""
           },
           "baxis": {
            "gridcolor": "white",
            "linecolor": "white",
            "ticks": ""
           },
           "bgcolor": "#E5ECF6",
           "caxis": {
            "gridcolor": "white",
            "linecolor": "white",
            "ticks": ""
           }
          },
          "title": {
           "x": 0.05
          },
          "xaxis": {
           "automargin": true,
           "gridcolor": "white",
           "linecolor": "white",
           "ticks": "",
           "title": {
            "standoff": 15
           },
           "zerolinecolor": "white",
           "zerolinewidth": 2
          },
          "yaxis": {
           "automargin": true,
           "gridcolor": "white",
           "linecolor": "white",
           "ticks": "",
           "title": {
            "standoff": 15
           },
           "zerolinecolor": "white",
           "zerolinewidth": 2
          }
         }
        },
        "xaxis": {
         "anchor": "y",
         "autorange": true,
         "domain": [
          0,
          1
         ],
         "range": [
          -1.0531340137473342,
          0.42421055340957603
         ],
         "title": {
          "text": "diff_mean_pct"
         },
         "type": "linear"
        },
        "yaxis": {
         "anchor": "x",
         "autorange": true,
         "domain": [
          0,
          1
         ],
         "range": [
          -0.31304465197144155,
          4.356095919805992
         ],
         "title": {
          "text": "qty_order_log"
         },
         "type": "linear"
        }
       }
      },
      "image/png": "[encoded data removed]",
      "text/html": [
       "<div>                            <div id=\"18a931e2-0b93-4d6d-9371-d41982e349f9\" class=\"plotly-graph-div\" style=\"height:525px; width:100%;\"></div>            <script type=\"text/javascript\">                require([\"plotly\"], function(Plotly) {                    window.PLOTLYENV=window.PLOTLYENV || {};                                    if (document.getElementById(\"18a931e2-0b93-4d6d-9371-d41982e349f9\")) {                    Plotly.newPlot(                        \"18a931e2-0b93-4d6d-9371-d41982e349f9\",                        [{\"hovertemplate\":\"diff_mean_pct=%{x}<br>qty_order_log=%{y}<extra></extra>\",\"legendgroup\":\"\",\"marker\":{\"color\":\"#636efa\",\"symbol\":\"circle\"},\"mode\":\"markers\",\"name\":\"\",\"orientation\":\"v\",\"showlegend\":false,\"type\":\"scatter\",\"x\":[-0.05332416237144819,0.004922090892231208,-0.06569237212250834,-0.04701426292239947,-0.011573587435908401,0.021663731212372514,-0.019578270124762532,-0.031025482119602987,-0.02748575897028626,-0.03982005363521156,-0.05202451804705033,-0.03178749801979334,-0.03355003221909785,-0.03758667049253934,-0.020823177436447654,-0.0360077966491046,-0.03191113211149024,-0.008919046290413008,-0.02306311671533752,0.007475993462607935,-0.012918129378083173,-0.019564218120980834,-0.007186659159864589,-0.03517692451579976,-0.009516987897069616,-0.019007452556445592,-0.02348154465218214,-0.025446431573455244,-0.011979419307056679,0.02655556895207678,0.0431226334100649,-0.011133153186984882,-0.01707202696010747,-0.015094431682520027,-0.014807204985959941,-0.04085887893832394,-0.03063934967108879,-0.031878198722566586,-0.06231447415874777,-0.07484821209572114,-0.06960503443471106,-0.034789360364064374,0.002301759791649427,-0.00787474048262625,-0.003064188966648459,0.029633183049169346,0.0557630908464116,0.06350336967837387,0.03776739569473089,0.037288195214611644,0.0209846510888236,-0.02386982807161654,0.004341203351104203,-0.0026993620187655844,0.015518289251547515,0.032585465412931024,0.004428909967042527,-0.03247667163948319,-0.04425241233581125,-0.022011766272282223,0.04608734268845237,0.0300215024109418,0.037019550087643724,0.002354158666519084,0.01929575439833446,-0.015907782971534997,0.05861407477454637,0.03212680367175061,0.024468544088379205,0.06695245750349785,0.03677374046606372,0.02725417257686892,0.034524672428212874,0.0672955377287187,0.06350326180004127,0.05308851811119012,0.059937174303816905,0.06813475469229406,0.036696650655648706,0.08965436582981558,0.055586292810962716,0.03961325617191662,0.06681323788329724,0.04288178648465812,0.03969118298317118,0.035228089110747624,0.06859229720150734,0.1204906854227384,0.09637097811270273,0.005130421967873395,0.005401729470643663,-0.013477835783420183,0.004656619794233457,0.053636234961075606,0.055517482057022574,0.04959377723435547,0.04733116325654602,0.04885852460274813,0.027150337837837803,0.028020897771190344,0.03646544390908804,0.012867745207966344,0.05257709976409879,0.0649523090229136,0.06621498969051824,0.05582709054663733,0.0786210003237748,0.09082668187001122,-0.021034125415172966,-0.040518775837120616,-0.025338907893069893,-0.002954652451674502,0.011129588683970746,0.00385395038697596,0.0016975994348930325,0.01505982353212912,0.021736145760430526,0.017499464699355764,0.007750830257081954,0.06526340943640069,0.06459217915961542,0.014161375530719158,0.014588859416445672,0.008466208968736379,0.011202694435490658,0.010108872950892123,0.027731432622985015,0.06394782293723474,0.06138039494620352,0.09228653271002965,0.09386338007107899,0.07632463840650965,0.09375376943911627,0.0630304496170752,0.06842758623438047,0.11193808084824027,0.027100172152927576,0.03817933156660122,0.02973586725705208,0.11082809861082361,0.1365472130885465,-0.09501942776404093,0.0871305781231603,-0.011774402449075657,0.09293680297397762,0.11438375750643401,0.07029565647272072,0.16952406867760747,-0.04753727168125346,0.0036035916362431378,0.1559762236107623,0.10300916809386819,0.03125542982281763,0.10572904193646035,0.10692819622632967,0.06858809318456016,0.1767072349875607,0.19462330494644067,0.23603194544874304,0.22782545824117925,0.3421721714723229,0.22960189418290766,0.31607457819415974,0.14661733855863596,0.05831986318646328,0.10278611273646618,0.1268385663592683,0.18666501146816106,0.1567124210969412,0.060212078226388605,0.04603755750853472,0.0016822500826824348,0.07429195980289481,0.09062179695920643,0.02594958438638574,0.035414027176794795,-0.09123061617002674,-0.1104369416081684,0.09300424010992248,0.08383343151402936,0.06393751106609176,0.1211863673983669,0.12552234309845034,0.08784749584235496,0.06406637817230917,0.04844192282090048,-0.00969815583878297,0.04623573669668908,0.1486465451879672,0.04021403256856673,0.0890318868856663,0.05815807740652496,0.061379984200241135,0.050512221030512124,0.10316519021316183,0.07396006215183593,0.030768829390992278,0.008577960044423854,0.0007074652591681456,-0.971095631810081],\"xaxis\":\"x\",\"y\":[2.833213344056216,2.8903717578961645,2.9444389791664403,2.70805020110221,2.3978952727983707,1.791759469228055,2.0794415416798357,1.791759469228055,2.302585092994046,2.302585092994046,1.3862943611198906,2.302585092994046,1.791759469228055,2.833213344056216,1.9459101490553132,2.0794415416798357,2.3978952727983707,1.791759469228055,1.6094379124341003,0.6931471805599453,2.1972245773362196,2.302585092994046,2.772588722239781,2.1972245773362196,2.1972245773362196,2.70805020110221,2.70805020110221,3.4965075614664802,3.5553480614894135,2.1972245773362196,1.9459101490553132,2.6390573296152584,3.1354942159291497,2.70805020110221,2.0794415416798357,3.332204510175204,2.6390573296152584,2.5649493574615367,2.772588722239781,3.1354942159291497,2.302585092994046,2.1972245773362196,1.3862943611198906,2.5649493574615367,2.995732273553991,1.6094379124341003,1.0986122886681098,0.0,2.4849066497880004,2.833213344056216,2.4849066497880004,2.6390573296152584,2.1972245773362196,2.1972245773362196,1.9459101490553132,2.833213344056216,3.1354942159291497,2.8903717578961645,2.995732273553991,2.833213344056216,2.772588722239781,3.091042453358316,2.3978952727983707,2.4849066497880004,2.70805020110221,2.302585092994046,1.9459101490553132,3.1780538303479458,3.044522437723423,0.0,1.791759469228055,1.9459101490553132,0.6931471805599453,0.6931471805599453,2.4849066497880004,1.9459101490553132,1.791759469228055,1.791759469228055,1.6094379124341003,2.3978952727983707,1.791759469228055,1.3862943611198906,1.0986122886681098,1.6094379124341003,1.791759469228055,1.791759469228055,1.3862943611198906,2.0794415416798357,0.6931471805599453,0.6931471805599453,1.0986122886681098,3.1354942159291497,3.332204510175204,2.8903717578961645,1.6094379124341003,2.3978952727983707,2.0794415416798357,2.6390573296152584,2.302585092994046,2.70805020110221,1.791759469228055,1.6094379124341003,2.1972245773362196,1.3862943611198906,1.6094379124341003,2.70805020110221,2.1972245773362196,2.4849066497880004,3.091042453358316,3.1780538303479458,3.4339872044851463,4.04305126783455,3.8066624897703196,3.6888794541139363,3.713572066704308,3.6375861597263857,3.332204510175204,3.295836866004329,3.5553480614894135,3.6375861597263857,3.6375861597263857,3.044522437723423,3.367295829986474,3.6109179126442243,3.4965075614664802,3.9889840465642745,3.784189633918261,3.044522437723423,2.3978952727983707,1.791759469228055,2.1972245773362196,1.9459101490553132,2.1972245773362196,2.0794415416798357,1.9459101490553132,1.9459101490553132,3.1354942159291497,3.044522437723423,2.3978952727983707,1.6094379124341003,1.9459101490553132,1.0986122886681098,0.6931471805599453,0.0,1.3862943611198906,1.0986122886681098,1.0986122886681098,0.6931471805599453,2.3978952727983707,2.8903717578961645,2.0794415416798357,1.791759469228055,1.9459101490553132,1.791759469228055,1.791759469228055,1.0986122886681098,1.0986122886681098,0.0,0.6931471805599453,1.6094379124341003,0.6931471805599453,2.0794415416798357,2.8903717578961645,2.70805020110221,1.791759469228055,2.0794415416798357,0.6931471805599453,1.0986122886681098,0.0,1.6094379124341003,2.0794415416798357,2.3978952727983707,1.3862943611198906,0.0,1.6094379124341003,0.6931471805599453,1.9459101490553132,3.367295829986474,1.6094379124341003,1.791759469228055,1.0986122886681098,1.3862943611198906,1.791759469228055,1.9459101490553132,2.0794415416798357,2.6390573296152584,0.0,1.791759469228055,0.0,1.0986122886681098,1.791759469228055,1.791759469228055,1.6094379124341003,1.9459101490553132,1.791759469228055,1.6094379124341003,0.6931471805599453,0.0,1.3862943611198906,0.0],\"yaxis\":\"y\"}],                        {\"legend\":{\"tracegroupgap\":0},\"margin\":{\"t\":60},\"template\":{\"data\":{\"bar\":[{\"error_x\":{\"color\":\"#2a3f5f\"},\"error_y\":{\"color\":\"#2a3f5f\"},\"marker\":{\"line\":{\"color\":\"#E5ECF6\",\"width\":0.5},\"pattern\":{\"fillmode\":\"overlay\",\"size\":10,\"solidity\":0.2}},\"type\":\"bar\"}],\"barpolar\":[{\"marker\":{\"line\":{\"color\":\"#E5ECF6\",\"width\":0.5},\"pattern\":{\"fillmode\":\"overlay\",\"size\":10,\"solidity\":0.2}},\"type\":\"barpolar\"}],\"carpet\":[{\"aaxis\":{\"endlinecolor\":\"#2a3f5f\",\"gridcolor\":\"white\",\"linecolor\":\"white\",\"minorgridcolor\":\"white\",\"startlinecolor\":\"#2a3f5f\"},\"baxis\":{\"endlinecolor\":\"#2a3f5f\",\"gridcolor\":\"white\",\"linecolor\":\"white\",\"minorgridcolor\":\"white\",\"startlinecolor\":\"#2a3f5f\"},\"type\":\"carpet\"}],\"choropleth\":[{\"colorbar\":{\"outlinewidth\":0,\"ticks\":\"\"},\"type\":\"choropleth\"}],\"contour\":[{\"colorbar\":{\"outlinewidth\":0,\"ticks\":\"\"},\"colorscale\":[[0.0,\"#0d0887\"],[0.1111111111111111,\"#46039f\"],[0.2222222222222222,\"#7201a8\"],[0.3333333333333333,\"#9c179e\"],[0.4444444444444444,\"#bd3786\"],[0.5555555555555556,\"#d8576b\"],[0.6666666666666666,\"#ed7953\"],[0.7777777777777778,\"#fb9f3a\"],[0.8888888888888888,\"#fdca26\"],[1.0,\"#f0f921\"]],\"type\":\"contour\"}],\"contourcarpet\":[{\"colorbar\":{\"outlinewidth\":0,\"ticks\":\"\"},\"type\":\"contourcarpet\"}],\"heatmap\":[{\"colorbar\":{\"outlinewidth\":0,\"ticks\":\"\"},\"colorscale\":[[0.0,\"#0d0887\"],[0.1111111111111111,\"#46039f\"],[0.2222222222222222,\"#7201a8\"],[0.3333333333333333,\"#9c179e\"],[0.4444444444444444,\"#bd3786\"],[0.5555555555555556,\"#d8576b\"],[0.6666666666666666,\"#ed7953\"],[0.7777777777777778,\"#fb9f3a\"],[0.8888888888888888,\"#fdca26\"],[1.0,\"#f0f921\"]],\"type\":\"heatmap\"}],\"heatmapgl\":[{\"colorbar\":{\"outlinewidth\":0,\"ticks\":\"\"},\"colorscale\":[[0.0,\"#0d0887\"],[0.1111111111111111,\"#46039f\"],[0.2222222222222222,\"#7201a8\"],[0.3333333333333333,\"#9c179e\"],[0.4444444444444444,\"#bd3786\"],[0.5555555555555556,\"#d8576b\"],[0.6666666666666666,\"#ed7953\"],[0.7777777777777778,\"#fb9f3a\"],[0.8888888888888888,\"#fdca26\"],[1.0,\"#f0f921\"]],\"type\":\"heatmapgl\"}],\"histogram\":[{\"marker\":{\"pattern\":{\"fillmode\":\"overlay\",\"size\":10,\"solidity\":0.2}},\"type\":\"histogram\"}],\"histogram2d\":[{\"colorbar\":{\"outlinewidth\":0,\"ticks\":\"\"},\"colorscale\":[[0.0,\"#0d0887\"],[0.1111111111111111,\"#46039f\"],[0.2222222222222222,\"#7201a8\"],[0.3333333333333333,\"#9c179e\"],[0.4444444444444444,\"#bd3786\"],[0.5555555555555556,\"#d8576b\"],[0.6666666666666666,\"#ed7953\"],[0.7777777777777778,\"#fb9f3a\"],[0.8888888888888888,\"#fdca26\"],[1.0,\"#f0f921\"]],\"type\":\"histogram2d\"}],\"histogram2dcontour\":[{\"colorbar\":{\"outlinewidth\":0,\"ticks\":\"\"},\"colorscale\":[[0.0,\"#0d0887\"],[0.1111111111111111,\"#46039f\"],[0.2222222222222222,\"#7201a8\"],[0.3333333333333333,\"#9c179e\"],[0.4444444444444444,\"#bd3786\"],[0.5555555555555556,\"#d8576b\"],[0.6666666666666666,\"#ed7953\"],[0.7777777777777778,\"#fb9f3a\"],[0.8888888888888888,\"#fdca26\"],[1.0,\"#f0f921\"]],\"type\":\"histogram2dcontour\"}],\"mesh3d\":[{\"colorbar\":{\"outlinewidth\":0,\"ticks\":\"\"},\"type\":\"mesh3d\"}],\"parcoords\":[{\"line\":{\"colorbar\":{\"outlinewidth\":0,\"ticks\":\"\"}},\"type\":\"parcoords\"}],\"pie\":[{\"automargin\":true,\"type\":\"pie\"}],\"scatter\":[{\"marker\":{\"colorbar\":{\"outlinewidth\":0,\"ticks\":\"\"}},\"type\":\"scatter\"}],\"scatter3d\":[{\"line\":{\"colorbar\":{\"outlinewidth\":0,\"ticks\":\"\"}},\"marker\":{\"colorbar\":{\"outlinewidth\":0,\"ticks\":\"\"}},\"type\":\"scatter3d\"}],\"scattercarpet\":[{\"marker\":{\"colorbar\":{\"outlinewidth\":0,\"ticks\":\"\"}},\"type\":\"scattercarpet\"}],\"scattergeo\":[{\"marker\":{\"colorbar\":{\"outlinewidth\":0,\"ticks\":\"\"}},\"type\":\"scattergeo\"}],\"scattergl\":[{\"marker\":{\"colorbar\":{\"outlinewidth\":0,\"ticks\":\"\"}},\"type\":\"scattergl\"}],\"scattermapbox\":[{\"marker\":{\"colorbar\":{\"outlinewidth\":0,\"ticks\":\"\"}},\"type\":\"scattermapbox\"}],\"scatterpolar\":[{\"marker\":{\"colorbar\":{\"outlinewidth\":0,\"ticks\":\"\"}},\"type\":\"scatterpolar\"}],\"scatterpolargl\":[{\"marker\":{\"colorbar\":{\"outlinewidth\":0,\"ticks\":\"\"}},\"type\":\"scatterpolargl\"}],\"scatterternary\":[{\"marker\":{\"colorbar\":{\"outlinewidth\":0,\"ticks\":\"\"}},\"type\":\"scatterternary\"}],\"surface\":[{\"colorbar\":{\"outlinewidth\":0,\"ticks\":\"\"},\"colorscale\":[[0.0,\"#0d0887\"],[0.1111111111111111,\"#46039f\"],[0.2222222222222222,\"#7201a8\"],[0.3333333333333333,\"#9c179e\"],[0.4444444444444444,\"#bd3786\"],[0.5555555555555556,\"#d8576b\"],[0.6666666666666666,\"#ed7953\"],[0.7777777777777778,\"#fb9f3a\"],[0.8888888888888888,\"#fdca26\"],[1.0,\"#f0f921\"]],\"type\":\"surface\"}],\"table\":[{\"cells\":{\"fill\":{\"color\":\"#EBF0F8\"},\"line\":{\"color\":\"white\"}},\"header\":{\"fill\":{\"color\":\"#C8D4E3\"},\"line\":{\"color\":\"white\"}},\"type\":\"table\"}]},\"layout\":{\"annotationdefaults\":{\"arrowcolor\":\"#2a3f5f\",\"arrowhead\":0,\"arrowwidth\":1},\"autotypenumbers\":\"strict\",\"coloraxis\":{\"colorbar\":{\"outlinewidth\":0,\"ticks\":\"\"}},\"colorscale\":{\"diverging\":[[0,\"#8e0152\"],[0.1,\"#c51b7d\"],[0.2,\"#de77ae\"],[0.3,\"#f1b6da\"],[0.4,\"#fde0ef\"],[0.5,\"#f7f7f7\"],[0.6,\"#e6f5d0\"],[0.7,\"#b8e186\"],[0.8,\"#7fbc41\"],[0.9,\"#4d9221\"],[1,\"#276419\"]],\"sequential\":[[0.0,\"#0d0887\"],[0.1111111111111111,\"#46039f\"],[0.2222222222222222,\"#7201a8\"],[0.3333333333333333,\"#9c179e\"],[0.4444444444444444,\"#bd3786\"],[0.5555555555555556,\"#d8576b\"],[0.6666666666666666,\"#ed7953\"],[0.7777777777777778,\"#fb9f3a\"],[0.8888888888888888,\"#fdca26\"],[1.0,\"#f0f921\"]],\"sequentialminus\":[[0.0,\"#0d0887\"],[0.1111111111111111,\"#46039f\"],[0.2222222222222222,\"#7201a8\"],[0.3333333333333333,\"#9c179e\"],[0.4444444444444444,\"#bd3786\"],[0.5555555555555556,\"#d8576b\"],[0.6666666666666666,\"#ed7953\"],[0.7777777777777778,\"#fb9f3a\"],[0.8888888888888888,\"#fdca26\"],[1.0,\"#f0f921\"]]},\"colorway\":[\"#636efa\",\"#EF553B\",\"#00cc96\",\"#ab63fa\",\"#FFA15A\",\"#19d3f3\",\"#FF6692\",\"#B6E880\",\"#FF97FF\",\"#FECB52\"],\"font\":{\"color\":\"#2a3f5f\"},\"geo\":{\"bgcolor\":\"white\",\"lakecolor\":\"white\",\"landcolor\":\"#E5ECF6\",\"showlakes\":true,\"showland\":true,\"subunitcolor\":\"white\"},\"hoverlabel\":{\"align\":\"left\"},\"hovermode\":\"closest\",\"mapbox\":{\"style\":\"light\"},\"paper_bgcolor\":\"white\",\"plot_bgcolor\":\"#E5ECF6\",\"polar\":{\"angularaxis\":{\"gridcolor\":\"white\",\"linecolor\":\"white\",\"ticks\":\"\"},\"bgcolor\":\"#E5ECF6\",\"radialaxis\":{\"gridcolor\":\"white\",\"linecolor\":\"white\",\"ticks\":\"\"}},\"scene\":{\"xaxis\":{\"backgroundcolor\":\"#E5ECF6\",\"gridcolor\":\"white\",\"gridwidth\":2,\"linecolor\":\"white\",\"showbackground\":true,\"ticks\":\"\",\"zerolinecolor\":\"white\"},\"yaxis\":{\"backgroundcolor\":\"#E5ECF6\",\"gridcolor\":\"white\",\"gridwidth\":2,\"linecolor\":\"white\",\"showbackground\":true,\"ticks\":\"\",\"zerolinecolor\":\"white\"},\"zaxis\":{\"backgroundcolor\":\"#E5ECF6\",\"gridcolor\":\"white\",\"gridwidth\":2,\"linecolor\":\"white\",\"showbackground\":true,\"ticks\":\"\",\"zerolinecolor\":\"white\"}},\"shapedefaults\":{\"line\":{\"color\":\"#2a3f5f\"}},\"ternary\":{\"aaxis\":{\"gridcolor\":\"white\",\"linecolor\":\"white\",\"ticks\":\"\"},\"baxis\":{\"gridcolor\":\"white\",\"linecolor\":\"white\",\"ticks\":\"\"},\"bgcolor\":\"#E5ECF6\",\"caxis\":{\"gridcolor\":\"white\",\"linecolor\":\"white\",\"ticks\":\"\"}},\"title\":{\"x\":0.05},\"xaxis\":{\"automargin\":true,\"gridcolor\":\"white\",\"linecolor\":\"white\",\"ticks\":\"\",\"title\":{\"standoff\":15},\"zerolinecolor\":\"white\",\"zerolinewidth\":2},\"yaxis\":{\"automargin\":true,\"gridcolor\":\"white\",\"linecolor\":\"white\",\"ticks\":\"\",\"title\":{\"standoff\":15},\"zerolinecolor\":\"white\",\"zerolinewidth\":2}}},\"xaxis\":{\"anchor\":\"y\",\"domain\":[0.0,1.0],\"title\":{\"text\":\"diff_mean_pct\"}},\"yaxis\":{\"anchor\":\"x\",\"domain\":[0.0,1.0],\"title\":{\"text\":\"qty_order_log\"}}},                        {\"responsive\": true}                    ).then(function(){\n",
       "                            \n",
       "var gd = document.getElementById('18a931e2-0b93-4d6d-9371-d41982e349f9');\n",
       "var x = new MutationObserver(function (mutations, observer) {{\n",
       "        var display = window.getComputedStyle(gd).display;\n",
       "        if (!display || display === 'none') {{\n",
       "            console.log([gd, 'removed!']);\n",
       "            Plotly.purge(gd);\n",
       "            observer.disconnect();\n",
       "        }}\n",
       "}});\n",
       "\n",
       "// Listen for the removal of the full notebook cells\n",
       "var notebookContainer = gd.closest('#notebook-container');\n",
       "if (notebookContainer) {{\n",
       "    x.observe(notebookContainer, {childList: true});\n",
       "}}\n",
       "\n",
       "// Listen for the clearing of the current output cell\n",
       "var outputEl = gd.closest('.output');\n",
       "if (outputEl) {{\n",
       "    x.observe(outputEl, {childList: true});\n",
       "}}\n",
       "\n",
       "                        })                };                });            </script>        </div>"
      ]
     },
     "metadata": {},
     "output_type": "display_data"
    }
   ],
   "source": [
    "prod_id = \"P3\"\n",
    "fig = px.scatter(df[df.prod_id == prod_id], x=\"diff_mean_pct\", y=\"qty_order\")\n",
    "fig.show()\n",
    "\n",
    "fig = px.scatter(df[df.prod_id == prod_id], x=\"diff_mean_pct\", y=\"qty_order_log\")\n",
    "fig.show()\n"
   ]
  },
  {
   "cell_type": "code",
   "execution_count": 23,
   "id": "37b00317-6da4-43d2-99a7-7f227004782b",
   "metadata": {},
   "outputs": [
    {
     "data": {
      "application/vnd.plotly.v1+json": {
       "config": {
        "plotlyServerURL": "https://plot.ly"
       },
       "data": [
        {
         "hovertemplate": "prod_id=P1<br>diff_mean_pct=%{x}<br>qty_order=%{y}<extra></extra>",
         "legendgroup": "P1",
         "marker": {
          "color": "#636efa",
          "symbol": "circle"
         },
         "mode": "markers",
         "name": "P1",
         "showlegend": true,
         "type": "scattergl",
         "x": [
          -0.05216964495356447,
          -0.05721914079132149,
          -0.037139034891744846,
          -0.0386610432814363,
          -0.01065221291692943,
          -0.04521479547516079,
          -0.026247507559568305,
          0.008723944162174814,
          0.008582878817825077,
          0.025641025641025578,
          0.012658227848101234,
          0.018803418803418737,
          0.025641025641025578,
          0.021367521367521264,
          0.015224757452909474,
          -0.027292554010365934,
          -0.01736647685423659,
          0.00628930817610069,
          -0.006289308176100537,
          0.00628930817610069,
          0.00628930817610069,
          -0.0014565427104602851,
          -0.05561359564657361,
          -0.033145786918742474,
          -0.022910862965036256,
          -0.06202124699548435,
          -0.06202124699548435,
          -0.04637585178381204,
          0.024231134133420134,
          0.04781001085336907,
          0.10553504629944226,
          0.07505262139614309,
          0.05165039201978519,
          0.06865962657006312,
          0.008335124549210584,
          -0.1398791983916541,
          -0.13315336012936194,
          -0.04682658110361989,
          -0.16197111869909953,
          -0.13789296274576063,
          0.019814747018554447,
          -0.12999621737485803,
          -0.1407957240400943,
          -0.12582692048062635,
          -0.1373404419081272,
          -0.1759208356239692,
          -0.14085875267145914,
          -0.16461582027562763,
          -0.1728407977106944,
          -0.1840645648480272,
          -0.17487555021213602,
          -0.24366412944611998,
          -0.22498964367210822,
          -0.2228558890644199,
          -0.23696682464454977,
          -0.19338705102135983,
          -0.252131283671568,
          -0.2075129129192112,
          -0.26449917537108303,
          -0.28813880010286935,
          -0.2761391444413469,
          -0.26854751928932846,
          -0.22401456844420015,
          -0.1726005782816491,
          -0.15941714532882972,
          -0.2173827449499718,
          -0.12519058219621013,
          -0.17517740341369695,
          -0.24791849511438757,
          -0.1911856331317575,
          -0.1942466576278169,
          -0.1778657089067856,
          -0.057789212551117415,
          -0.05380186262539215,
          -0.06588920592849028,
          -0.05364137581488728,
          -0.050522420991886974,
          -0.05225233105284652,
          -0.005708207549490783,
          0.02441319230350536,
          -0.012479536300246409,
          0.014366714912582809,
          0.020067168340653845,
          0.03207380679882237,
          0.03249841999929783,
          0.03654190512973571,
          0.028878901723956324,
          0.0295642265504526,
          0.018706603403517562,
          0.03569046030687129,
          -0.008498560024834245,
          -0.0066099858534530275,
          0.12367220098885573,
          0.036169636213651775,
          -0.03326630287924426,
          0.08669538924600935,
          0.04370281873966266,
          -0.14940400338606447,
          0.09561439410635014,
          0.12792851629621332,
          0.09744343445757978,
          0.0344315260334297,
          0.004595729786489363,
          0.025553313036636775,
          0.03222984627407002,
          -0.056155917958697295,
          -0.07600094460562709,
          -0.0333204395298728,
          0.023631183247280575,
          0.033288405169332395,
          0.020212578208171898,
          0.019041584197173406,
          0.028845253694145725,
          0.03368283773724269,
          0.03007168992254589,
          0.0238783243565342,
          0.018736151527598683,
          0.029694595986184937,
          0.04660958910753753,
          0.049769680057005806,
          0.044417825042153,
          0.055801095243964816,
          0.05590819939750891,
          0.04094164370524002,
          0.05622762495974303,
          0.05704195142590186,
          0.045400257389937734,
          0.03734421887340205,
          0.03158119543521648,
          0.03734421887340205,
          0.03734421887340205,
          0.056397751226148235,
          0.03389337767688542,
          0.0229393640579097,
          0.020408163265306135,
          0.022417829263884498,
          0.0253763440860215,
          0.03225806451612903,
          0.03225806451612903,
          0.03225806451612903,
          0.03225806451612903,
          0.028764373233060934,
          0.021037868162692888,
          0.051939974859406594,
          0.059407809914393234,
          0.04258315800455575,
          0.02830777435370742,
          0.029563903448335104,
          0.03889453938174452,
          0.03552335543990018,
          0.052553046760143066,
          0.054018445322793165,
          0.04929685210944358,
          0.04306680660817729,
          0.013441488152180478,
          -0.015792851441735187,
          0.0030742204655247155,
          0.008403361344537898,
          -0.030303030303030342,
          -0.06942392909896603,
          -0.051383399209486216,
          -0.07226890756302519,
          0.008403361344537898,
          0.05096157024255345,
          0.045751633986928074,
          -0.022298456260720502,
          -0.028107794842074763,
          0.008403361344537898,
          -0.0024669762666426954,
          -0.028458670883488447,
          -0.018078955828824718,
          -0.010467164788738235,
          -0.010467164788738235,
          -0.012880659508765609,
          -0.014590218268785048,
          -0.010467164788738235,
          -0.018713271748832163,
          -0.010467164788738235,
          -0.02889742769569639,
          -0.033021758623136555,
          0.027080256031511634,
          0.045751633986928074,
          0.0511413991995249,
          0.054018445322793165,
          0.054018445322793165,
          0.05024850568169378,
          0.054018445322793165,
          0.054018445322793165,
          0.054018445322793165,
          0.04093567251461991,
          0.024518388791593872,
          0.03403551142716593,
          0.03112840466926072,
          0.04098893949251785,
          0.04438642297650129,
          0.04438642297650129,
          0.04438642297650129,
          0.033942558746736275,
          0.033942558746736275,
          0.04438642297650129,
          0.04438642297650129,
          0.03278212938787349,
          0.04438642297650129,
          0.04438642297650129,
          0.023498694516971255,
          -0.9767939521230902
         ],
         "xaxis": "x",
         "y": [
          28,
          67,
          46,
          19,
          12,
          7,
          6,
          13,
          7,
          6,
          7,
          15,
          7,
          12,
          11,
          16,
          9,
          6,
          8,
          5,
          4,
          13,
          16,
          16,
          12,
          20,
          32,
          27,
          5,
          8,
          15,
          6,
          2,
          14,
          12,
          15,
          11,
          16,
          9,
          11,
          13,
          12,
          8,
          8,
          5,
          1,
          12,
          10,
          17,
          30,
          19,
          22,
          15,
          9,
          10,
          23,
          26,
          19,
          50,
          43,
          34,
          23,
          16,
          19,
          13,
          25,
          17,
          17,
          18,
          9,
          22,
          28,
          35,
          34,
          16,
          34,
          40,
          49,
          17,
          13,
          11,
          15,
          22,
          16,
          16,
          12,
          22,
          9,
          14,
          8,
          47,
          47,
          10,
          24,
          10,
          8,
          3,
          11,
          5,
          11,
          11,
          11,
          8,
          4,
          11,
          18,
          16,
          46,
          12,
          11,
          12,
          14,
          11,
          8,
          11,
          10,
          10,
          10,
          18,
          11,
          15,
          15,
          16,
          10,
          11,
          20,
          25,
          14,
          18,
          20,
          7,
          9,
          15,
          19,
          17,
          32,
          15,
          19,
          16,
          19,
          32,
          31,
          23,
          19,
          21,
          19,
          13,
          16,
          25,
          10,
          14,
          6,
          4,
          2,
          9,
          9,
          6,
          2,
          5,
          1,
          2,
          5,
          3,
          3,
          5,
          21,
          58,
          15,
          17,
          11,
          13,
          23,
          24,
          41,
          24,
          7,
          12,
          4,
          14,
          24,
          15,
          13,
          12,
          17,
          2,
          7,
          9,
          9,
          19,
          9,
          8,
          29,
          32,
          9,
          18,
          23,
          26,
          25,
          25,
          22,
          11,
          9,
          7,
          9,
          5,
          8
         ],
         "yaxis": "y"
        },
        {
         "hovertemplate": "prod_id=P2<br>diff_mean_pct=%{x}<br>qty_order=%{y}<extra></extra>",
         "legendgroup": "P2",
         "marker": {
          "color": "#EF553B",
          "symbol": "circle"
         },
         "mode": "markers",
         "name": "P2",
         "showlegend": true,
         "type": "scattergl",
         "x": [
          0.03202621925251862,
          0.03188356582529442,
          0.02734776822050214,
          0.018372563346825063,
          0.011630973785539041,
          0.00341877480696778,
          0.010495503492221352,
          0.009396764792310872,
          0.047103530623031686,
          0.007762338180461279,
          0.002990265021288211,
          0.0016939091161859053,
          -0.0757959113520576,
          -0.06176701212354958,
          -0.03064263800705604,
          0.004039223123827121,
          0.026727558624962754,
          0.007339807797067439,
          0.012258760654500555,
          0.03624480062386743,
          0.025192873084681763,
          0.048241615558870785,
          0.045215823024756366,
          0.036996087135619096,
          0.006781780724342075,
          0.010640664181246793,
          -0.004493388161634262,
          -0.024406414333975522,
          0.002505232704298006,
          0.03959616633538655,
          0.044443413785730135,
          0.043734935576121174,
          0.006075455596172485,
          0.012793044850758724,
          0.025822819731933264,
          0.0010239556854356353,
          0.022575364703062664,
          0.026285823674923586,
          0.029882913785147864,
          0.048823278711470776,
          0.07062302288110534,
          0.0770632915599023,
          0.08285547476285807,
          0.08322671753971898,
          0.08754190714389622,
          0.047888345551200154,
          0.02191742984219167,
          0.07801113182975805,
          0.035130472567272024,
          -0.002769605124822124,
          -0.03263599747707782,
          0.005992316571971137,
          -0.019826504221960063,
          -0.028441350311035646,
          -0.03144438458515405,
          -0.020977210402164468,
          -0.011960645623713864,
          -0.011979252491953161,
          -0.025404340063287012,
          -0.04452489954602288,
          0.024408589277946938,
          0.03447970200559973,
          0.05460210206906939,
          -0.0672330830036254,
          0.023433215000850154,
          0.01597485367056549,
          -0.011900107412060611,
          -0.02866298419964731,
          0.0009627667293328834,
          -0.011570037262266417,
          -0.036025761760597574,
          -0.021545449047286194,
          -0.028473474084637063,
          -0.11658302922536484,
          -0.10194443049403037,
          -0.061576274403577796,
          -0.01792202436556884,
          0.028549158551537376,
          0.02526475349056066,
          0.0017062956559288514,
          -0.03601116725065367,
          -0.05291723328730392,
          -0.039280081726566884,
          -0.04940530249508115,
          0.022827951975092572,
          0.034487768043948035,
          0.021033434063550925,
          -0.02739778556061147,
          -0.0308827294095744,
          -0.0530577080517108,
          -0.041903166775846865,
          -0.05409584643886635,
          -0.031861732384797545,
          -0.00048079964948514174,
          0.004242494944003353,
          0.02596026825113968,
          0.00798898058201968,
          -0.012712175708764303,
          -0.04172228363941209,
          -0.04278293990943566,
          -0.07339893417120442,
          -0.0686031476083994,
          -0.05553764728028627,
          -0.05186983275056794,
          -0.03839728976358987,
          -0.02276975869071944,
          0.03430484882269319,
          0.04662152345216103,
          0.037720446691761556,
          -0.03006644746936427,
          -0.12428005030449313,
          -0.13390115610569833,
          -0.11770646630039482,
          -0.1010102580925383,
          -0.1284343199701539,
          -0.1400941623591685,
          -0.12136109363259512,
          -0.12624333064836907,
          -0.12611466158875906,
          -0.13685402549504577,
          -0.13105782908134558,
          -0.0888611971031017,
          -0.08618045656350114,
          -0.05936474247436209,
          -0.05766521559390069,
          -0.03047362642080609,
          -0.005092490960636967,
          -0.0022326122275274723,
          0.005587864545066813,
          -0.015392917946447164,
          -0.00683745398077228,
          0.08076833334184907,
          0.021440263501938166,
          0.0020496731867954564,
          -0.00434873832248288,
          0.027310264008374097,
          0.054837847569753365,
          0.021072683109238825,
          0.022620811045003294,
          0.01948092997259293,
          0.06514538780478343,
          0.030935308781476028,
          0.04135722777799279,
          -0.12120665381884983,
          -0.06899824228654396,
          -0.08188806187972932,
          0.05510194942636156,
          0.05900213528402568,
          0.05957102604264228,
          0.15080613912149504,
          0.1703673709509757,
          0.1122859292811997,
          0.07658775660486676,
          0.08740043024313829,
          0.09420124288477555,
          0.09673063312969278,
          0.023353000678080705,
          0.02924441712775758,
          0.05970802993306419,
          0.10527836640339057,
          0.11163726824523092,
          0.04116922737631375,
          0.033281706449065335,
          0.037990161965844024,
          0.037479807719339835,
          0.040463777422613444,
          0.053741433143866923,
          0.05081956677917759,
          0.039913246302340055,
          0.04264066060500488,
          0.05002595598644243,
          0.022380422517711284,
          0.03448562939572097,
          -0.0014451196479823764,
          -0.02323930241396946,
          -0.0021258154519547927,
          0.09195343555103899,
          -0.015843160301784776,
          -0.04999207287232721,
          0.0038410930012736473,
          0.050238997320388494,
          0.05621607215992278,
          0.01850838549699499,
          0.02331291051064032,
          -0.002691713108642045,
          -0.031750743685201074,
          -0.00036293230057075427,
          0.044796162555150516,
          0.02148441476221796,
          0.05765069614263894,
          0.06406417651752067,
          0.03262310624739458,
          0.037992827293489,
          0.018499313322387294,
          0.009301669025849512,
          0.047377677067019584,
          -0.004118242217353279,
          -0.005521665534499443,
          0.029981000960669538,
          0.03647768028272647,
          0.05287044880184319,
          0.04444266225378877,
          0.0698262028770818,
          0.10353569276472603,
          0.04975076591868832,
          0.049482474664437566,
          0.09549300532142062,
          -0.0664063608148611,
          -0.05810276189521995,
          -0.08525218506503801,
          -0.008775926876336103,
          0.018691137954615883,
          -0.004054106889824593,
          0.02687169594289059,
          0.004926125768012773,
          -0.02948458442927026,
          -0.04471236488791955,
          -0.03260149387273078,
          -0.03672011023517904,
          -0.036774348799108174,
          -0.04851137543951839,
          -0.0536496032063226,
          -0.02362217670128028,
          -0.04507207638966901,
          -0.03164051814617435,
          -0.031761854488805356,
          -0.04916334705555015,
          -0.16720078443713735,
          -0.11469298677217178,
          -0.139419472270986,
          -0.0006347767717561975,
          -0.02484095496680046,
          -0.03376245305555196,
          -0.04987949288128632,
          -0.04801631486569568,
          -0.04839249599983153,
          -0.047901431681776775,
          -0.0069902851440145535,
          0.04360641800247033,
          0.010331808724664457,
          -0.1280571628270407,
          -0.1543227664714289,
          -0.10874899187091586,
          -0.013343252094038556,
          -0.05366014438140787,
          -0.08453413792013953,
          -0.09996645496106911,
          -0.12078961777432938,
          -0.05407918585313016,
          -0.024934450101378278,
          -0.06604601225852196,
          -0.06742381531579575,
          -0.07102623946503744,
          -0.07734609785278651,
          -0.06414131494649253,
          -0.034684861268090963,
          -0.028125421064935267,
          -0.06925247241440746,
          -0.07186982405374316,
          -0.05678148481913707,
          -0.058304442198199094,
          -0.04633843192518472,
          -0.021327833852301976,
          -0.029182810052441544,
          -0.03556473050708625,
          -0.030698403442859273,
          -0.05140543495817009,
          -0.12680910514787194,
          -0.155160795795614,
          -0.14973487044446726,
          -0.03720111762735145,
          -0.016311170975057996,
          -0.02166309336385369,
          -0.022122422844311432,
          -0.022544788125224476,
          -0.015824802300301106,
          -0.08275879235984833,
          -0.08995261855695501,
          -0.09323588273545323,
          -0.10392909513710119,
          -0.09823695348883162,
          -0.9706384681284841
         ],
         "xaxis": "x",
         "y": [
          69,
          63,
          98,
          135,
          144,
          170,
          181,
          127,
          83,
          127,
          119,
          140,
          606,
          356,
          220,
          145,
          134,
          112,
          141,
          115,
          92,
          90,
          48,
          74,
          117,
          163,
          93,
          110,
          43,
          51,
          76,
          97,
          71,
          44,
          71,
          71,
          30,
          42,
          51,
          76,
          73,
          45,
          51,
          30,
          43,
          35,
          33,
          52,
          98,
          94,
          32,
          16,
          104,
          330,
          271,
          153,
          146,
          148,
          226,
          271,
          173,
          123,
          70,
          717,
          148,
          95,
          158,
          273,
          195,
          158,
          75,
          103,
          100,
          1020,
          1604,
          703,
          470,
          310,
          52,
          79,
          128,
          71,
          72,
          88,
          47,
          17,
          37,
          68,
          60,
          70,
          70,
          98,
          59,
          35,
          42,
          30,
          60,
          76,
          187,
          188,
          193,
          617,
          427,
          329,
          222,
          195,
          151,
          101,
          108,
          229,
          987,
          904,
          741,
          620,
          980,
          1130,
          772,
          983,
          864,
          224,
          75,
          298,
          180,
          195,
          205,
          144,
          150,
          119,
          124,
          123,
          60,
          27,
          36,
          15,
          15,
          22,
          18,
          14,
          58,
          39,
          35,
          30,
          65,
          2087,
          3740,
          1235,
          69,
          59,
          30,
          35,
          34,
          45,
          51,
          44,
          23,
          12,
          35,
          63,
          53,
          48,
          35,
          40,
          37,
          66,
          54,
          71,
          71,
          95,
          102,
          87,
          136,
          290,
          822,
          1222,
          1042,
          100,
          28,
          899,
          1113,
          71,
          52,
          47,
          39,
          15,
          53,
          431,
          463,
          105,
          70,
          145,
          33,
          85,
          61,
          72,
          74,
          39,
          40,
          44,
          85,
          58,
          49,
          42,
          68,
          16,
          10,
          55,
          39,
          252,
          565,
          476,
          90,
          11,
          51,
          89,
          78,
          105,
          46,
          103,
          49,
          90,
          113,
          42,
          58,
          58,
          73,
          44,
          103,
          1864,
          4049,
          2160,
          135,
          84,
          65,
          72,
          65,
          58,
          51,
          54,
          53,
          60,
          529,
          1385,
          1429,
          179,
          185,
          440,
          633,
          762,
          136,
          152,
          187,
          117,
          89,
          103,
          150,
          141,
          105,
          182,
          488,
          540,
          449,
          97,
          61,
          100,
          75,
          67,
          69,
          361,
          1103,
          1055,
          63,
          13,
          16,
          8,
          22,
          27,
          59,
          41,
          25,
          52,
          49,
          38
         ],
         "yaxis": "y"
        },
        {
         "hovertemplate": "prod_id=P3<br>diff_mean_pct=%{x}<br>qty_order=%{y}<extra></extra>",
         "legendgroup": "P3",
         "marker": {
          "color": "#00cc96",
          "symbol": "circle"
         },
         "mode": "markers",
         "name": "P3",
         "showlegend": true,
         "type": "scattergl",
         "x": [
          -0.05332416237144819,
          0.004922090892231208,
          -0.06569237212250834,
          -0.04701426292239947,
          -0.011573587435908401,
          0.021663731212372514,
          -0.019578270124762532,
          -0.031025482119602987,
          -0.02748575897028626,
          -0.03982005363521156,
          -0.05202451804705033,
          -0.03178749801979334,
          -0.03355003221909785,
          -0.03758667049253934,
          -0.020823177436447654,
          -0.0360077966491046,
          -0.03191113211149024,
          -0.008919046290413008,
          -0.02306311671533752,
          0.007475993462607935,
          -0.012918129378083173,
          -0.019564218120980834,
          -0.007186659159864589,
          -0.03517692451579976,
          -0.009516987897069616,
          -0.019007452556445592,
          -0.02348154465218214,
          -0.025446431573455244,
          -0.011979419307056679,
          0.02655556895207678,
          0.0431226334100649,
          -0.011133153186984882,
          -0.01707202696010747,
          -0.015094431682520027,
          -0.014807204985959941,
          -0.04085887893832394,
          -0.03063934967108879,
          -0.031878198722566586,
          -0.06231447415874777,
          -0.07484821209572114,
          -0.06960503443471106,
          -0.034789360364064374,
          0.002301759791649427,
          -0.00787474048262625,
          -0.003064188966648459,
          0.029633183049169346,
          0.0557630908464116,
          0.06350336967837387,
          0.03776739569473089,
          0.037288195214611644,
          0.0209846510888236,
          -0.02386982807161654,
          0.004341203351104203,
          -0.0026993620187655844,
          0.015518289251547515,
          0.032585465412931024,
          0.004428909967042527,
          -0.03247667163948319,
          -0.04425241233581125,
          -0.022011766272282223,
          0.04608734268845237,
          0.0300215024109418,
          0.037019550087643724,
          0.002354158666519084,
          0.01929575439833446,
          -0.015907782971534997,
          0.05861407477454637,
          0.03212680367175061,
          0.024468544088379205,
          0.06695245750349785,
          0.03677374046606372,
          0.02725417257686892,
          0.034524672428212874,
          0.0672955377287187,
          0.06350326180004127,
          0.05308851811119012,
          0.059937174303816905,
          0.06813475469229406,
          0.036696650655648706,
          0.08965436582981558,
          0.055586292810962716,
          0.03961325617191662,
          0.06681323788329724,
          0.04288178648465812,
          0.03969118298317118,
          0.035228089110747624,
          0.06859229720150734,
          0.1204906854227384,
          0.09637097811270273,
          0.005130421967873395,
          0.005401729470643663,
          -0.013477835783420183,
          0.004656619794233457,
          0.053636234961075606,
          0.055517482057022574,
          0.04959377723435547,
          0.04733116325654602,
          0.04885852460274813,
          0.027150337837837803,
          0.028020897771190344,
          0.03646544390908804,
          0.012867745207966344,
          0.05257709976409879,
          0.0649523090229136,
          0.06621498969051824,
          0.05582709054663733,
          0.0786210003237748,
          0.09082668187001122,
          -0.021034125415172966,
          -0.040518775837120616,
          -0.025338907893069893,
          -0.002954652451674502,
          0.011129588683970746,
          0.00385395038697596,
          0.0016975994348930325,
          0.01505982353212912,
          0.021736145760430526,
          0.017499464699355764,
          0.007750830257081954,
          0.06526340943640069,
          0.06459217915961542,
          0.014161375530719158,
          0.014588859416445672,
          0.008466208968736379,
          0.011202694435490658,
          0.010108872950892123,
          0.027731432622985015,
          0.06394782293723474,
          0.06138039494620352,
          0.09228653271002965,
          0.09386338007107899,
          0.07632463840650965,
          0.09375376943911627,
          0.0630304496170752,
          0.06842758623438047,
          0.11193808084824027,
          0.027100172152927576,
          0.03817933156660122,
          0.02973586725705208,
          0.11082809861082361,
          0.1365472130885465,
          -0.09501942776404093,
          0.0871305781231603,
          -0.011774402449075657,
          0.09293680297397762,
          0.11438375750643401,
          0.07029565647272072,
          0.16952406867760747,
          -0.04753727168125346,
          0.0036035916362431378,
          0.1559762236107623,
          0.10300916809386819,
          0.03125542982281763,
          0.10572904193646035,
          0.10692819622632967,
          0.06858809318456016,
          0.1767072349875607,
          0.19462330494644067,
          0.23603194544874304,
          0.22782545824117925,
          0.3421721714723229,
          0.22960189418290766,
          0.31607457819415974,
          0.14661733855863596,
          0.05831986318646328,
          0.10278611273646618,
          0.1268385663592683,
          0.18666501146816106,
          0.1567124210969412,
          0.060212078226388605,
          0.04603755750853472,
          0.0016822500826824348,
          0.07429195980289481,
          0.09062179695920643,
          0.02594958438638574,
          0.035414027176794795,
          -0.09123061617002674,
          -0.1104369416081684,
          0.09300424010992248,
          0.08383343151402936,
          0.06393751106609176,
          0.1211863673983669,
          0.12552234309845034,
          0.08784749584235496,
          0.06406637817230917,
          0.04844192282090048,
          -0.00969815583878297,
          0.04623573669668908,
          0.1486465451879672,
          0.04021403256856673,
          0.0890318868856663,
          0.05815807740652496,
          0.061379984200241135,
          0.050512221030512124,
          0.10316519021316183,
          0.07396006215183593,
          0.030768829390992278,
          0.008577960044423854,
          0.0007074652591681456,
          -0.971095631810081
         ],
         "xaxis": "x",
         "y": [
          17,
          18,
          19,
          15,
          11,
          6,
          8,
          6,
          10,
          10,
          4,
          10,
          6,
          17,
          7,
          8,
          11,
          6,
          5,
          2,
          9,
          10,
          16,
          9,
          9,
          15,
          15,
          33,
          35,
          9,
          7,
          14,
          23,
          15,
          8,
          28,
          14,
          13,
          16,
          23,
          10,
          9,
          4,
          13,
          20,
          5,
          3,
          1,
          12,
          17,
          12,
          14,
          9,
          9,
          7,
          17,
          23,
          18,
          20,
          17,
          16,
          22,
          11,
          12,
          15,
          10,
          7,
          24,
          21,
          1,
          6,
          7,
          2,
          2,
          12,
          7,
          6,
          6,
          5,
          11,
          6,
          4,
          3,
          5,
          6,
          6,
          4,
          8,
          2,
          2,
          3,
          23,
          28,
          18,
          5,
          11,
          8,
          14,
          10,
          15,
          6,
          5,
          9,
          4,
          5,
          15,
          9,
          12,
          22,
          24,
          31,
          57,
          45,
          40,
          41,
          38,
          28,
          27,
          35,
          38,
          38,
          21,
          29,
          37,
          33,
          54,
          44,
          21,
          11,
          6,
          9,
          7,
          9,
          8,
          7,
          7,
          23,
          21,
          11,
          5,
          7,
          3,
          2,
          1,
          4,
          3,
          3,
          2,
          11,
          18,
          8,
          6,
          7,
          6,
          6,
          3,
          3,
          1,
          2,
          5,
          2,
          8,
          18,
          15,
          6,
          8,
          2,
          3,
          1,
          5,
          8,
          11,
          4,
          1,
          5,
          2,
          7,
          29,
          5,
          6,
          3,
          4,
          6,
          7,
          8,
          14,
          1,
          6,
          1,
          3,
          6,
          6,
          5,
          7,
          6,
          5,
          2,
          1,
          4,
          1
         ],
         "yaxis": "y"
        },
        {
         "hovertemplate": "prod_id=P4<br>diff_mean_pct=%{x}<br>qty_order=%{y}<extra></extra>",
         "legendgroup": "P4",
         "marker": {
          "color": "#ab63fa",
          "symbol": "circle"
         },
         "mode": "markers",
         "name": "P4",
         "showlegend": true,
         "type": "scattergl",
         "x": [
          0.1052248942329101,
          0.0008598534549659798,
          -0.0014899006223590995,
          -0.0007485033761790436,
          -0.0007531909697531628,
          0.10663283289817227,
          -0.02448597562828573,
          -0.03994225768955377,
          -0.04874815587409843,
          -0.05009558702057484,
          -0.045133290103465167,
          -0.0397850448539738,
          -0.06708281746805136,
          -0.05461075199547087,
          -0.08598017279824303,
          -0.12649235598829459,
          -0.13037751530304334,
          -0.1309225576138212,
          -0.12817813765182182,
          -0.06182264703192154,
          -0.10323823291420049,
          -0.086722675568555,
          -0.08271883979275542,
          -0.0019462431276723853,
          0.011951463319820244,
          0.009773976786805201,
          -0.004632457747912733,
          -0.016887547498006958,
          -0.013499447154216599,
          -0.0359274439868367,
          -0.009215463827558987,
          -0.006804191532352753,
          -0.011282834453268121,
          -0.03737324373854609,
          -0.030476481368356744,
          -0.051767069216672096,
          -0.04747737858888211,
          -0.013526485731739295,
          -0.01844203749823789,
          0.010341216511039508,
          -0.05198318301052861,
          -0.06461209529627367,
          -0.06404176153717987,
          -0.08210463226564914,
          -0.09200333798760793,
          -0.10519309331093453,
          -0.08942914253458398,
          -0.09141445899517918,
          -0.08703578473905581,
          -0.08631087910257107,
          -0.1316759480828822,
          -0.15263737917926823,
          -0.14412492992521383,
          -0.13847259507275947,
          -0.09327778876735576,
          -0.1760854857693627,
          -0.21489334934865365,
          -0.21580024874919276,
          -0.18673675053647618,
          -0.08184203789042509,
          -0.10528861750224827,
          -0.11086018605905348,
          -0.035007529453450245,
          -0.0350119585437152,
          -0.09596761390696926,
          -0.028837843984534862,
          -0.09525321479599937,
          -0.09525321479599937,
          -0.09525321479599937,
          -0.10054506006244383,
          0.03421586092511814,
          -0.04497384580395726,
          -0.016292462681983085,
          0.019382424280116686,
          0.057850314907765314,
          0.06648205272013456,
          0.009882470305826547,
          0.0486103746217909,
          0.013179448994787613,
          0.021254487058378773,
          0.014863258026159263,
          0.0556521191510799,
          0.07285093519743045,
          0.06583664403916548,
          0.061575599611958985,
          0.0657969256927818,
          0.028928896590208163,
          0.04083786231884061,
          -0.007246376811594203,
          -0.007246376811594203,
          -0.019150209455415852,
          -0.009061733628023877,
          0.05439979325494261,
          0.07202011065559345,
          0.10040508286549911,
          0.11200815987829336,
          0.1285526588755965,
          0.0890469738030714,
          0.0485576923076923,
          0.03227743540243536,
          0.047027139874738944,
          0.0436325678496868,
          0.0715740592283801,
          -0.0003530502730947877,
          -0.05533538822838696,
          -0.016110934490303472,
          0.02311108924668451,
          0.013510768174274691,
          -0.0025370543463746524,
          0.017109295199183038,
          0.005241151875625753,
          -0.06925949076277955,
          -0.0004333468807153639,
          -0.06029894833186242,
          -0.02964565332284523,
          -0.03024404774200148,
          -0.18204293700001464,
          -0.19369087400239762,
          -0.19669956716224327,
          -0.10393549292004342,
          0.062130473995390435,
          -0.014606300838185059,
          -0.14437434804692004,
          -0.11563338817213617,
          -0.2162182308037719,
          -0.21021204410517386,
          -0.1601665510062458,
          -0.023885137565648234,
          0.024831938537522285,
          0.04560042052261005,
          0.1258221181203436,
          0.04268445883699491,
          0.030843722370895967,
          -0.13036132492732289,
          -0.1547137699616825,
          -0.13795012371645837,
          0.07037326054719198,
          0.061663389669295375,
          0.04960018316348785,
          -0.05679875488595116,
          0.015783770309616762,
          -0.008968213990829305,
          0.006222421337523034,
          -0.002944144139799965,
          -0.014331540831111517,
          0.007599614914939004,
          0.0043983734680174205,
          -0.013782340658556408,
          -0.030936236900703924,
          -0.027002932320469228,
          -0.016145004772510307,
          -0.017259344241684117,
          -0.9711160397628715
         ],
         "xaxis": "x",
         "y": [
          54,
          643,
          341,
          314,
          279,
          20,
          63,
          223,
          382,
          473,
          368,
          46,
          12,
          160,
          232,
          337,
          350,
          295,
          247,
          65,
          198,
          296,
          162,
          30,
          11,
          18,
          45,
          59,
          61,
          31,
          21,
          13,
          9,
          15,
          12,
          78,
          64,
          21,
          26,
          21,
          51,
          40,
          33,
          53,
          168,
          192,
          158,
          160,
          157,
          99,
          53,
          59,
          49,
          59,
          49,
          54,
          106,
          163,
          307,
          14,
          7,
          16,
          13,
          8,
          4,
          5,
          3,
          1,
          1,
          3,
          7,
          5,
          8,
          10,
          6,
          8,
          4,
          5,
          17,
          1,
          1,
          3,
          4,
          6,
          7,
          5,
          6,
          8,
          4,
          11,
          6,
          8,
          7,
          11,
          16,
          4,
          9,
          9,
          20,
          37,
          25,
          42,
          9,
          11,
          18,
          21,
          19,
          28,
          10,
          5,
          7,
          28,
          37,
          46,
          59,
          23,
          220,
          308,
          301,
          19,
          20,
          18,
          249,
          36,
          34,
          9,
          11,
          38,
          32,
          24,
          6,
          17,
          42,
          489,
          1510,
          1253,
          47,
          30,
          47,
          35,
          18,
          39,
          22,
          112,
          65,
          37,
          47,
          33,
          52,
          42,
          63,
          62,
          43
         ],
         "yaxis": "y"
        },
        {
         "hovertemplate": "prod_id=P5<br>diff_mean_pct=%{x}<br>qty_order=%{y}<extra></extra>",
         "legendgroup": "P5",
         "marker": {
          "color": "#FFA15A",
          "symbol": "circle"
         },
         "mode": "markers",
         "name": "P5",
         "showlegend": true,
         "type": "scattergl",
         "x": [
          0.0027297543221111407,
          -0.0514873713751169,
          -0.05039318986626334,
          -0.0416025096775122,
          0.08041374708041356,
          -0.005913798525100603,
          -0.011444126928233796,
          -0.03114390113748906,
          -0.024655291805415713,
          -0.023972585275804564,
          0.045678731953241715,
          -0.04737851882436213,
          -0.08023455304330006,
          -0.03261965005575075,
          -0.010442303861403306,
          0.016248355984217498,
          -0.0020441589111363425,
          -0.022923712889891097,
          -0.019065532179863363,
          0.03606038555274499,
          -0.042558215317880566,
          -0.024625925821673913,
          -0.004578606046169656,
          -0.023281067114844817,
          -0.03338664819687473,
          -0.017773600145820172,
          0.013445332315160695,
          0.09971738199309305,
          0.01619967793880841,
          0.007964399324156433,
          0.005510144702291265,
          0.034654241374277646,
          0.017072284780239602,
          0.004381856544013123,
          0.013373409460215346,
          -0.02362143624994317,
          -0.03926667933003333,
          -0.039241538822530245,
          -0.07225073873802124,
          -0.04473342447026655,
          -0.019093473120424097,
          -0.033332660354121774,
          0.016431037265546927,
          -0.02874563827228947,
          0.05309925262505005,
          -0.002340054454886664,
          -0.0015306153535697361,
          -0.026592184871253467,
          0.013684948167956816,
          0.05114793121809118,
          0.06000147397900634,
          -0.07698454926442351,
          -0.004082616716657659,
          -0.02184362425821388,
          -0.04606447146050268,
          -0.05502824117988104,
          0.002102189435853766,
          -0.01043600936294047,
          -0.021012269624377976,
          -0.04384441158922064,
          -0.02967915601073563,
          0.009436326060317763,
          -0.11543503798261422,
          -0.07462516742596322,
          -0.1293402290718808,
          -0.19093731565711447,
          -0.22066643548661044,
          -0.2290422082472878,
          0.010494028113000117,
          -0.10025102311386712,
          -0.030419096656684054,
          0.017519466073414907,
          -0.02749667027646045,
          -0.005259146916570552,
          -0.0840494554602934,
          0.015993752156777223,
          0.05208435883131516,
          0.05242039586919094,
          -0.08987604586303073,
          -0.06789202713756422,
          0.030481829671566367,
          0.04900544888576894,
          0.03358127366398019,
          0.010252041967217478,
          -0.03078611448044819,
          -0.015870409252460423,
          0.024789148716570772,
          0.008983829107606173,
          0.05804032704518139,
          -0.0026570734324214253,
          0.002366751869733891,
          -0.005175496377152578,
          -0.01844358708948908,
          -0.006500743992893883,
          -0.1799169116562049,
          -0.17902462478796066,
          -0.14649268514381375,
          -0.07620622791756401,
          -0.10103259769184048,
          -0.10140400890868594,
          -0.16900887573964501,
          -0.17110489499338224,
          -0.1643564571273157,
          -0.05973088622921119,
          -0.014817176870748381,
          -0.019105902777777826,
          -0.01911690848214282,
          -0.14002986137418955,
          -0.1683626608030156,
          -0.18959283664930077,
          -0.11804193157432695,
          -0.0036019355241288693,
          -0.009696334475095393,
          -0.034950965694390435,
          -0.06264227479551127,
          -0.12871912501301447,
          -0.11786170572377391,
          -0.005335460626296628,
          -0.006891768019641862,
          0.01412837412321675,
          0.02173377075816858,
          -0.038012346712416246,
          -0.0058290972786607664,
          0.06422241900592567,
          0.01818417135831222,
          0.02113887864898135,
          -0.009170984250563887,
          0.015407826124065301,
          0.017397941982750693,
          -0.0792504182124489,
          -0.07148269361192357,
          0.01799143196789284,
          0.018111613852861475,
          -0.0013257132860202306,
          -0.07948674374220156,
          -0.13783654245609073,
          -0.09072420638724855,
          -0.14244509985493792,
          -0.09298416333771918,
          -0.12111624101100224,
          -0.04317447627496219,
          -0.09516565948209971,
          -0.13318049642128343,
          -0.09921003944908331,
          -0.07704413370151558,
          -0.06613232083226299,
          -0.06468741972771644,
          -0.0935449329129083,
          -0.9821555990892629
         ],
         "xaxis": "x",
         "y": [
          1,
          1,
          4,
          2,
          3,
          1,
          3,
          7,
          8,
          4,
          8,
          13,
          15,
          20,
          21,
          4,
          9,
          12,
          11,
          5,
          15,
          6,
          12,
          12,
          8,
          11,
          1,
          6,
          1,
          4,
          3,
          2,
          1,
          5,
          13,
          6,
          4,
          7,
          43,
          38,
          45,
          36,
          22,
          30,
          27,
          32,
          23,
          43,
          12,
          12,
          9,
          380,
          554,
          441,
          390,
          412,
          159,
          99,
          175,
          325,
          327,
          146,
          195,
          90,
          58,
          31,
          136,
          103,
          47,
          17,
          12,
          6,
          18,
          7,
          6,
          3,
          4,
          3,
          2,
          4,
          3,
          7,
          12,
          14,
          12,
          15,
          18,
          3,
          6,
          9,
          3,
          3,
          4,
          5,
          466,
          1424,
          811,
          150,
          11,
          25,
          338,
          419,
          316,
          24,
          21,
          9,
          16,
          321,
          1031,
          1138,
          703,
          225,
          175,
          133,
          162,
          207,
          205,
          283,
          326,
          160,
          138,
          170,
          48,
          33,
          27,
          23,
          102,
          110,
          17,
          198,
          445,
          479,
          104,
          90,
          342,
          679,
          569,
          446,
          349,
          403,
          103,
          214,
          437,
          264,
          100,
          57,
          123,
          171,
          353
         ],
         "yaxis": "y"
        },
        {
         "hovertemplate": "prod_id=P6<br>diff_mean_pct=%{x}<br>qty_order=%{y}<extra></extra>",
         "legendgroup": "P6",
         "marker": {
          "color": "#19d3f3",
          "symbol": "circle"
         },
         "mode": "markers",
         "name": "P6",
         "showlegend": true,
         "type": "scattergl",
         "x": [
          -0.06874854313923234,
          -0.06874854313923234,
          -0.08065124415236342,
          -0.10879727523060279,
          -0.06846192984057392,
          -0.09557809993692847,
          -0.0952149857516509,
          -0.07790430030620848,
          -0.10750044869997988,
          -0.09170761348992662,
          -0.06403243762850072,
          0.023842514580110934,
          -0.03807672852714204,
          -0.06140173871322938,
          -0.06219637915059488,
          -0.061601737133984216,
          -0.07505928138461908,
          -0.07638080673229443,
          -0.04180800959629974,
          -0.05016728411652179,
          -0.05791014180846901,
          -0.033138739844015545,
          -0.06094038200091136,
          -0.029780756709765013,
          -0.04213624686925943,
          -0.025054591222822394,
          0.0031802298025794397,
          -0.019791662621343672,
          -0.03196229577463895,
          -0.025335471666495673,
          -0.00869722325142338,
          -0.12204024007614758,
          -0.1444094019501501,
          -0.08553908545391087,
          -0.12302285687302424,
          -0.03748411547549802,
          -0.03749577354535573,
          -0.03706210576977033,
          -0.007685842116181484,
          -0.0371376265555594,
          0.07582025918890102,
          0.21165543976907508,
          0.21304629009588233,
          0.23630829787557514,
          0.19743693590313252,
          0.19086740220144172,
          0.25893063673618766,
          0.08218739979543166,
          0.20831268642399964,
          0.17943552902047682,
          0.19683537901034226,
          0.23782530645005248,
          0.1819633697492499,
          0.1310632826405752,
          -0.06891230044615089,
          -0.12223564548439785,
          -0.11540263138516725,
          0.25750375806724984,
          0.22718726211337484,
          0.1283414298141294,
          -0.13504584130160957,
          -0.09480349611816956,
          -0.11554727833236661,
          -0.06877149187275078,
          0.23434124537543016,
          0.04788095475927887,
          -0.09018950198443533,
          -0.06528691860716847,
          -0.04191473153732841,
          -0.03463049090095882,
          -0.03920067472778483,
          -0.04427300033842746,
          -0.015056975165474861,
          -0.007604911986509457,
          0.060611961861337785,
          -0.06976683513966442,
          -0.04392359264711137,
          -0.0323251970435627,
          -0.029472276257842784,
          -0.03543173002316422,
          -0.03357932049819688,
          -0.012446405412764872,
          0.025031632662346957,
          0.03992095575951692,
          -0.04820484304021629,
          -0.05525307847314646,
          -0.07900161791080937,
          0.00550115119382546,
          -0.028847874117768648,
          -0.06292347127641597,
          -0.043542447262096565,
          -0.01337331636615509,
          -0.04754563746617719,
          -0.043106360603343365,
          -0.06493839626713127,
          -0.04661163044097443,
          -0.04642331972873952,
          -0.03817566189996614,
          -0.02865941186314503,
          -0.0028200909463253223,
          -0.030052577320925405,
          -0.031112050940680782,
          -0.05017587778285112,
          -0.046108789126554306,
          -0.03977451018172404,
          0.010369733058618389,
          0.018852245957236047,
          -0.029767429556928956,
          -0.03870042485281113,
          -0.01970802061246602,
          -0.02012683188248473,
          0.0009700939127894615,
          0.013100436681222707,
          0.013100436681222707,
          0.0024082731265051708,
          -0.00248817241983529,
          -0.03751238190131291,
          -0.05706231331548845,
          -0.0497354271000724,
          -0.05605627537377232,
          -0.06091452684069812,
          -0.04822409044091631,
          -0.03800353178932575,
          -0.03046953885277831,
          -0.025145700114765884,
          -0.05048570835841863,
          -0.052578222053437616,
          -0.05746571736021702,
          -0.05204829974719822,
          -0.04885961524143858,
          -0.041868064141253845,
          -0.005363728092020604,
          0.013035601357717105,
          0.018784609773081478,
          -0.0019976339758890987,
          -0.00777592248839736,
          -0.011164287224721669,
          -0.008357910530825118,
          -0.0260508069780675,
          -0.049691663261379235,
          -0.0258837290805621,
          -0.06341406586675045,
          -0.05425153551685629,
          -0.04406603672585259,
          -0.013921807993845039,
          -0.01982902310322921,
          -0.025463553328122078,
          -0.04836385324756914,
          -0.036052961698642166,
          -0.01109915378689749,
          -0.02562639385498732,
          -0.029079270031066338,
          -0.02401111784354066,
          -0.012322147897735116,
          -0.015617715892745562,
          -0.0066726027634314376,
          -0.022428881772797504,
          -0.03282302624544837,
          -0.026755586478420086,
          -0.026258468583307902,
          -0.01387316957557675,
          -0.03911779403890108,
          -0.027109929736871086,
          -0.03980129590756446,
          -0.04786336962106803,
          -0.04196704053933662,
          -0.03921200461716052,
          -0.030415652512456374,
          -0.0026957322850432053,
          -0.010415113757776267,
          -0.007905876655321784,
          -0.02817032437364137,
          -0.0160381277436595,
          -0.011278139700535704,
          -0.008445170570680309,
          0.020998084779950126,
          0.04716030889227512,
          0.026060685451358173,
          -0.02064244015753183,
          -0.017910219196580916,
          -0.0006579961681507245,
          0.021208402143205598,
          0.023278723367984804,
          0.0068848264786578505,
          0.06623694289165262,
          0.1200520779318169,
          0.09695694289245237,
          0.12423294606372708,
          0.11676161226482185,
          0.10801754185020944,
          0.10801754185020944,
          0.04432192943364365,
          0.04145742705427936,
          0.050293782579092665,
          0.09437557532161417,
          0.11800505581880123,
          0.03776798529031796,
          0.02682507393443869,
          0.039342926161181936,
          0.043684191073908495,
          0.05404269764392789,
          0.025111283418997116,
          0.05222956854650666,
          -0.03488227706220725,
          -0.06541168633194855,
          -0.04886587070782566,
          0.030809877429195904,
          0.08491172258152058,
          0.020359168792312258,
          0.1021764478577151,
          0.05183239490157911,
          0.0464695197436164,
          0.015720114078564804,
          -0.059149813026924736,
          -0.06639820983965786,
          -0.01597974355378378,
          -0.006522411579562998,
          -0.02014478805569499,
          -0.024910508813308953,
          -0.0012570746800398907,
          -0.012866866844485453,
          -0.006352016418341277,
          0.08927482818361462,
          0.0035066640318694017,
          0.06191546543911334,
          0.011328815984070031,
          0.02357916597413726,
          -0.025096804463328338,
          -0.01816913337816607,
          0.020881106559749046,
          0.0019326620950352986,
          -0.04147179429829051,
          0.019111995008357984,
          -0.04446099340393096,
          0.003756241354748082,
          -0.0273850780515455,
          -0.02494464251502491,
          -0.04025030014620978,
          -0.08494131075724484,
          -0.04677581217326367,
          -0.11394652540501081,
          -0.09898930973708343,
          0.06992941668653703,
          0.17095617015463646,
          0.046045841271124266,
          0.0870702948384125,
          0.07984828099494545,
          0.04892289932656704,
          -0.06471407685711357,
          -0.052418337425303135,
          -0.07658985781099038,
          -0.06317798122745993,
          -0.0659745936802458,
          -0.07611475033790634,
          -0.08110396112526748,
          -0.057064865377398806,
          -0.04281216171792037,
          -0.05128503596732474,
          -0.09383536178723549,
          -0.0815770162503785,
          -0.1307234341337742,
          -0.08769910948138465,
          -0.017102712900779117,
          -0.028316026708851135,
          -0.07686153902097395,
          -0.05615523001799029,
          -0.05736324497308586,
          -0.06242881061800979,
          -0.054011351869851676,
          -0.04310615066038771,
          -0.02935104763246426,
          -0.06374498668902544,
          -0.05191638016318963,
          -0.08979570346249065,
          -0.10398820763884765,
          -0.05608304560702968,
          -0.06099310366538143,
          -0.05342397738990952,
          -0.9651842587447859
         ],
         "xaxis": "x",
         "y": [
          6,
          5,
          12,
          15,
          14,
          7,
          15,
          13,
          7,
          16,
          12,
          7,
          13,
          23,
          9,
          4,
          6,
          10,
          20,
          14,
          15,
          7,
          5,
          7,
          6,
          6,
          2,
          7,
          5,
          3,
          5,
          293,
          364,
          18,
          56,
          11,
          3,
          8,
          15,
          11,
          4,
          5,
          2,
          3,
          2,
          4,
          2,
          3,
          4,
          10,
          2,
          2,
          3,
          3,
          6,
          159,
          11,
          2,
          1,
          11,
          135,
          69,
          51,
          7,
          1,
          3,
          69,
          16,
          17,
          14,
          8,
          11,
          14,
          16,
          8,
          12,
          13,
          12,
          10,
          13,
          8,
          6,
          7,
          2,
          14,
          13,
          9,
          8,
          10,
          9,
          7,
          11,
          7,
          7,
          19,
          11,
          11,
          7,
          14,
          5,
          17,
          11,
          22,
          21,
          13,
          5,
          9,
          18,
          10,
          8,
          9,
          9,
          2,
          6,
          3,
          11,
          13,
          15,
          3,
          10,
          7,
          22,
          12,
          16,
          9,
          14,
          6,
          1,
          8,
          9,
          7,
          5,
          10,
          2,
          3,
          9,
          6,
          8,
          6,
          9,
          6,
          4,
          5,
          5,
          13,
          12,
          6,
          2,
          3,
          8,
          14,
          14,
          10,
          19,
          12,
          7,
          22,
          14,
          9,
          11,
          8,
          9,
          10,
          6,
          12,
          8,
          4,
          3,
          6,
          4,
          6,
          11,
          10,
          7,
          4,
          2,
          1,
          8,
          2,
          3,
          5,
          3,
          2,
          2,
          2,
          1,
          3,
          2,
          1,
          2,
          3,
          3,
          1,
          7,
          9,
          4,
          7,
          4,
          5,
          12,
          7,
          6,
          7,
          12,
          21,
          10,
          5,
          10,
          4,
          6,
          3,
          1,
          3,
          2,
          8,
          11,
          8,
          1,
          6,
          8,
          10,
          7,
          2,
          8,
          1,
          6,
          11,
          16,
          14,
          5,
          3,
          3,
          3,
          6,
          8,
          3,
          3,
          6,
          2,
          1,
          12,
          8,
          4,
          3,
          5,
          2,
          1,
          2,
          11,
          14,
          20,
          22,
          18,
          13,
          24,
          14,
          22,
          20,
          10,
          2,
          382,
          256,
          14,
          13,
          36,
          16,
          22,
          12,
          14,
          23,
          13,
          14,
          15,
          14,
          8,
          11,
          15,
          20,
          5
         ],
         "yaxis": "y"
        },
        {
         "hovertemplate": "prod_id=P7<br>diff_mean_pct=%{x}<br>qty_order=%{y}<extra></extra>",
         "legendgroup": "P7",
         "marker": {
          "color": "#FF6692",
          "symbol": "circle"
         },
         "mode": "markers",
         "name": "P7",
         "showlegend": true,
         "type": "scattergl",
         "x": [
          0.03214298846580547,
          0.03317848878681887,
          0.034619579364935614,
          -0.014975929823654976,
          -0.0162595999705371,
          -0.008775533464801855,
          -0.06993132215391627,
          -0.03004049938319925,
          -0.010089319424875919,
          0.008553662625238738,
          -0.017892658609388917,
          -0.03432379555349541,
          0.019027904940089765,
          0.021473681410639243,
          -0.01341748144444248,
          -0.023584806184068503,
          -0.038587136405506775,
          -0.06753118588115604,
          -0.06701678905431523,
          -0.06014482404180064,
          -0.08612682953799866,
          -0.09384465893317918,
          -0.02316630690278798,
          -0.01489738612743904,
          -0.014536362702498517,
          -0.04132609911004571,
          -0.012588113980469898,
          -0.00803833310425912,
          -0.008851132976682143,
          0.009777711091420888,
          -0.005003025166948859,
          -0.017154667623179076,
          -0.06393638707266563,
          -0.05584661595007416,
          -0.005052379229919409,
          -0.017048360765265603,
          -0.05274363486870804,
          -0.044844093322354846,
          0.006206530699919705,
          0.02146046778771831,
          -0.016880450237231788,
          -0.02101479936913263,
          -0.04500492425368853,
          -0.04689990853105899,
          0.006079582732550574,
          0.027243336299439744,
          -0.0014094981434661616,
          0.017597437400714736,
          0.018962201146629172,
          -0.00801372018201518,
          0.010002940568247838,
          0.014246604865794496,
          0.00867633758739691,
          -0.0020843208906940894,
          -0.05878914485472707,
          -0.026018526270980388,
          -0.03638174480630776,
          -0.03789228563749386,
          0.012557950642533578,
          0.026709675364679483,
          -3.5269973400474195e-05,
          -0.0063379699970155514,
          0.02012780457329217,
          0.031100411853179914,
          0.027227742229258146,
          0.02862684545972042,
          0.02721055421971636,
          -0.004811039134202373,
          0.017600723074529614,
          0.017582371821234937,
          0.0231580961149292,
          0.0215848263156045,
          0.02411533059347982,
          0.02551424050632893,
          0.024182527649818868,
          0.020065324170511805,
          0.01402080870085344,
          0.021760471250512878,
          0.02649004673901219,
          0.020297253690420614,
          -0.003257108872543863,
          0.019710992516789125,
          0.011984134881935575,
          0.025894522162656284,
          0.03142230784978205,
          0.02155744007966852,
          0.03645520097343768,
          0.019373955998373833,
          0.017262787999257498,
          -0.007474079066738311,
          -0.01558023769164647,
          -0.03521764309589874,
          -0.07605062387119883,
          -0.04843203880406945,
          -0.039934356206095596,
          -0.04849949371072749,
          -0.035845540485994955,
          0.00211696375066599,
          -0.030383084815380525,
          0.0010531993763562512,
          0.06092324135344161,
          0.004872166623339001,
          -0.03020862715503201,
          -0.009057039252671421,
          -0.008076135869803144,
          -0.007232086886308754,
          -0.001938912939423441,
          0.017233138245639525,
          -0.0031150231619369627,
          -0.02770857099750693,
          -0.012338637400461849,
          -0.04272604640281073,
          -0.05477736558339116,
          -0.04261709763656012,
          -0.050013578748948045,
          -0.028840102314749372,
          0.006765103833925,
          0.00029619786854544764,
          -0.004910266949811404,
          -0.0384205017652915,
          -0.04227077741038405,
          0.00034303249905070186,
          0.008835518764234591,
          -0.017153688124792017,
          -0.01795017044044308,
          -0.031371739848680816,
          -0.023136287575855497,
          -0.02200972883503801,
          0.004944909556707938,
          0.00408387099304527,
          -0.012057459538185098,
          -0.015314090794673793,
          -0.046117800488707145,
          -0.029602822425593138,
          -0.02123974865803321,
          -0.012160375198154182,
          0.010406961493741927,
          -0.047038621750635445,
          -0.052708601800619266,
          -0.048799048548113504,
          0.017206374130935922,
          0.002769170970947854,
          0.058791870753673564,
          0.027075459765870506,
          0.04023675913156301,
          0.0400622516195858,
          0.0369375097821175,
          0.012926714596031222,
          0.026004822841944202,
          0.027305067371230222,
          -0.018528124788352602,
          -0.019408956007609165,
          0.02904001405927891,
          -0.03393322022877755,
          -0.04975147074675203,
          -0.026985009784444017,
          -0.03989130486286328,
          -0.04944335967835537,
          -0.07059689483675281,
          -0.05256954976777204,
          -0.051369094704759054,
          -0.032985276807395075,
          -0.05426861613458592,
          -0.03248575102957876,
          0.0061136916234511025,
          -0.016481794338221212,
          -0.029049706412714118,
          -0.03808049161256306,
          -0.028787572542938202,
          -0.07475536013798188,
          0.017385933802307702,
          -0.014683578452338157,
          -0.03700666685102992,
          0.03951965202730411,
          -0.06588555717085083,
          -0.04104174532959004,
          -0.0383864991249776,
          -0.0426498842126751,
          0.02170733054393423,
          -0.06583228331516261,
          -0.03976703911684456,
          -0.010643743534536844,
          -0.046109138078686086,
          0.004785298251601957,
          -0.02157362575928758,
          0.019090660767480044,
          0.00015889671103740187,
          0.007269489612783615,
          0.02885196864262033,
          -0.011662359018402131,
          0.015139806720607421,
          0.002920528166429818,
          -0.02330343047376602,
          -0.022446227905535167,
          -0.020413684480052468,
          -0.031054616697234624,
          -0.04093140131436863,
          -0.040516369700299266,
          -0.0392500984652336,
          -0.04512736826513285,
          -0.0928505457165081,
          -0.05098361108666843,
          -0.040649260599927316,
          -0.020760748965326998,
          0.010061660641935396,
          -0.002508146978955392,
          -0.013717664437282054,
          -0.02973281106423034,
          -0.011953989790109372,
          -0.03018372884138471,
          -0.015305318047726434,
          -0.007798509086114121,
          -0.006247252823175104,
          -0.0076043163779821715,
          -0.010246525400038087,
          -0.007668557307627516,
          -0.007183863700022572,
          -0.013080255403325247,
          -0.0074595923613028844,
          -0.013924253558615655,
          0.0019271213278629104,
          -0.06824533906734918,
          -0.0693561138801563,
          -0.04492046145793682,
          0.024677432737927937,
          0.04405144480493422,
          0.022267015325777215,
          0.03653590278254778,
          0.034658341580621754,
          0.048717116103596685,
          0.09501854154479268,
          0.10119959758578514,
          0.036604366432117556,
          0.06107114434490493,
          -0.05407182058738467,
          -0.07583935478094127,
          -0.07734288877786134,
          -0.06168013123833891,
          -0.011127290669351812,
          -0.007809759357704308,
          -0.007704227223643402,
          0.11472627681385605,
          0.1208770791586039,
          -0.010652537676123935,
          -0.018894114159421577,
          -0.01616421208536443,
          0.10171901959713285,
          0.10390198012060817,
          -0.00669164342818313,
          -0.014042156301937612,
          -0.03303576550574267,
          -0.04364857477811518,
          -0.011189529390805798,
          -0.013432215215729506,
          -0.018128733806491326,
          0.08821690963339031,
          -0.030278142621438547,
          -0.04696891212356665,
          -0.04951198402523047,
          0.09463965908132545,
          -0.0034017933266709136,
          -0.04039108025916286,
          -0.027016907327659333,
          -0.04734901856620708,
          0.021762647888271217,
          0.03348475044073919,
          0.08563895782536661,
          0.02246002352757805,
          -0.022964905260209313,
          0.0038533602622010544,
          -0.05701180184482892,
          -0.07255888171156465,
          -0.04510220401060659,
          -0.041164241164241104,
          -0.12419362753753525,
          -0.9774818210611802
         ],
         "xaxis": "x",
         "y": [
          662,
          595,
          1166,
          1797,
          2238,
          94,
          230,
          171,
          108,
          113,
          264,
          352,
          34,
          423,
          709,
          728,
          569,
          745,
          623,
          459,
          726,
          656,
          457,
          794,
          600,
          412,
          309,
          745,
          844,
          666,
          660,
          770,
          1058,
          883,
          642,
          1149,
          2624,
          1415,
          753,
          622,
          419,
          597,
          522,
          1392,
          912,
          705,
          771,
          542,
          963,
          970,
          636,
          634,
          527,
          660,
          1077,
          1384,
          2734,
          1291,
          270,
          452,
          385,
          410,
          375,
          422,
          677,
          635,
          392,
          919,
          2200,
          417,
          389,
          353,
          170,
          208,
          245,
          403,
          309,
          377,
          253,
          307,
          722,
          473,
          364,
          361,
          245,
          335,
          282,
          465,
          447,
          1125,
          483,
          937,
          1139,
          968,
          1004,
          259,
          1202,
          413,
          428,
          296,
          159,
          513,
          710,
          465,
          453,
          486,
          342,
          276,
          520,
          732,
          395,
          1631,
          2622,
          2768,
          2030,
          1466,
          695,
          603,
          518,
          1351,
          2087,
          879,
          739,
          848,
          819,
          2083,
          1366,
          767,
          300,
          147,
          276,
          284,
          706,
          1338,
          888,
          280,
          236,
          2070,
          3621,
          624,
          143,
          125,
          64,
          206,
          310,
          310,
          278,
          319,
          240,
          234,
          687,
          739,
          320,
          857,
          849,
          784,
          522,
          888,
          1712,
          2166,
          2388,
          1051,
          649,
          522,
          225,
          783,
          1802,
          2271,
          1293,
          303,
          120,
          1229,
          1342,
          225,
          1358,
          524,
          889,
          828,
          295,
          1095,
          899,
          543,
          546,
          592,
          510,
          388,
          660,
          1684,
          1409,
          1073,
          805,
          756,
          1283,
          773,
          269,
          487,
          719,
          551,
          416,
          894,
          1091,
          506,
          915,
          728,
          218,
          92,
          257,
          501,
          285,
          511,
          462,
          403,
          228,
          521,
          398,
          233,
          196,
          190,
          157,
          134,
          250,
          2248,
          5446,
          3512,
          492,
          79,
          86,
          179,
          151,
          88,
          56,
          42,
          40,
          36,
          920,
          2950,
          3330,
          1933,
          1185,
          833,
          592,
          50,
          91,
          800,
          1429,
          1215,
          73,
          85,
          713,
          900,
          695,
          734,
          647,
          700,
          780,
          104,
          940,
          2591,
          1958,
          60,
          166,
          963,
          1837,
          1469,
          107,
          54,
          68,
          100,
          184,
          173,
          186,
          117,
          18,
          26,
          643,
          1729
         ],
         "yaxis": "y"
        },
        {
         "hovertemplate": "prod_id=P8<br>diff_mean_pct=%{x}<br>qty_order=%{y}<extra></extra>",
         "legendgroup": "P8",
         "marker": {
          "color": "#B6E880",
          "symbol": "circle"
         },
         "mode": "markers",
         "name": "P8",
         "showlegend": true,
         "type": "scattergl",
         "x": [
          -0.04478948939982078,
          -0.06693082246435404,
          0.002516350448880726,
          -0.003464954168569843,
          -0.04771399531169875,
          0.019850358993621794,
          -0.08450836774321144,
          -0.10649747246058684,
          -0.10208171379579481,
          -0.06984822998705062,
          -0.04853688840105809,
          -0.042988230670428,
          -0.01609418453966487,
          0.05366566968541053,
          0.009350687708963388,
          0.0714620062145096,
          0.1135203540829927,
          0.09731131132422283,
          0.02477202714881332,
          -0.013882014556806063,
          -0.05912669750226957,
          -0.09683788428842405,
          -0.10399573580511862,
          -0.09996233172221093,
          -0.09083924744211323,
          -0.07775417049679544,
          -0.01873603141846135,
          0.007315518458126904,
          0.04413295485723377,
          0.04792290333534832,
          0.06278592500748204,
          0.014915598276474023,
          -0.002898886653681648,
          0.031007273060989566,
          0.016965484326633844,
          -0.011872115582136309,
          0.03914772050707088,
          0.03098010195185311,
          0.058629726041682956,
          0.034667290859392956,
          -0.03175793544109583,
          -0.04378393900891173,
          -0.037612293861037045,
          -0.03704023789531891,
          0.027841891671798073,
          0.025680568116238055,
          0.03181948226118706,
          0.05660743705532122,
          0.024303796792971705,
          0.059715191405413856,
          0.03678358295768466,
          -0.009795836196539108,
          -0.035196421723530096,
          0.000574446549802597,
          0.027964276631839678,
          0.008348905359626691,
          -0.004232419244149057,
          -0.027211502120020065,
          -0.03882330556799506,
          0.01447275474341785,
          -0.0008685192765917687,
          0.031201774384410873,
          -0.03358737516076864,
          -0.015560085901984565,
          0.040987447193896895,
          0.018423193415352288,
          0.014236946140767377,
          0.02595368882448186,
          -0.010410332362567708,
          0.0017909874420196411,
          0.007705119800176417,
          0.008586741276977198,
          0.013592781147179697,
          0.026673370926520164,
          0.024201171680664445,
          0.020426316545362828,
          0.020045652007295595,
          0.017705989236668426,
          -0.0010910665969139665,
          0.004613731671725411,
          -0.007416931608572048,
          -0.015675924533762185,
          -0.00584183103841222,
          -0.016152697435021977,
          -0.033661568332281115,
          -0.04195845756597603,
          -0.009919742441285368,
          0.0056646729901384,
          0.018236350836026923,
          0.03480235790871755,
          0.042981688211131144,
          0.05267075127027877,
          0.02678303118485296,
          -0.0016582807550646198,
          8.677076567053447e-05,
          0.021559201667080526,
          0.016227753682678345,
          0.008587104947106926,
          -0.005714277251667278,
          0.016547402738210065,
          0.021183289847418317,
          0.013920791716274104,
          0.021678328284285234,
          0.0124128902789861,
          -0.1651705268023281,
          -0.13593331942002895,
          -0.14154896380905288,
          -0.1425958307872023,
          0.016664102596436338,
          0.0068504158533461805,
          0.0200898788077302,
          0.004383719763123592,
          -0.030562976207821092,
          -0.05264115267227864,
          -0.056996053963385016,
          -0.043412148198249,
          -0.03571116170320396,
          -0.10921202397069317,
          -0.14707206043313,
          -0.1649067022577386,
          0.03351942873829151,
          0.006240794499398948,
          0.024677231284484395,
          0.006931139214025573,
          0.012232024890252878,
          0.025477421264860828,
          0.018119696687110897,
          0.005023857009416557,
          -0.009111572004064013,
          0.0015321386350737865,
          -0.0030098937056774796,
          -0.01455657200064307,
          -0.12620489876004254,
          -0.12760091666436324,
          -0.10066536315836831,
          -0.13069661137855476,
          -0.12362579637097204,
          -0.12715278215930118,
          -0.03729754871922845,
          -0.07854142183316773,
          -0.0858236199686108,
          -0.04694748461488762,
          -0.02849004093360074,
          -0.026637935822775877,
          -0.04868127155831218,
          0.025814383353932824,
          0.006431688447828081,
          -0.10603197509601366,
          -0.08292619184486649,
          -0.0665052925926843,
          -0.02820184581524209,
          -0.021704231520403506,
          -0.020374585381289813,
          -0.015014540397410375,
          -0.013205557707779791,
          -0.014424849134420568,
          -0.015944158963301428,
          -0.03781742624420644,
          -0.9627978023233181
         ],
         "xaxis": "x",
         "y": [
          17,
          75,
          21,
          43,
          44,
          16,
          61,
          170,
          386,
          293,
          189,
          148,
          74,
          15,
          31,
          17,
          22,
          17,
          19,
          72,
          250,
          404,
          212,
          162,
          155,
          165,
          70,
          106,
          24,
          42,
          55,
          32,
          35,
          44,
          25,
          58,
          16,
          11,
          13,
          9,
          84,
          96,
          83,
          81,
          23,
          31,
          21,
          27,
          77,
          61,
          74,
          75,
          86,
          65,
          38,
          58,
          45,
          118,
          104,
          76,
          46,
          26,
          149,
          156,
          19,
          23,
          23,
          23,
          65,
          68,
          44,
          34,
          45,
          35,
          35,
          68,
          58,
          51,
          50,
          48,
          31,
          32,
          84,
          65,
          235,
          390,
          286,
          61,
          36,
          38,
          42,
          70,
          145,
          108,
          17,
          30,
          39,
          27,
          36,
          12,
          18,
          18,
          17,
          24,
          695,
          1812,
          1092,
          1547,
          60,
          58,
          43,
          36,
          42,
          142,
          92,
          80,
          102,
          444,
          1002,
          995,
          77,
          37,
          39,
          32,
          45,
          56,
          63,
          52,
          48,
          53,
          46,
          52,
          837,
          876,
          221,
          669,
          339,
          763,
          130,
          236,
          466,
          273,
          163,
          93,
          651,
          138,
          114,
          220,
          119,
          367,
          189,
          393,
          755,
          505,
          252,
          179,
          259,
          560,
          915
         ],
         "yaxis": "y"
        },
        {
         "hovertemplate": "prod_id=P9<br>diff_mean_pct=%{x}<br>qty_order=%{y}<extra></extra>",
         "legendgroup": "P9",
         "marker": {
          "color": "#FF97FF",
          "symbol": "circle"
         },
         "mode": "markers",
         "name": "P9",
         "showlegend": true,
         "type": "scattergl",
         "x": [
          -0.03584171470737217,
          -0.05876371045279214,
          -0.027452704595573845,
          -0.013562788730316242,
          -0.04080000683351244,
          0.020318523668078174,
          -0.06193580291358665,
          -0.08523400675161219,
          -0.10227361452509538,
          -0.07461892631203534,
          -0.06160511614131406,
          -0.062230787297195465,
          -0.04688196038519973,
          0.017507645741324483,
          0.012236236187277717,
          0.052186181352069955,
          0.0631143945959578,
          0.028849930408769917,
          -0.010054218689998716,
          -0.06545627639063237,
          -0.0693014264092522,
          -0.0986507445753339,
          -0.10862741166403488,
          -0.07562218654854472,
          -0.07575270001453888,
          -0.0627936005666604,
          -0.053877584377572056,
          -0.01000945660090452,
          0.03598014907004481,
          0.04633985495926294,
          0.04244842743893582,
          0.02638044570416596,
          0.008771368985096922,
          0.009899136576715173,
          0.007112001781524581,
          -0.02762919514953274,
          0.037574272361346306,
          0.04304765361643864,
          0.04342690924180969,
          0.03101004514527523,
          -0.05271122620206108,
          -0.06835500150717709,
          -0.06563075426696337,
          -0.03354944998255198,
          0.019116518814799716,
          0.03611938582351906,
          0.020195178885580468,
          0.05235820989230985,
          0.09002056657973005,
          0.07413252072336798,
          0.09909617301510851,
          0.007571726383492344,
          0.1025831949137981,
          0.12095849230042933,
          0.13673390409044955,
          0.0844144952883877,
          0.044253573316478494,
          0.02059279727981359,
          0.010281936764081408,
          0.026726973252004134,
          0.024514871184405103,
          0.024407996179874217,
          0.004480711123419307,
          0.03632021950133262,
          -0.015430974616973018,
          -0.025483777508884965,
          -0.023993374158953553,
          -0.012329703400934271,
          -0.035061275312930205,
          -0.035949271547745465,
          -0.031002494708938472,
          -0.0331695145211244,
          3.053483427827902e-06,
          -0.04326933012750851,
          -0.05025942514389826,
          -0.054485410304823526,
          -0.03714019959359528,
          -0.041053137228526916,
          -0.048551604117689565,
          -0.033378644312739764,
          -0.017192963294831602,
          -0.026393245255520583,
          -0.06738992212845137,
          -0.03446294670773113,
          0.009274289091034275,
          -0.012441216069538574,
          -0.009833417374814838,
          -0.016854170657165282,
          -0.024122130554511623,
          -0.025620578893373745,
          -0.029620012581478377,
          -0.010586932492257565,
          -0.033287455714811676,
          -0.05796516027949845,
          -0.05841941130612688,
          -0.04537720954498892,
          -0.06467941861389041,
          -0.07094461780044357,
          -0.05941914006087869,
          -0.049088927545086744,
          -0.044362287981644814,
          -0.052966411635330675,
          -0.051017911223862206,
          -0.047172074743908395,
          -0.17069377671456842,
          -0.15893533127782258,
          -0.16312534465561476,
          -0.16748097280836471,
          -0.03464641309357586,
          -0.036607113293315716,
          -0.1008698072123123,
          -0.0974551779295926,
          -0.07261627005157505,
          -0.06292770988394639,
          -0.0654722110158209,
          -0.06904295096019447,
          -0.07045958346335178,
          -0.1384795275342054,
          -0.16392790609246968,
          -0.18915563028197865,
          -0.008127945214767573,
          -0.03192747363478052,
          -0.052287168306205896,
          -0.03851438730068884,
          -0.04537553048737433,
          -0.04356013849882253,
          -0.036831174008772866,
          -0.05032456167449682,
          -0.059424292395583306,
          -0.06668226600082343,
          -0.05800230827316413,
          -0.06583232211590137,
          -0.16861308122708843,
          -0.16888324662671442,
          -0.14008018756255414,
          -0.1698465059271885,
          -0.167406590226534,
          -0.16753943599736482,
          -0.1064423861118554,
          -0.1108456112973705,
          -0.13247665427762714,
          -0.11007495114047147,
          -0.06148894887355387,
          -0.07372709242128238,
          -0.10252130159722268,
          -0.04032905258952605,
          -0.037122134819707914,
          -0.13276318761153677,
          -0.11321906257945734,
          -0.10623798554154497,
          -0.06591054349176244,
          -0.06997904057663049,
          -0.0712004247668069,
          -0.0738167557932264,
          -0.06972156182922915,
          -0.07158186745073294,
          -0.06868344944237613,
          -0.09244218360890331,
          -0.9652413518806118
         ],
         "xaxis": "x",
         "y": [
          22,
          63,
          21,
          34,
          38,
          18,
          43,
          106,
          331,
          185,
          144,
          102,
          44,
          19,
          45,
          18,
          14,
          11,
          29,
          64,
          154,
          201,
          164,
          95,
          108,
          86,
          65,
          81,
          17,
          19,
          24,
          13,
          25,
          41,
          13,
          25,
          6,
          6,
          2,
          6,
          61,
          46,
          43,
          34,
          8,
          5,
          5,
          6,
          4,
          6,
          4,
          2,
          1,
          2,
          1,
          4,
          10,
          12,
          9,
          5,
          8,
          8,
          5,
          7,
          27,
          20,
          16,
          8,
          18,
          21,
          34,
          21,
          13,
          11,
          13,
          10,
          19,
          34,
          20,
          22,
          24,
          14,
          45,
          26,
          18,
          10,
          4,
          10,
          20,
          23,
          37,
          27,
          29,
          46,
          242,
          141,
          158,
          114,
          42,
          34,
          62,
          42,
          47,
          131,
          759,
          960,
          722,
          901,
          58,
          35,
          224,
          212,
          55,
          107,
          71,
          91,
          63,
          301,
          758,
          839,
          52,
          44,
          42,
          28,
          52,
          42,
          44,
          49,
          47,
          47,
          34,
          65,
          584,
          485,
          149,
          404,
          220,
          541,
          94,
          169,
          541,
          415,
          58,
          39,
          513,
          65,
          39,
          170,
          84,
          139,
          50,
          259,
          370,
          175,
          129,
          87,
          110,
          328,
          590
         ],
         "yaxis": "y"
        }
       ],
       "layout": {
        "autosize": true,
        "legend": {
         "title": {
          "text": "prod_id"
         },
         "tracegroupgap": 0
        },
        "margin": {
         "t": 60
        },
        "template": {
         "data": {
          "bar": [
           {
            "error_x": {
             "color": "#2a3f5f"
            },
            "error_y": {
             "color": "#2a3f5f"
            },
            "marker": {
             "line": {
              "color": "#E5ECF6",
              "width": 0.5
             },
             "pattern": {
              "fillmode": "overlay",
              "size": 10,
              "solidity": 0.2
             }
            },
            "type": "bar"
           }
          ],
          "barpolar": [
           {
            "marker": {
             "line": {
              "color": "#E5ECF6",
              "width": 0.5
             },
             "pattern": {
              "fillmode": "overlay",
              "size": 10,
              "solidity": 0.2
             }
            },
            "type": "barpolar"
           }
          ],
          "carpet": [
           {
            "aaxis": {
             "endlinecolor": "#2a3f5f",
             "gridcolor": "white",
             "linecolor": "white",
             "minorgridcolor": "white",
             "startlinecolor": "#2a3f5f"
            },
            "baxis": {
             "endlinecolor": "#2a3f5f",
             "gridcolor": "white",
             "linecolor": "white",
             "minorgridcolor": "white",
             "startlinecolor": "#2a3f5f"
            },
            "type": "carpet"
           }
          ],
          "choropleth": [
           {
            "colorbar": {
             "outlinewidth": 0,
             "ticks": ""
            },
            "type": "choropleth"
           }
          ],
          "contour": [
           {
            "colorbar": {
             "outlinewidth": 0,
             "ticks": ""
            },
            "colorscale": [
             [
              0,
              "#0d0887"
             ],
             [
              0.1111111111111111,
              "#46039f"
             ],
             [
              0.2222222222222222,
              "#7201a8"
             ],
             [
              0.3333333333333333,
              "#9c179e"
             ],
             [
              0.4444444444444444,
              "#bd3786"
             ],
             [
              0.5555555555555556,
              "#d8576b"
             ],
             [
              0.6666666666666666,
              "#ed7953"
             ],
             [
              0.7777777777777778,
              "#fb9f3a"
             ],
             [
              0.8888888888888888,
              "#fdca26"
             ],
             [
              1,
              "#f0f921"
             ]
            ],
            "type": "contour"
           }
          ],
          "contourcarpet": [
           {
            "colorbar": {
             "outlinewidth": 0,
             "ticks": ""
            },
            "type": "contourcarpet"
           }
          ],
          "heatmap": [
           {
            "colorbar": {
             "outlinewidth": 0,
             "ticks": ""
            },
            "colorscale": [
             [
              0,
              "#0d0887"
             ],
             [
              0.1111111111111111,
              "#46039f"
             ],
             [
              0.2222222222222222,
              "#7201a8"
             ],
             [
              0.3333333333333333,
              "#9c179e"
             ],
             [
              0.4444444444444444,
              "#bd3786"
             ],
             [
              0.5555555555555556,
              "#d8576b"
             ],
             [
              0.6666666666666666,
              "#ed7953"
             ],
             [
              0.7777777777777778,
              "#fb9f3a"
             ],
             [
              0.8888888888888888,
              "#fdca26"
             ],
             [
              1,
              "#f0f921"
             ]
            ],
            "type": "heatmap"
           }
          ],
          "heatmapgl": [
           {
            "colorbar": {
             "outlinewidth": 0,
             "ticks": ""
            },
            "colorscale": [
             [
              0,
              "#0d0887"
             ],
             [
              0.1111111111111111,
              "#46039f"
             ],
             [
              0.2222222222222222,
              "#7201a8"
             ],
             [
              0.3333333333333333,
              "#9c179e"
             ],
             [
              0.4444444444444444,
              "#bd3786"
             ],
             [
              0.5555555555555556,
              "#d8576b"
             ],
             [
              0.6666666666666666,
              "#ed7953"
             ],
             [
              0.7777777777777778,
              "#fb9f3a"
             ],
             [
              0.8888888888888888,
              "#fdca26"
             ],
             [
              1,
              "#f0f921"
             ]
            ],
            "type": "heatmapgl"
           }
          ],
          "histogram": [
           {
            "marker": {
             "pattern": {
              "fillmode": "overlay",
              "size": 10,
              "solidity": 0.2
             }
            },
            "type": "histogram"
           }
          ],
          "histogram2d": [
           {
            "colorbar": {
             "outlinewidth": 0,
             "ticks": ""
            },
            "colorscale": [
             [
              0,
              "#0d0887"
             ],
             [
              0.1111111111111111,
              "#46039f"
             ],
             [
              0.2222222222222222,
              "#7201a8"
             ],
             [
              0.3333333333333333,
              "#9c179e"
             ],
             [
              0.4444444444444444,
              "#bd3786"
             ],
             [
              0.5555555555555556,
              "#d8576b"
             ],
             [
              0.6666666666666666,
              "#ed7953"
             ],
             [
              0.7777777777777778,
              "#fb9f3a"
             ],
             [
              0.8888888888888888,
              "#fdca26"
             ],
             [
              1,
              "#f0f921"
             ]
            ],
            "type": "histogram2d"
           }
          ],
          "histogram2dcontour": [
           {
            "colorbar": {
             "outlinewidth": 0,
             "ticks": ""
            },
            "colorscale": [
             [
              0,
              "#0d0887"
             ],
             [
              0.1111111111111111,
              "#46039f"
             ],
             [
              0.2222222222222222,
              "#7201a8"
             ],
             [
              0.3333333333333333,
              "#9c179e"
             ],
             [
              0.4444444444444444,
              "#bd3786"
             ],
             [
              0.5555555555555556,
              "#d8576b"
             ],
             [
              0.6666666666666666,
              "#ed7953"
             ],
             [
              0.7777777777777778,
              "#fb9f3a"
             ],
             [
              0.8888888888888888,
              "#fdca26"
             ],
             [
              1,
              "#f0f921"
             ]
            ],
            "type": "histogram2dcontour"
           }
          ],
          "mesh3d": [
           {
            "colorbar": {
             "outlinewidth": 0,
             "ticks": ""
            },
            "type": "mesh3d"
           }
          ],
          "parcoords": [
           {
            "line": {
             "colorbar": {
              "outlinewidth": 0,
              "ticks": ""
             }
            },
            "type": "parcoords"
           }
          ],
          "pie": [
           {
            "automargin": true,
            "type": "pie"
           }
          ],
          "scatter": [
           {
            "marker": {
             "colorbar": {
              "outlinewidth": 0,
              "ticks": ""
             }
            },
            "type": "scatter"
           }
          ],
          "scatter3d": [
           {
            "line": {
             "colorbar": {
              "outlinewidth": 0,
              "ticks": ""
             }
            },
            "marker": {
             "colorbar": {
              "outlinewidth": 0,
              "ticks": ""
             }
            },
            "type": "scatter3d"
           }
          ],
          "scattercarpet": [
           {
            "marker": {
             "colorbar": {
              "outlinewidth": 0,
              "ticks": ""
             }
            },
            "type": "scattercarpet"
           }
          ],
          "scattergeo": [
           {
            "marker": {
             "colorbar": {
              "outlinewidth": 0,
              "ticks": ""
             }
            },
            "type": "scattergeo"
           }
          ],
          "scattergl": [
           {
            "marker": {
             "colorbar": {
              "outlinewidth": 0,
              "ticks": ""
             }
            },
            "type": "scattergl"
           }
          ],
          "scattermapbox": [
           {
            "marker": {
             "colorbar": {
              "outlinewidth": 0,
              "ticks": ""
             }
            },
            "type": "scattermapbox"
           }
          ],
          "scatterpolar": [
           {
            "marker": {
             "colorbar": {
              "outlinewidth": 0,
              "ticks": ""
             }
            },
            "type": "scatterpolar"
           }
          ],
          "scatterpolargl": [
           {
            "marker": {
             "colorbar": {
              "outlinewidth": 0,
              "ticks": ""
             }
            },
            "type": "scatterpolargl"
           }
          ],
          "scatterternary": [
           {
            "marker": {
             "colorbar": {
              "outlinewidth": 0,
              "ticks": ""
             }
            },
            "type": "scatterternary"
           }
          ],
          "surface": [
           {
            "colorbar": {
             "outlinewidth": 0,
             "ticks": ""
            },
            "colorscale": [
             [
              0,
              "#0d0887"
             ],
             [
              0.1111111111111111,
              "#46039f"
             ],
             [
              0.2222222222222222,
              "#7201a8"
             ],
             [
              0.3333333333333333,
              "#9c179e"
             ],
             [
              0.4444444444444444,
              "#bd3786"
             ],
             [
              0.5555555555555556,
              "#d8576b"
             ],
             [
              0.6666666666666666,
              "#ed7953"
             ],
             [
              0.7777777777777778,
              "#fb9f3a"
             ],
             [
              0.8888888888888888,
              "#fdca26"
             ],
             [
              1,
              "#f0f921"
             ]
            ],
            "type": "surface"
           }
          ],
          "table": [
           {
            "cells": {
             "fill": {
              "color": "#EBF0F8"
             },
             "line": {
              "color": "white"
             }
            },
            "header": {
             "fill": {
              "color": "#C8D4E3"
             },
             "line": {
              "color": "white"
             }
            },
            "type": "table"
           }
          ]
         },
         "layout": {
          "annotationdefaults": {
           "arrowcolor": "#2a3f5f",
           "arrowhead": 0,
           "arrowwidth": 1
          },
          "autotypenumbers": "strict",
          "coloraxis": {
           "colorbar": {
            "outlinewidth": 0,
            "ticks": ""
           }
          },
          "colorscale": {
           "diverging": [
            [
             0,
             "#8e0152"
            ],
            [
             0.1,
             "#c51b7d"
            ],
            [
             0.2,
             "#de77ae"
            ],
            [
             0.3,
             "#f1b6da"
            ],
            [
             0.4,
             "#fde0ef"
            ],
            [
             0.5,
             "#f7f7f7"
            ],
            [
             0.6,
             "#e6f5d0"
            ],
            [
             0.7,
             "#b8e186"
            ],
            [
             0.8,
             "#7fbc41"
            ],
            [
             0.9,
             "#4d9221"
            ],
            [
             1,
             "#276419"
            ]
           ],
           "sequential": [
            [
             0,
             "#0d0887"
            ],
            [
             0.1111111111111111,
             "#46039f"
            ],
            [
             0.2222222222222222,
             "#7201a8"
            ],
            [
             0.3333333333333333,
             "#9c179e"
            ],
            [
             0.4444444444444444,
             "#bd3786"
            ],
            [
             0.5555555555555556,
             "#d8576b"
            ],
            [
             0.6666666666666666,
             "#ed7953"
            ],
            [
             0.7777777777777778,
             "#fb9f3a"
            ],
            [
             0.8888888888888888,
             "#fdca26"
            ],
            [
             1,
             "#f0f921"
            ]
           ],
           "sequentialminus": [
            [
             0,
             "#0d0887"
            ],
            [
             0.1111111111111111,
             "#46039f"
            ],
            [
             0.2222222222222222,
             "#7201a8"
            ],
            [
             0.3333333333333333,
             "#9c179e"
            ],
            [
             0.4444444444444444,
             "#bd3786"
            ],
            [
             0.5555555555555556,
             "#d8576b"
            ],
            [
             0.6666666666666666,
             "#ed7953"
            ],
            [
             0.7777777777777778,
             "#fb9f3a"
            ],
            [
             0.8888888888888888,
             "#fdca26"
            ],
            [
             1,
             "#f0f921"
            ]
           ]
          },
          "colorway": [
           "#636efa",
           "#EF553B",
           "#00cc96",
           "#ab63fa",
           "#FFA15A",
           "#19d3f3",
           "#FF6692",
           "#B6E880",
           "#FF97FF",
           "#FECB52"
          ],
          "font": {
           "color": "#2a3f5f"
          },
          "geo": {
           "bgcolor": "white",
           "lakecolor": "white",
           "landcolor": "#E5ECF6",
           "showlakes": true,
           "showland": true,
           "subunitcolor": "white"
          },
          "hoverlabel": {
           "align": "left"
          },
          "hovermode": "closest",
          "mapbox": {
           "style": "light"
          },
          "paper_bgcolor": "white",
          "plot_bgcolor": "#E5ECF6",
          "polar": {
           "angularaxis": {
            "gridcolor": "white",
            "linecolor": "white",
            "ticks": ""
           },
           "bgcolor": "#E5ECF6",
           "radialaxis": {
            "gridcolor": "white",
            "linecolor": "white",
            "ticks": ""
           }
          },
          "scene": {
           "xaxis": {
            "backgroundcolor": "#E5ECF6",
            "gridcolor": "white",
            "gridwidth": 2,
            "linecolor": "white",
            "showbackground": true,
            "ticks": "",
            "zerolinecolor": "white"
           },
           "yaxis": {
            "backgroundcolor": "#E5ECF6",
            "gridcolor": "white",
            "gridwidth": 2,
            "linecolor": "white",
            "showbackground": true,
            "ticks": "",
            "zerolinecolor": "white"
           },
           "zaxis": {
            "backgroundcolor": "#E5ECF6",
            "gridcolor": "white",
            "gridwidth": 2,
            "linecolor": "white",
            "showbackground": true,
            "ticks": "",
            "zerolinecolor": "white"
           }
          },
          "shapedefaults": {
           "line": {
            "color": "#2a3f5f"
           }
          },
          "ternary": {
           "aaxis": {
            "gridcolor": "white",
            "linecolor": "white",
            "ticks": ""
           },
           "baxis": {
            "gridcolor": "white",
            "linecolor": "white",
            "ticks": ""
           },
           "bgcolor": "#E5ECF6",
           "caxis": {
            "gridcolor": "white",
            "linecolor": "white",
            "ticks": ""
           }
          },
          "title": {
           "x": 0.05
          },
          "xaxis": {
           "automargin": true,
           "gridcolor": "white",
           "linecolor": "white",
           "ticks": "",
           "title": {
            "standoff": 15
           },
           "zerolinecolor": "white",
           "zerolinewidth": 2
          },
          "yaxis": {
           "automargin": true,
           "gridcolor": "white",
           "linecolor": "white",
           "ticks": "",
           "title": {
            "standoff": 15
           },
           "zerolinecolor": "white",
           "zerolinewidth": 2
          }
         }
        },
        "xaxis": {
         "anchor": "y",
         "autorange": true,
         "domain": [
          0,
          1
         ],
         "range": [
          -1.0649676570676243,
          0.4249842294506842
         ],
         "title": {
          "text": "diff_mean_pct"
         },
         "type": "linear"
        },
        "yaxis": {
         "anchor": "x",
         "autorange": true,
         "domain": [
          0,
          1
         ],
         "range": [
          -420.59448818897636,
          5867.594488188976
         ],
         "title": {
          "text": "qty_order"
         },
         "type": "linear"
        }
       }
      },
      "image/png": "[encoded data removed]",
      "text/html": [
       "<div>                            <div id=\"b440db18-1d30-472f-bbc5-bca24093b66e\" class=\"plotly-graph-div\" style=\"height:525px; width:100%;\"></div>            <script type=\"text/javascript\">                require([\"plotly\"], function(Plotly) {                    window.PLOTLYENV=window.PLOTLYENV || {};                                    if (document.getElementById(\"b440db18-1d30-472f-bbc5-bca24093b66e\")) {                    Plotly.newPlot(                        \"b440db18-1d30-472f-bbc5-bca24093b66e\",                        [{\"hovertemplate\":\"prod_id=P1<br>diff_mean_pct=%{x}<br>qty_order=%{y}<extra></extra>\",\"legendgroup\":\"P1\",\"marker\":{\"color\":\"#636efa\",\"symbol\":\"circle\"},\"mode\":\"markers\",\"name\":\"P1\",\"showlegend\":true,\"type\":\"scattergl\",\"x\":[-0.05216964495356447,-0.05721914079132149,-0.037139034891744846,-0.0386610432814363,-0.01065221291692943,-0.04521479547516079,-0.026247507559568305,0.008723944162174814,0.008582878817825077,0.025641025641025578,0.012658227848101234,0.018803418803418737,0.025641025641025578,0.021367521367521264,0.015224757452909474,-0.027292554010365934,-0.01736647685423659,0.00628930817610069,-0.006289308176100537,0.00628930817610069,0.00628930817610069,-0.0014565427104602851,-0.05561359564657361,-0.033145786918742474,-0.022910862965036256,-0.06202124699548435,-0.06202124699548435,-0.04637585178381204,0.024231134133420134,0.04781001085336907,0.10553504629944226,0.07505262139614309,0.05165039201978519,0.06865962657006312,0.008335124549210584,-0.1398791983916541,-0.13315336012936194,-0.04682658110361989,-0.16197111869909953,-0.13789296274576063,0.019814747018554447,-0.12999621737485803,-0.1407957240400943,-0.12582692048062635,-0.1373404419081272,-0.1759208356239692,-0.14085875267145914,-0.16461582027562763,-0.1728407977106944,-0.1840645648480272,-0.17487555021213602,-0.24366412944611998,-0.22498964367210822,-0.2228558890644199,-0.23696682464454977,-0.19338705102135983,-0.252131283671568,-0.2075129129192112,-0.26449917537108303,-0.28813880010286935,-0.2761391444413469,-0.26854751928932846,-0.22401456844420015,-0.1726005782816491,-0.15941714532882972,-0.2173827449499718,-0.12519058219621013,-0.17517740341369695,-0.24791849511438757,-0.1911856331317575,-0.1942466576278169,-0.1778657089067856,-0.057789212551117415,-0.05380186262539215,-0.06588920592849028,-0.05364137581488728,-0.050522420991886974,-0.05225233105284652,-0.005708207549490783,0.02441319230350536,-0.012479536300246409,0.014366714912582809,0.020067168340653845,0.03207380679882237,0.03249841999929783,0.03654190512973571,0.028878901723956324,0.0295642265504526,0.018706603403517562,0.03569046030687129,-0.008498560024834245,-0.0066099858534530275,0.12367220098885573,0.036169636213651775,-0.03326630287924426,0.08669538924600935,0.04370281873966266,-0.14940400338606447,0.09561439410635014,0.12792851629621332,0.09744343445757978,0.0344315260334297,0.004595729786489363,0.025553313036636775,0.03222984627407002,-0.056155917958697295,-0.07600094460562709,-0.0333204395298728,0.023631183247280575,0.033288405169332395,0.020212578208171898,0.019041584197173406,0.028845253694145725,0.03368283773724269,0.03007168992254589,0.0238783243565342,0.018736151527598683,0.029694595986184937,0.04660958910753753,0.049769680057005806,0.044417825042153,0.055801095243964816,0.05590819939750891,0.04094164370524002,0.05622762495974303,0.05704195142590186,0.045400257389937734,0.03734421887340205,0.03158119543521648,0.03734421887340205,0.03734421887340205,0.056397751226148235,0.03389337767688542,0.0229393640579097,0.020408163265306135,0.022417829263884498,0.0253763440860215,0.03225806451612903,0.03225806451612903,0.03225806451612903,0.03225806451612903,0.028764373233060934,0.021037868162692888,0.051939974859406594,0.059407809914393234,0.04258315800455575,0.02830777435370742,0.029563903448335104,0.03889453938174452,0.03552335543990018,0.052553046760143066,0.054018445322793165,0.04929685210944358,0.04306680660817729,0.013441488152180478,-0.015792851441735187,0.0030742204655247155,0.008403361344537898,-0.030303030303030342,-0.06942392909896603,-0.051383399209486216,-0.07226890756302519,0.008403361344537898,0.05096157024255345,0.045751633986928074,-0.022298456260720502,-0.028107794842074763,0.008403361344537898,-0.0024669762666426954,-0.028458670883488447,-0.018078955828824718,-0.010467164788738235,-0.010467164788738235,-0.012880659508765609,-0.014590218268785048,-0.010467164788738235,-0.018713271748832163,-0.010467164788738235,-0.02889742769569639,-0.033021758623136555,0.027080256031511634,0.045751633986928074,0.0511413991995249,0.054018445322793165,0.054018445322793165,0.05024850568169378,0.054018445322793165,0.054018445322793165,0.054018445322793165,0.04093567251461991,0.024518388791593872,0.03403551142716593,0.03112840466926072,0.04098893949251785,0.04438642297650129,0.04438642297650129,0.04438642297650129,0.033942558746736275,0.033942558746736275,0.04438642297650129,0.04438642297650129,0.03278212938787349,0.04438642297650129,0.04438642297650129,0.023498694516971255,-0.9767939521230902],\"xaxis\":\"x\",\"y\":[28.0,67.0,46.0,19.0,12.0,7.0,6.0,13.0,7.0,6.0,7.0,15.0,7.0,12.0,11.0,16.0,9.0,6.0,8.0,5.0,4.0,13.0,16.0,16.0,12.0,20.0,32.0,27.0,5.0,8.0,15.0,6.0,2.0,14.0,12.0,15.0,11.0,16.0,9.0,11.0,13.0,12.0,8.0,8.0,5.0,1.0,12.0,10.0,17.0,30.0,19.0,22.0,15.0,9.0,10.0,23.0,26.0,19.0,50.0,43.0,34.0,23.0,16.0,19.0,13.0,25.0,17.0,17.0,18.0,9.0,22.0,28.0,35.0,34.0,16.0,34.0,40.0,49.0,17.0,13.0,11.0,15.0,22.0,16.0,16.0,12.0,22.0,9.0,14.0,8.0,47.0,47.0,10.0,24.0,10.0,8.0,3.0,11.0,5.0,11.0,11.0,11.0,8.0,4.0,11.0,18.0,16.0,46.0,12.0,11.0,12.0,14.0,11.0,8.0,11.0,10.0,10.0,10.0,18.0,11.0,15.0,15.0,16.0,10.0,11.0,20.0,25.0,14.0,18.0,20.0,7.0,9.0,15.0,19.0,17.0,32.0,15.0,19.0,16.0,19.0,32.0,31.0,23.0,19.0,21.0,19.0,13.0,16.0,25.0,10.0,14.0,6.0,4.0,2.0,9.0,9.0,6.0,2.0,5.0,1.0,2.0,5.0,3.0,3.0,5.0,21.0,58.0,15.0,17.0,11.0,13.0,23.0,24.0,41.0,24.0,7.0,12.0,4.0,14.0,24.0,15.0,13.0,12.0,17.0,2.0,7.0,9.0,9.0,19.0,9.0,8.0,29.0,32.0,9.0,18.0,23.0,26.0,25.0,25.0,22.0,11.0,9.0,7.0,9.0,5.0,8.0],\"yaxis\":\"y\"},{\"hovertemplate\":\"prod_id=P2<br>diff_mean_pct=%{x}<br>qty_order=%{y}<extra></extra>\",\"legendgroup\":\"P2\",\"marker\":{\"color\":\"#EF553B\",\"symbol\":\"circle\"},\"mode\":\"markers\",\"name\":\"P2\",\"showlegend\":true,\"type\":\"scattergl\",\"x\":[0.03202621925251862,0.03188356582529442,0.02734776822050214,0.018372563346825063,0.011630973785539041,0.00341877480696778,0.010495503492221352,0.009396764792310872,0.047103530623031686,0.007762338180461279,0.002990265021288211,0.0016939091161859053,-0.0757959113520576,-0.06176701212354958,-0.03064263800705604,0.004039223123827121,0.026727558624962754,0.007339807797067439,0.012258760654500555,0.03624480062386743,0.025192873084681763,0.048241615558870785,0.045215823024756366,0.036996087135619096,0.006781780724342075,0.010640664181246793,-0.004493388161634262,-0.024406414333975522,0.002505232704298006,0.03959616633538655,0.044443413785730135,0.043734935576121174,0.006075455596172485,0.012793044850758724,0.025822819731933264,0.0010239556854356353,0.022575364703062664,0.026285823674923586,0.029882913785147864,0.048823278711470776,0.07062302288110534,0.0770632915599023,0.08285547476285807,0.08322671753971898,0.08754190714389622,0.047888345551200154,0.02191742984219167,0.07801113182975805,0.035130472567272024,-0.002769605124822124,-0.03263599747707782,0.005992316571971137,-0.019826504221960063,-0.028441350311035646,-0.03144438458515405,-0.020977210402164468,-0.011960645623713864,-0.011979252491953161,-0.025404340063287012,-0.04452489954602288,0.024408589277946938,0.03447970200559973,0.05460210206906939,-0.0672330830036254,0.023433215000850154,0.01597485367056549,-0.011900107412060611,-0.02866298419964731,0.0009627667293328834,-0.011570037262266417,-0.036025761760597574,-0.021545449047286194,-0.028473474084637063,-0.11658302922536484,-0.10194443049403037,-0.061576274403577796,-0.01792202436556884,0.028549158551537376,0.02526475349056066,0.0017062956559288514,-0.03601116725065367,-0.05291723328730392,-0.039280081726566884,-0.04940530249508115,0.022827951975092572,0.034487768043948035,0.021033434063550925,-0.02739778556061147,-0.0308827294095744,-0.0530577080517108,-0.041903166775846865,-0.05409584643886635,-0.031861732384797545,-0.00048079964948514174,0.004242494944003353,0.02596026825113968,0.00798898058201968,-0.012712175708764303,-0.04172228363941209,-0.04278293990943566,-0.07339893417120442,-0.0686031476083994,-0.05553764728028627,-0.05186983275056794,-0.03839728976358987,-0.02276975869071944,0.03430484882269319,0.04662152345216103,0.037720446691761556,-0.03006644746936427,-0.12428005030449313,-0.13390115610569833,-0.11770646630039482,-0.1010102580925383,-0.1284343199701539,-0.1400941623591685,-0.12136109363259512,-0.12624333064836907,-0.12611466158875906,-0.13685402549504577,-0.13105782908134558,-0.0888611971031017,-0.08618045656350114,-0.05936474247436209,-0.05766521559390069,-0.03047362642080609,-0.005092490960636967,-0.0022326122275274723,0.005587864545066813,-0.015392917946447164,-0.00683745398077228,0.08076833334184907,0.021440263501938166,0.0020496731867954564,-0.00434873832248288,0.027310264008374097,0.054837847569753365,0.021072683109238825,0.022620811045003294,0.01948092997259293,0.06514538780478343,0.030935308781476028,0.04135722777799279,-0.12120665381884983,-0.06899824228654396,-0.08188806187972932,0.05510194942636156,0.05900213528402568,0.05957102604264228,0.15080613912149504,0.1703673709509757,0.1122859292811997,0.07658775660486676,0.08740043024313829,0.09420124288477555,0.09673063312969278,0.023353000678080705,0.02924441712775758,0.05970802993306419,0.10527836640339057,0.11163726824523092,0.04116922737631375,0.033281706449065335,0.037990161965844024,0.037479807719339835,0.040463777422613444,0.053741433143866923,0.05081956677917759,0.039913246302340055,0.04264066060500488,0.05002595598644243,0.022380422517711284,0.03448562939572097,-0.0014451196479823764,-0.02323930241396946,-0.0021258154519547927,0.09195343555103899,-0.015843160301784776,-0.04999207287232721,0.0038410930012736473,0.050238997320388494,0.05621607215992278,0.01850838549699499,0.02331291051064032,-0.002691713108642045,-0.031750743685201074,-0.00036293230057075427,0.044796162555150516,0.02148441476221796,0.05765069614263894,0.06406417651752067,0.03262310624739458,0.037992827293489,0.018499313322387294,0.009301669025849512,0.047377677067019584,-0.004118242217353279,-0.005521665534499443,0.029981000960669538,0.03647768028272647,0.05287044880184319,0.04444266225378877,0.0698262028770818,0.10353569276472603,0.04975076591868832,0.049482474664437566,0.09549300532142062,-0.0664063608148611,-0.05810276189521995,-0.08525218506503801,-0.008775926876336103,0.018691137954615883,-0.004054106889824593,0.02687169594289059,0.004926125768012773,-0.02948458442927026,-0.04471236488791955,-0.03260149387273078,-0.03672011023517904,-0.036774348799108174,-0.04851137543951839,-0.0536496032063226,-0.02362217670128028,-0.04507207638966901,-0.03164051814617435,-0.031761854488805356,-0.04916334705555015,-0.16720078443713735,-0.11469298677217178,-0.139419472270986,-0.0006347767717561975,-0.02484095496680046,-0.03376245305555196,-0.04987949288128632,-0.04801631486569568,-0.04839249599983153,-0.047901431681776775,-0.0069902851440145535,0.04360641800247033,0.010331808724664457,-0.1280571628270407,-0.1543227664714289,-0.10874899187091586,-0.013343252094038556,-0.05366014438140787,-0.08453413792013953,-0.09996645496106911,-0.12078961777432938,-0.05407918585313016,-0.024934450101378278,-0.06604601225852196,-0.06742381531579575,-0.07102623946503744,-0.07734609785278651,-0.06414131494649253,-0.034684861268090963,-0.028125421064935267,-0.06925247241440746,-0.07186982405374316,-0.05678148481913707,-0.058304442198199094,-0.04633843192518472,-0.021327833852301976,-0.029182810052441544,-0.03556473050708625,-0.030698403442859273,-0.05140543495817009,-0.12680910514787194,-0.155160795795614,-0.14973487044446726,-0.03720111762735145,-0.016311170975057996,-0.02166309336385369,-0.022122422844311432,-0.022544788125224476,-0.015824802300301106,-0.08275879235984833,-0.08995261855695501,-0.09323588273545323,-0.10392909513710119,-0.09823695348883162,-0.9706384681284841],\"xaxis\":\"x\",\"y\":[69.0,63.0,98.0,135.0,144.0,170.0,181.0,127.0,83.0,127.0,119.0,140.0,606.0,356.0,220.0,145.0,134.0,112.0,141.0,115.0,92.0,90.0,48.0,74.0,117.0,163.0,93.0,110.0,43.0,51.0,76.0,97.0,71.0,44.0,71.0,71.0,30.0,42.0,51.0,76.0,73.0,45.0,51.0,30.0,43.0,35.0,33.0,52.0,98.0,94.0,32.0,16.0,104.0,330.0,271.0,153.0,146.0,148.0,226.0,271.0,173.0,123.0,70.0,717.0,148.0,95.0,158.0,273.0,195.0,158.0,75.0,103.0,100.0,1020.0,1604.0,703.0,470.0,310.0,52.0,79.0,128.0,71.0,72.0,88.0,47.0,17.0,37.0,68.0,60.0,70.0,70.0,98.0,59.0,35.0,42.0,30.0,60.0,76.0,187.0,188.0,193.0,617.0,427.0,329.0,222.0,195.0,151.0,101.0,108.0,229.0,987.0,904.0,741.0,620.0,980.0,1130.0,772.0,983.0,864.0,224.0,75.0,298.0,180.0,195.0,205.0,144.0,150.0,119.0,124.0,123.0,60.0,27.0,36.0,15.0,15.0,22.0,18.0,14.0,58.0,39.0,35.0,30.0,65.0,2087.0,3740.0,1235.0,69.0,59.0,30.0,35.0,34.0,45.0,51.0,44.0,23.0,12.0,35.0,63.0,53.0,48.0,35.0,40.0,37.0,66.0,54.0,71.0,71.0,95.0,102.0,87.0,136.0,290.0,822.0,1222.0,1042.0,100.0,28.0,899.0,1113.0,71.0,52.0,47.0,39.0,15.0,53.0,431.0,463.0,105.0,70.0,145.0,33.0,85.0,61.0,72.0,74.0,39.0,40.0,44.0,85.0,58.0,49.0,42.0,68.0,16.0,10.0,55.0,39.0,252.0,565.0,476.0,90.0,11.0,51.0,89.0,78.0,105.0,46.0,103.0,49.0,90.0,113.0,42.0,58.0,58.0,73.0,44.0,103.0,1864.0,4049.0,2160.0,135.0,84.0,65.0,72.0,65.0,58.0,51.0,54.0,53.0,60.0,529.0,1385.0,1429.0,179.0,185.0,440.0,633.0,762.0,136.0,152.0,187.0,117.0,89.0,103.0,150.0,141.0,105.0,182.0,488.0,540.0,449.0,97.0,61.0,100.0,75.0,67.0,69.0,361.0,1103.0,1055.0,63.0,13.0,16.0,8.0,22.0,27.0,59.0,41.0,25.0,52.0,49.0,38.0],\"yaxis\":\"y\"},{\"hovertemplate\":\"prod_id=P3<br>diff_mean_pct=%{x}<br>qty_order=%{y}<extra></extra>\",\"legendgroup\":\"P3\",\"marker\":{\"color\":\"#00cc96\",\"symbol\":\"circle\"},\"mode\":\"markers\",\"name\":\"P3\",\"showlegend\":true,\"type\":\"scattergl\",\"x\":[-0.05332416237144819,0.004922090892231208,-0.06569237212250834,-0.04701426292239947,-0.011573587435908401,0.021663731212372514,-0.019578270124762532,-0.031025482119602987,-0.02748575897028626,-0.03982005363521156,-0.05202451804705033,-0.03178749801979334,-0.03355003221909785,-0.03758667049253934,-0.020823177436447654,-0.0360077966491046,-0.03191113211149024,-0.008919046290413008,-0.02306311671533752,0.007475993462607935,-0.012918129378083173,-0.019564218120980834,-0.007186659159864589,-0.03517692451579976,-0.009516987897069616,-0.019007452556445592,-0.02348154465218214,-0.025446431573455244,-0.011979419307056679,0.02655556895207678,0.0431226334100649,-0.011133153186984882,-0.01707202696010747,-0.015094431682520027,-0.014807204985959941,-0.04085887893832394,-0.03063934967108879,-0.031878198722566586,-0.06231447415874777,-0.07484821209572114,-0.06960503443471106,-0.034789360364064374,0.002301759791649427,-0.00787474048262625,-0.003064188966648459,0.029633183049169346,0.0557630908464116,0.06350336967837387,0.03776739569473089,0.037288195214611644,0.0209846510888236,-0.02386982807161654,0.004341203351104203,-0.0026993620187655844,0.015518289251547515,0.032585465412931024,0.004428909967042527,-0.03247667163948319,-0.04425241233581125,-0.022011766272282223,0.04608734268845237,0.0300215024109418,0.037019550087643724,0.002354158666519084,0.01929575439833446,-0.015907782971534997,0.05861407477454637,0.03212680367175061,0.024468544088379205,0.06695245750349785,0.03677374046606372,0.02725417257686892,0.034524672428212874,0.0672955377287187,0.06350326180004127,0.05308851811119012,0.059937174303816905,0.06813475469229406,0.036696650655648706,0.08965436582981558,0.055586292810962716,0.03961325617191662,0.06681323788329724,0.04288178648465812,0.03969118298317118,0.035228089110747624,0.06859229720150734,0.1204906854227384,0.09637097811270273,0.005130421967873395,0.005401729470643663,-0.013477835783420183,0.004656619794233457,0.053636234961075606,0.055517482057022574,0.04959377723435547,0.04733116325654602,0.04885852460274813,0.027150337837837803,0.028020897771190344,0.03646544390908804,0.012867745207966344,0.05257709976409879,0.0649523090229136,0.06621498969051824,0.05582709054663733,0.0786210003237748,0.09082668187001122,-0.021034125415172966,-0.040518775837120616,-0.025338907893069893,-0.002954652451674502,0.011129588683970746,0.00385395038697596,0.0016975994348930325,0.01505982353212912,0.021736145760430526,0.017499464699355764,0.007750830257081954,0.06526340943640069,0.06459217915961542,0.014161375530719158,0.014588859416445672,0.008466208968736379,0.011202694435490658,0.010108872950892123,0.027731432622985015,0.06394782293723474,0.06138039494620352,0.09228653271002965,0.09386338007107899,0.07632463840650965,0.09375376943911627,0.0630304496170752,0.06842758623438047,0.11193808084824027,0.027100172152927576,0.03817933156660122,0.02973586725705208,0.11082809861082361,0.1365472130885465,-0.09501942776404093,0.0871305781231603,-0.011774402449075657,0.09293680297397762,0.11438375750643401,0.07029565647272072,0.16952406867760747,-0.04753727168125346,0.0036035916362431378,0.1559762236107623,0.10300916809386819,0.03125542982281763,0.10572904193646035,0.10692819622632967,0.06858809318456016,0.1767072349875607,0.19462330494644067,0.23603194544874304,0.22782545824117925,0.3421721714723229,0.22960189418290766,0.31607457819415974,0.14661733855863596,0.05831986318646328,0.10278611273646618,0.1268385663592683,0.18666501146816106,0.1567124210969412,0.060212078226388605,0.04603755750853472,0.0016822500826824348,0.07429195980289481,0.09062179695920643,0.02594958438638574,0.035414027176794795,-0.09123061617002674,-0.1104369416081684,0.09300424010992248,0.08383343151402936,0.06393751106609176,0.1211863673983669,0.12552234309845034,0.08784749584235496,0.06406637817230917,0.04844192282090048,-0.00969815583878297,0.04623573669668908,0.1486465451879672,0.04021403256856673,0.0890318868856663,0.05815807740652496,0.061379984200241135,0.050512221030512124,0.10316519021316183,0.07396006215183593,0.030768829390992278,0.008577960044423854,0.0007074652591681456,-0.971095631810081],\"xaxis\":\"x\",\"y\":[17.0,18.0,19.0,15.0,11.0,6.0,8.0,6.0,10.0,10.0,4.0,10.0,6.0,17.0,7.0,8.0,11.0,6.0,5.0,2.0,9.0,10.0,16.0,9.0,9.0,15.0,15.0,33.0,35.0,9.0,7.0,14.0,23.0,15.0,8.0,28.0,14.0,13.0,16.0,23.0,10.0,9.0,4.0,13.0,20.0,5.0,3.0,1.0,12.0,17.0,12.0,14.0,9.0,9.0,7.0,17.0,23.0,18.0,20.0,17.0,16.0,22.0,11.0,12.0,15.0,10.0,7.0,24.0,21.0,1.0,6.0,7.0,2.0,2.0,12.0,7.0,6.0,6.0,5.0,11.0,6.0,4.0,3.0,5.0,6.0,6.0,4.0,8.0,2.0,2.0,3.0,23.0,28.0,18.0,5.0,11.0,8.0,14.0,10.0,15.0,6.0,5.0,9.0,4.0,5.0,15.0,9.0,12.0,22.0,24.0,31.0,57.0,45.0,40.0,41.0,38.0,28.0,27.0,35.0,38.0,38.0,21.0,29.0,37.0,33.0,54.0,44.0,21.0,11.0,6.0,9.0,7.0,9.0,8.0,7.0,7.0,23.0,21.0,11.0,5.0,7.0,3.0,2.0,1.0,4.0,3.0,3.0,2.0,11.0,18.0,8.0,6.0,7.0,6.0,6.0,3.0,3.0,1.0,2.0,5.0,2.0,8.0,18.0,15.0,6.0,8.0,2.0,3.0,1.0,5.0,8.0,11.0,4.0,1.0,5.0,2.0,7.0,29.0,5.0,6.0,3.0,4.0,6.0,7.0,8.0,14.0,1.0,6.0,1.0,3.0,6.0,6.0,5.0,7.0,6.0,5.0,2.0,1.0,4.0,1.0],\"yaxis\":\"y\"},{\"hovertemplate\":\"prod_id=P4<br>diff_mean_pct=%{x}<br>qty_order=%{y}<extra></extra>\",\"legendgroup\":\"P4\",\"marker\":{\"color\":\"#ab63fa\",\"symbol\":\"circle\"},\"mode\":\"markers\",\"name\":\"P4\",\"showlegend\":true,\"type\":\"scattergl\",\"x\":[0.1052248942329101,0.0008598534549659798,-0.0014899006223590995,-0.0007485033761790436,-0.0007531909697531628,0.10663283289817227,-0.02448597562828573,-0.03994225768955377,-0.04874815587409843,-0.05009558702057484,-0.045133290103465167,-0.0397850448539738,-0.06708281746805136,-0.05461075199547087,-0.08598017279824303,-0.12649235598829459,-0.13037751530304334,-0.1309225576138212,-0.12817813765182182,-0.06182264703192154,-0.10323823291420049,-0.086722675568555,-0.08271883979275542,-0.0019462431276723853,0.011951463319820244,0.009773976786805201,-0.004632457747912733,-0.016887547498006958,-0.013499447154216599,-0.0359274439868367,-0.009215463827558987,-0.006804191532352753,-0.011282834453268121,-0.03737324373854609,-0.030476481368356744,-0.051767069216672096,-0.04747737858888211,-0.013526485731739295,-0.01844203749823789,0.010341216511039508,-0.05198318301052861,-0.06461209529627367,-0.06404176153717987,-0.08210463226564914,-0.09200333798760793,-0.10519309331093453,-0.08942914253458398,-0.09141445899517918,-0.08703578473905581,-0.08631087910257107,-0.1316759480828822,-0.15263737917926823,-0.14412492992521383,-0.13847259507275947,-0.09327778876735576,-0.1760854857693627,-0.21489334934865365,-0.21580024874919276,-0.18673675053647618,-0.08184203789042509,-0.10528861750224827,-0.11086018605905348,-0.035007529453450245,-0.0350119585437152,-0.09596761390696926,-0.028837843984534862,-0.09525321479599937,-0.09525321479599937,-0.09525321479599937,-0.10054506006244383,0.03421586092511814,-0.04497384580395726,-0.016292462681983085,0.019382424280116686,0.057850314907765314,0.06648205272013456,0.009882470305826547,0.0486103746217909,0.013179448994787613,0.021254487058378773,0.014863258026159263,0.0556521191510799,0.07285093519743045,0.06583664403916548,0.061575599611958985,0.0657969256927818,0.028928896590208163,0.04083786231884061,-0.007246376811594203,-0.007246376811594203,-0.019150209455415852,-0.009061733628023877,0.05439979325494261,0.07202011065559345,0.10040508286549911,0.11200815987829336,0.1285526588755965,0.0890469738030714,0.0485576923076923,0.03227743540243536,0.047027139874738944,0.0436325678496868,0.0715740592283801,-0.0003530502730947877,-0.05533538822838696,-0.016110934490303472,0.02311108924668451,0.013510768174274691,-0.0025370543463746524,0.017109295199183038,0.005241151875625753,-0.06925949076277955,-0.0004333468807153639,-0.06029894833186242,-0.02964565332284523,-0.03024404774200148,-0.18204293700001464,-0.19369087400239762,-0.19669956716224327,-0.10393549292004342,0.062130473995390435,-0.014606300838185059,-0.14437434804692004,-0.11563338817213617,-0.2162182308037719,-0.21021204410517386,-0.1601665510062458,-0.023885137565648234,0.024831938537522285,0.04560042052261005,0.1258221181203436,0.04268445883699491,0.030843722370895967,-0.13036132492732289,-0.1547137699616825,-0.13795012371645837,0.07037326054719198,0.061663389669295375,0.04960018316348785,-0.05679875488595116,0.015783770309616762,-0.008968213990829305,0.006222421337523034,-0.002944144139799965,-0.014331540831111517,0.007599614914939004,0.0043983734680174205,-0.013782340658556408,-0.030936236900703924,-0.027002932320469228,-0.016145004772510307,-0.017259344241684117,-0.9711160397628715],\"xaxis\":\"x\",\"y\":[54.0,643.0,341.0,314.0,279.0,20.0,63.0,223.0,382.0,473.0,368.0,46.0,12.0,160.0,232.0,337.0,350.0,295.0,247.0,65.0,198.0,296.0,162.0,30.0,11.0,18.0,45.0,59.0,61.0,31.0,21.0,13.0,9.0,15.0,12.0,78.0,64.0,21.0,26.0,21.0,51.0,40.0,33.0,53.0,168.0,192.0,158.0,160.0,157.0,99.0,53.0,59.0,49.0,59.0,49.0,54.0,106.0,163.0,307.0,14.0,7.0,16.0,13.0,8.0,4.0,5.0,3.0,1.0,1.0,3.0,7.0,5.0,8.0,10.0,6.0,8.0,4.0,5.0,17.0,1.0,1.0,3.0,4.0,6.0,7.0,5.0,6.0,8.0,4.0,11.0,6.0,8.0,7.0,11.0,16.0,4.0,9.0,9.0,20.0,37.0,25.0,42.0,9.0,11.0,18.0,21.0,19.0,28.0,10.0,5.0,7.0,28.0,37.0,46.0,59.0,23.0,220.0,308.0,301.0,19.0,20.0,18.0,249.0,36.0,34.0,9.0,11.0,38.0,32.0,24.0,6.0,17.0,42.0,489.0,1510.0,1253.0,47.0,30.0,47.0,35.0,18.0,39.0,22.0,112.0,65.0,37.0,47.0,33.0,52.0,42.0,63.0,62.0,43.0],\"yaxis\":\"y\"},{\"hovertemplate\":\"prod_id=P5<br>diff_mean_pct=%{x}<br>qty_order=%{y}<extra></extra>\",\"legendgroup\":\"P5\",\"marker\":{\"color\":\"#FFA15A\",\"symbol\":\"circle\"},\"mode\":\"markers\",\"name\":\"P5\",\"showlegend\":true,\"type\":\"scattergl\",\"x\":[0.0027297543221111407,-0.0514873713751169,-0.05039318986626334,-0.0416025096775122,0.08041374708041356,-0.005913798525100603,-0.011444126928233796,-0.03114390113748906,-0.024655291805415713,-0.023972585275804564,0.045678731953241715,-0.04737851882436213,-0.08023455304330006,-0.03261965005575075,-0.010442303861403306,0.016248355984217498,-0.0020441589111363425,-0.022923712889891097,-0.019065532179863363,0.03606038555274499,-0.042558215317880566,-0.024625925821673913,-0.004578606046169656,-0.023281067114844817,-0.03338664819687473,-0.017773600145820172,0.013445332315160695,0.09971738199309305,0.01619967793880841,0.007964399324156433,0.005510144702291265,0.034654241374277646,0.017072284780239602,0.004381856544013123,0.013373409460215346,-0.02362143624994317,-0.03926667933003333,-0.039241538822530245,-0.07225073873802124,-0.04473342447026655,-0.019093473120424097,-0.033332660354121774,0.016431037265546927,-0.02874563827228947,0.05309925262505005,-0.002340054454886664,-0.0015306153535697361,-0.026592184871253467,0.013684948167956816,0.05114793121809118,0.06000147397900634,-0.07698454926442351,-0.004082616716657659,-0.02184362425821388,-0.04606447146050268,-0.05502824117988104,0.002102189435853766,-0.01043600936294047,-0.021012269624377976,-0.04384441158922064,-0.02967915601073563,0.009436326060317763,-0.11543503798261422,-0.07462516742596322,-0.1293402290718808,-0.19093731565711447,-0.22066643548661044,-0.2290422082472878,0.010494028113000117,-0.10025102311386712,-0.030419096656684054,0.017519466073414907,-0.02749667027646045,-0.005259146916570552,-0.0840494554602934,0.015993752156777223,0.05208435883131516,0.05242039586919094,-0.08987604586303073,-0.06789202713756422,0.030481829671566367,0.04900544888576894,0.03358127366398019,0.010252041967217478,-0.03078611448044819,-0.015870409252460423,0.024789148716570772,0.008983829107606173,0.05804032704518139,-0.0026570734324214253,0.002366751869733891,-0.005175496377152578,-0.01844358708948908,-0.006500743992893883,-0.1799169116562049,-0.17902462478796066,-0.14649268514381375,-0.07620622791756401,-0.10103259769184048,-0.10140400890868594,-0.16900887573964501,-0.17110489499338224,-0.1643564571273157,-0.05973088622921119,-0.014817176870748381,-0.019105902777777826,-0.01911690848214282,-0.14002986137418955,-0.1683626608030156,-0.18959283664930077,-0.11804193157432695,-0.0036019355241288693,-0.009696334475095393,-0.034950965694390435,-0.06264227479551127,-0.12871912501301447,-0.11786170572377391,-0.005335460626296628,-0.006891768019641862,0.01412837412321675,0.02173377075816858,-0.038012346712416246,-0.0058290972786607664,0.06422241900592567,0.01818417135831222,0.02113887864898135,-0.009170984250563887,0.015407826124065301,0.017397941982750693,-0.0792504182124489,-0.07148269361192357,0.01799143196789284,0.018111613852861475,-0.0013257132860202306,-0.07948674374220156,-0.13783654245609073,-0.09072420638724855,-0.14244509985493792,-0.09298416333771918,-0.12111624101100224,-0.04317447627496219,-0.09516565948209971,-0.13318049642128343,-0.09921003944908331,-0.07704413370151558,-0.06613232083226299,-0.06468741972771644,-0.0935449329129083,-0.9821555990892629],\"xaxis\":\"x\",\"y\":[1.0,1.0,4.0,2.0,3.0,1.0,3.0,7.0,8.0,4.0,8.0,13.0,15.0,20.0,21.0,4.0,9.0,12.0,11.0,5.0,15.0,6.0,12.0,12.0,8.0,11.0,1.0,6.0,1.0,4.0,3.0,2.0,1.0,5.0,13.0,6.0,4.0,7.0,43.0,38.0,45.0,36.0,22.0,30.0,27.0,32.0,23.0,43.0,12.0,12.0,9.0,380.0,554.0,441.0,390.0,412.0,159.0,99.0,175.0,325.0,327.0,146.0,195.0,90.0,58.0,31.0,136.0,103.0,47.0,17.0,12.0,6.0,18.0,7.0,6.0,3.0,4.0,3.0,2.0,4.0,3.0,7.0,12.0,14.0,12.0,15.0,18.0,3.0,6.0,9.0,3.0,3.0,4.0,5.0,466.0,1424.0,811.0,150.0,11.0,25.0,338.0,419.0,316.0,24.0,21.0,9.0,16.0,321.0,1031.0,1138.0,703.0,225.0,175.0,133.0,162.0,207.0,205.0,283.0,326.0,160.0,138.0,170.0,48.0,33.0,27.0,23.0,102.0,110.0,17.0,198.0,445.0,479.0,104.0,90.0,342.0,679.0,569.0,446.0,349.0,403.0,103.0,214.0,437.0,264.0,100.0,57.0,123.0,171.0,353.0],\"yaxis\":\"y\"},{\"hovertemplate\":\"prod_id=P6<br>diff_mean_pct=%{x}<br>qty_order=%{y}<extra></extra>\",\"legendgroup\":\"P6\",\"marker\":{\"color\":\"#19d3f3\",\"symbol\":\"circle\"},\"mode\":\"markers\",\"name\":\"P6\",\"showlegend\":true,\"type\":\"scattergl\",\"x\":[-0.06874854313923234,-0.06874854313923234,-0.08065124415236342,-0.10879727523060279,-0.06846192984057392,-0.09557809993692847,-0.0952149857516509,-0.07790430030620848,-0.10750044869997988,-0.09170761348992662,-0.06403243762850072,0.023842514580110934,-0.03807672852714204,-0.06140173871322938,-0.06219637915059488,-0.061601737133984216,-0.07505928138461908,-0.07638080673229443,-0.04180800959629974,-0.05016728411652179,-0.05791014180846901,-0.033138739844015545,-0.06094038200091136,-0.029780756709765013,-0.04213624686925943,-0.025054591222822394,0.0031802298025794397,-0.019791662621343672,-0.03196229577463895,-0.025335471666495673,-0.00869722325142338,-0.12204024007614758,-0.1444094019501501,-0.08553908545391087,-0.12302285687302424,-0.03748411547549802,-0.03749577354535573,-0.03706210576977033,-0.007685842116181484,-0.0371376265555594,0.07582025918890102,0.21165543976907508,0.21304629009588233,0.23630829787557514,0.19743693590313252,0.19086740220144172,0.25893063673618766,0.08218739979543166,0.20831268642399964,0.17943552902047682,0.19683537901034226,0.23782530645005248,0.1819633697492499,0.1310632826405752,-0.06891230044615089,-0.12223564548439785,-0.11540263138516725,0.25750375806724984,0.22718726211337484,0.1283414298141294,-0.13504584130160957,-0.09480349611816956,-0.11554727833236661,-0.06877149187275078,0.23434124537543016,0.04788095475927887,-0.09018950198443533,-0.06528691860716847,-0.04191473153732841,-0.03463049090095882,-0.03920067472778483,-0.04427300033842746,-0.015056975165474861,-0.007604911986509457,0.060611961861337785,-0.06976683513966442,-0.04392359264711137,-0.0323251970435627,-0.029472276257842784,-0.03543173002316422,-0.03357932049819688,-0.012446405412764872,0.025031632662346957,0.03992095575951692,-0.04820484304021629,-0.05525307847314646,-0.07900161791080937,0.00550115119382546,-0.028847874117768648,-0.06292347127641597,-0.043542447262096565,-0.01337331636615509,-0.04754563746617719,-0.043106360603343365,-0.06493839626713127,-0.04661163044097443,-0.04642331972873952,-0.03817566189996614,-0.02865941186314503,-0.0028200909463253223,-0.030052577320925405,-0.031112050940680782,-0.05017587778285112,-0.046108789126554306,-0.03977451018172404,0.010369733058618389,0.018852245957236047,-0.029767429556928956,-0.03870042485281113,-0.01970802061246602,-0.02012683188248473,0.0009700939127894615,0.013100436681222707,0.013100436681222707,0.0024082731265051708,-0.00248817241983529,-0.03751238190131291,-0.05706231331548845,-0.0497354271000724,-0.05605627537377232,-0.06091452684069812,-0.04822409044091631,-0.03800353178932575,-0.03046953885277831,-0.025145700114765884,-0.05048570835841863,-0.052578222053437616,-0.05746571736021702,-0.05204829974719822,-0.04885961524143858,-0.041868064141253845,-0.005363728092020604,0.013035601357717105,0.018784609773081478,-0.0019976339758890987,-0.00777592248839736,-0.011164287224721669,-0.008357910530825118,-0.0260508069780675,-0.049691663261379235,-0.0258837290805621,-0.06341406586675045,-0.05425153551685629,-0.04406603672585259,-0.013921807993845039,-0.01982902310322921,-0.025463553328122078,-0.04836385324756914,-0.036052961698642166,-0.01109915378689749,-0.02562639385498732,-0.029079270031066338,-0.02401111784354066,-0.012322147897735116,-0.015617715892745562,-0.0066726027634314376,-0.022428881772797504,-0.03282302624544837,-0.026755586478420086,-0.026258468583307902,-0.01387316957557675,-0.03911779403890108,-0.027109929736871086,-0.03980129590756446,-0.04786336962106803,-0.04196704053933662,-0.03921200461716052,-0.030415652512456374,-0.0026957322850432053,-0.010415113757776267,-0.007905876655321784,-0.02817032437364137,-0.0160381277436595,-0.011278139700535704,-0.008445170570680309,0.020998084779950126,0.04716030889227512,0.026060685451358173,-0.02064244015753183,-0.017910219196580916,-0.0006579961681507245,0.021208402143205598,0.023278723367984804,0.0068848264786578505,0.06623694289165262,0.1200520779318169,0.09695694289245237,0.12423294606372708,0.11676161226482185,0.10801754185020944,0.10801754185020944,0.04432192943364365,0.04145742705427936,0.050293782579092665,0.09437557532161417,0.11800505581880123,0.03776798529031796,0.02682507393443869,0.039342926161181936,0.043684191073908495,0.05404269764392789,0.025111283418997116,0.05222956854650666,-0.03488227706220725,-0.06541168633194855,-0.04886587070782566,0.030809877429195904,0.08491172258152058,0.020359168792312258,0.1021764478577151,0.05183239490157911,0.0464695197436164,0.015720114078564804,-0.059149813026924736,-0.06639820983965786,-0.01597974355378378,-0.006522411579562998,-0.02014478805569499,-0.024910508813308953,-0.0012570746800398907,-0.012866866844485453,-0.006352016418341277,0.08927482818361462,0.0035066640318694017,0.06191546543911334,0.011328815984070031,0.02357916597413726,-0.025096804463328338,-0.01816913337816607,0.020881106559749046,0.0019326620950352986,-0.04147179429829051,0.019111995008357984,-0.04446099340393096,0.003756241354748082,-0.0273850780515455,-0.02494464251502491,-0.04025030014620978,-0.08494131075724484,-0.04677581217326367,-0.11394652540501081,-0.09898930973708343,0.06992941668653703,0.17095617015463646,0.046045841271124266,0.0870702948384125,0.07984828099494545,0.04892289932656704,-0.06471407685711357,-0.052418337425303135,-0.07658985781099038,-0.06317798122745993,-0.0659745936802458,-0.07611475033790634,-0.08110396112526748,-0.057064865377398806,-0.04281216171792037,-0.05128503596732474,-0.09383536178723549,-0.0815770162503785,-0.1307234341337742,-0.08769910948138465,-0.017102712900779117,-0.028316026708851135,-0.07686153902097395,-0.05615523001799029,-0.05736324497308586,-0.06242881061800979,-0.054011351869851676,-0.04310615066038771,-0.02935104763246426,-0.06374498668902544,-0.05191638016318963,-0.08979570346249065,-0.10398820763884765,-0.05608304560702968,-0.06099310366538143,-0.05342397738990952,-0.9651842587447859],\"xaxis\":\"x\",\"y\":[6.0,5.0,12.0,15.0,14.0,7.0,15.0,13.0,7.0,16.0,12.0,7.0,13.0,23.0,9.0,4.0,6.0,10.0,20.0,14.0,15.0,7.0,5.0,7.0,6.0,6.0,2.0,7.0,5.0,3.0,5.0,293.0,364.0,18.0,56.0,11.0,3.0,8.0,15.0,11.0,4.0,5.0,2.0,3.0,2.0,4.0,2.0,3.0,4.0,10.0,2.0,2.0,3.0,3.0,6.0,159.0,11.0,2.0,1.0,11.0,135.0,69.0,51.0,7.0,1.0,3.0,69.0,16.0,17.0,14.0,8.0,11.0,14.0,16.0,8.0,12.0,13.0,12.0,10.0,13.0,8.0,6.0,7.0,2.0,14.0,13.0,9.0,8.0,10.0,9.0,7.0,11.0,7.0,7.0,19.0,11.0,11.0,7.0,14.0,5.0,17.0,11.0,22.0,21.0,13.0,5.0,9.0,18.0,10.0,8.0,9.0,9.0,2.0,6.0,3.0,11.0,13.0,15.0,3.0,10.0,7.0,22.0,12.0,16.0,9.0,14.0,6.0,1.0,8.0,9.0,7.0,5.0,10.0,2.0,3.0,9.0,6.0,8.0,6.0,9.0,6.0,4.0,5.0,5.0,13.0,12.0,6.0,2.0,3.0,8.0,14.0,14.0,10.0,19.0,12.0,7.0,22.0,14.0,9.0,11.0,8.0,9.0,10.0,6.0,12.0,8.0,4.0,3.0,6.0,4.0,6.0,11.0,10.0,7.0,4.0,2.0,1.0,8.0,2.0,3.0,5.0,3.0,2.0,2.0,2.0,1.0,3.0,2.0,1.0,2.0,3.0,3.0,1.0,7.0,9.0,4.0,7.0,4.0,5.0,12.0,7.0,6.0,7.0,12.0,21.0,10.0,5.0,10.0,4.0,6.0,3.0,1.0,3.0,2.0,8.0,11.0,8.0,1.0,6.0,8.0,10.0,7.0,2.0,8.0,1.0,6.0,11.0,16.0,14.0,5.0,3.0,3.0,3.0,6.0,8.0,3.0,3.0,6.0,2.0,1.0,12.0,8.0,4.0,3.0,5.0,2.0,1.0,2.0,11.0,14.0,20.0,22.0,18.0,13.0,24.0,14.0,22.0,20.0,10.0,2.0,382.0,256.0,14.0,13.0,36.0,16.0,22.0,12.0,14.0,23.0,13.0,14.0,15.0,14.0,8.0,11.0,15.0,20.0,5.0],\"yaxis\":\"y\"},{\"hovertemplate\":\"prod_id=P7<br>diff_mean_pct=%{x}<br>qty_order=%{y}<extra></extra>\",\"legendgroup\":\"P7\",\"marker\":{\"color\":\"#FF6692\",\"symbol\":\"circle\"},\"mode\":\"markers\",\"name\":\"P7\",\"showlegend\":true,\"type\":\"scattergl\",\"x\":[0.03214298846580547,0.03317848878681887,0.034619579364935614,-0.014975929823654976,-0.0162595999705371,-0.008775533464801855,-0.06993132215391627,-0.03004049938319925,-0.010089319424875919,0.008553662625238738,-0.017892658609388917,-0.03432379555349541,0.019027904940089765,0.021473681410639243,-0.01341748144444248,-0.023584806184068503,-0.038587136405506775,-0.06753118588115604,-0.06701678905431523,-0.06014482404180064,-0.08612682953799866,-0.09384465893317918,-0.02316630690278798,-0.01489738612743904,-0.014536362702498517,-0.04132609911004571,-0.012588113980469898,-0.00803833310425912,-0.008851132976682143,0.009777711091420888,-0.005003025166948859,-0.017154667623179076,-0.06393638707266563,-0.05584661595007416,-0.005052379229919409,-0.017048360765265603,-0.05274363486870804,-0.044844093322354846,0.006206530699919705,0.02146046778771831,-0.016880450237231788,-0.02101479936913263,-0.04500492425368853,-0.04689990853105899,0.006079582732550574,0.027243336299439744,-0.0014094981434661616,0.017597437400714736,0.018962201146629172,-0.00801372018201518,0.010002940568247838,0.014246604865794496,0.00867633758739691,-0.0020843208906940894,-0.05878914485472707,-0.026018526270980388,-0.03638174480630776,-0.03789228563749386,0.012557950642533578,0.026709675364679483,-3.5269973400474195e-05,-0.0063379699970155514,0.02012780457329217,0.031100411853179914,0.027227742229258146,0.02862684545972042,0.02721055421971636,-0.004811039134202373,0.017600723074529614,0.017582371821234937,0.0231580961149292,0.0215848263156045,0.02411533059347982,0.02551424050632893,0.024182527649818868,0.020065324170511805,0.01402080870085344,0.021760471250512878,0.02649004673901219,0.020297253690420614,-0.003257108872543863,0.019710992516789125,0.011984134881935575,0.025894522162656284,0.03142230784978205,0.02155744007966852,0.03645520097343768,0.019373955998373833,0.017262787999257498,-0.007474079066738311,-0.01558023769164647,-0.03521764309589874,-0.07605062387119883,-0.04843203880406945,-0.039934356206095596,-0.04849949371072749,-0.035845540485994955,0.00211696375066599,-0.030383084815380525,0.0010531993763562512,0.06092324135344161,0.004872166623339001,-0.03020862715503201,-0.009057039252671421,-0.008076135869803144,-0.007232086886308754,-0.001938912939423441,0.017233138245639525,-0.0031150231619369627,-0.02770857099750693,-0.012338637400461849,-0.04272604640281073,-0.05477736558339116,-0.04261709763656012,-0.050013578748948045,-0.028840102314749372,0.006765103833925,0.00029619786854544764,-0.004910266949811404,-0.0384205017652915,-0.04227077741038405,0.00034303249905070186,0.008835518764234591,-0.017153688124792017,-0.01795017044044308,-0.031371739848680816,-0.023136287575855497,-0.02200972883503801,0.004944909556707938,0.00408387099304527,-0.012057459538185098,-0.015314090794673793,-0.046117800488707145,-0.029602822425593138,-0.02123974865803321,-0.012160375198154182,0.010406961493741927,-0.047038621750635445,-0.052708601800619266,-0.048799048548113504,0.017206374130935922,0.002769170970947854,0.058791870753673564,0.027075459765870506,0.04023675913156301,0.0400622516195858,0.0369375097821175,0.012926714596031222,0.026004822841944202,0.027305067371230222,-0.018528124788352602,-0.019408956007609165,0.02904001405927891,-0.03393322022877755,-0.04975147074675203,-0.026985009784444017,-0.03989130486286328,-0.04944335967835537,-0.07059689483675281,-0.05256954976777204,-0.051369094704759054,-0.032985276807395075,-0.05426861613458592,-0.03248575102957876,0.0061136916234511025,-0.016481794338221212,-0.029049706412714118,-0.03808049161256306,-0.028787572542938202,-0.07475536013798188,0.017385933802307702,-0.014683578452338157,-0.03700666685102992,0.03951965202730411,-0.06588555717085083,-0.04104174532959004,-0.0383864991249776,-0.0426498842126751,0.02170733054393423,-0.06583228331516261,-0.03976703911684456,-0.010643743534536844,-0.046109138078686086,0.004785298251601957,-0.02157362575928758,0.019090660767480044,0.00015889671103740187,0.007269489612783615,0.02885196864262033,-0.011662359018402131,0.015139806720607421,0.002920528166429818,-0.02330343047376602,-0.022446227905535167,-0.020413684480052468,-0.031054616697234624,-0.04093140131436863,-0.040516369700299266,-0.0392500984652336,-0.04512736826513285,-0.0928505457165081,-0.05098361108666843,-0.040649260599927316,-0.020760748965326998,0.010061660641935396,-0.002508146978955392,-0.013717664437282054,-0.02973281106423034,-0.011953989790109372,-0.03018372884138471,-0.015305318047726434,-0.007798509086114121,-0.006247252823175104,-0.0076043163779821715,-0.010246525400038087,-0.007668557307627516,-0.007183863700022572,-0.013080255403325247,-0.0074595923613028844,-0.013924253558615655,0.0019271213278629104,-0.06824533906734918,-0.0693561138801563,-0.04492046145793682,0.024677432737927937,0.04405144480493422,0.022267015325777215,0.03653590278254778,0.034658341580621754,0.048717116103596685,0.09501854154479268,0.10119959758578514,0.036604366432117556,0.06107114434490493,-0.05407182058738467,-0.07583935478094127,-0.07734288877786134,-0.06168013123833891,-0.011127290669351812,-0.007809759357704308,-0.007704227223643402,0.11472627681385605,0.1208770791586039,-0.010652537676123935,-0.018894114159421577,-0.01616421208536443,0.10171901959713285,0.10390198012060817,-0.00669164342818313,-0.014042156301937612,-0.03303576550574267,-0.04364857477811518,-0.011189529390805798,-0.013432215215729506,-0.018128733806491326,0.08821690963339031,-0.030278142621438547,-0.04696891212356665,-0.04951198402523047,0.09463965908132545,-0.0034017933266709136,-0.04039108025916286,-0.027016907327659333,-0.04734901856620708,0.021762647888271217,0.03348475044073919,0.08563895782536661,0.02246002352757805,-0.022964905260209313,0.0038533602622010544,-0.05701180184482892,-0.07255888171156465,-0.04510220401060659,-0.041164241164241104,-0.12419362753753525,-0.9774818210611802],\"xaxis\":\"x\",\"y\":[662.0,595.0,1166.0,1797.0,2238.0,94.0,230.0,171.0,108.0,113.0,264.0,352.0,34.0,423.0,709.0,728.0,569.0,745.0,623.0,459.0,726.0,656.0,457.0,794.0,600.0,412.0,309.0,745.0,844.0,666.0,660.0,770.0,1058.0,883.0,642.0,1149.0,2624.0,1415.0,753.0,622.0,419.0,597.0,522.0,1392.0,912.0,705.0,771.0,542.0,963.0,970.0,636.0,634.0,527.0,660.0,1077.0,1384.0,2734.0,1291.0,270.0,452.0,385.0,410.0,375.0,422.0,677.0,635.0,392.0,919.0,2200.0,417.0,389.0,353.0,170.0,208.0,245.0,403.0,309.0,377.0,253.0,307.0,722.0,473.0,364.0,361.0,245.0,335.0,282.0,465.0,447.0,1125.0,483.0,937.0,1139.0,968.0,1004.0,259.0,1202.0,413.0,428.0,296.0,159.0,513.0,710.0,465.0,453.0,486.0,342.0,276.0,520.0,732.0,395.0,1631.0,2622.0,2768.0,2030.0,1466.0,695.0,603.0,518.0,1351.0,2087.0,879.0,739.0,848.0,819.0,2083.0,1366.0,767.0,300.0,147.0,276.0,284.0,706.0,1338.0,888.0,280.0,236.0,2070.0,3621.0,624.0,143.0,125.0,64.0,206.0,310.0,310.0,278.0,319.0,240.0,234.0,687.0,739.0,320.0,857.0,849.0,784.0,522.0,888.0,1712.0,2166.0,2388.0,1051.0,649.0,522.0,225.0,783.0,1802.0,2271.0,1293.0,303.0,120.0,1229.0,1342.0,225.0,1358.0,524.0,889.0,828.0,295.0,1095.0,899.0,543.0,546.0,592.0,510.0,388.0,660.0,1684.0,1409.0,1073.0,805.0,756.0,1283.0,773.0,269.0,487.0,719.0,551.0,416.0,894.0,1091.0,506.0,915.0,728.0,218.0,92.0,257.0,501.0,285.0,511.0,462.0,403.0,228.0,521.0,398.0,233.0,196.0,190.0,157.0,134.0,250.0,2248.0,5446.0,3512.0,492.0,79.0,86.0,179.0,151.0,88.0,56.0,42.0,40.0,36.0,920.0,2950.0,3330.0,1933.0,1185.0,833.0,592.0,50.0,91.0,800.0,1429.0,1215.0,73.0,85.0,713.0,900.0,695.0,734.0,647.0,700.0,780.0,104.0,940.0,2591.0,1958.0,60.0,166.0,963.0,1837.0,1469.0,107.0,54.0,68.0,100.0,184.0,173.0,186.0,117.0,18.0,26.0,643.0,1729.0],\"yaxis\":\"y\"},{\"hovertemplate\":\"prod_id=P8<br>diff_mean_pct=%{x}<br>qty_order=%{y}<extra></extra>\",\"legendgroup\":\"P8\",\"marker\":{\"color\":\"#B6E880\",\"symbol\":\"circle\"},\"mode\":\"markers\",\"name\":\"P8\",\"showlegend\":true,\"type\":\"scattergl\",\"x\":[-0.04478948939982078,-0.06693082246435404,0.002516350448880726,-0.003464954168569843,-0.04771399531169875,0.019850358993621794,-0.08450836774321144,-0.10649747246058684,-0.10208171379579481,-0.06984822998705062,-0.04853688840105809,-0.042988230670428,-0.01609418453966487,0.05366566968541053,0.009350687708963388,0.0714620062145096,0.1135203540829927,0.09731131132422283,0.02477202714881332,-0.013882014556806063,-0.05912669750226957,-0.09683788428842405,-0.10399573580511862,-0.09996233172221093,-0.09083924744211323,-0.07775417049679544,-0.01873603141846135,0.007315518458126904,0.04413295485723377,0.04792290333534832,0.06278592500748204,0.014915598276474023,-0.002898886653681648,0.031007273060989566,0.016965484326633844,-0.011872115582136309,0.03914772050707088,0.03098010195185311,0.058629726041682956,0.034667290859392956,-0.03175793544109583,-0.04378393900891173,-0.037612293861037045,-0.03704023789531891,0.027841891671798073,0.025680568116238055,0.03181948226118706,0.05660743705532122,0.024303796792971705,0.059715191405413856,0.03678358295768466,-0.009795836196539108,-0.035196421723530096,0.000574446549802597,0.027964276631839678,0.008348905359626691,-0.004232419244149057,-0.027211502120020065,-0.03882330556799506,0.01447275474341785,-0.0008685192765917687,0.031201774384410873,-0.03358737516076864,-0.015560085901984565,0.040987447193896895,0.018423193415352288,0.014236946140767377,0.02595368882448186,-0.010410332362567708,0.0017909874420196411,0.007705119800176417,0.008586741276977198,0.013592781147179697,0.026673370926520164,0.024201171680664445,0.020426316545362828,0.020045652007295595,0.017705989236668426,-0.0010910665969139665,0.004613731671725411,-0.007416931608572048,-0.015675924533762185,-0.00584183103841222,-0.016152697435021977,-0.033661568332281115,-0.04195845756597603,-0.009919742441285368,0.0056646729901384,0.018236350836026923,0.03480235790871755,0.042981688211131144,0.05267075127027877,0.02678303118485296,-0.0016582807550646198,8.677076567053447e-05,0.021559201667080526,0.016227753682678345,0.008587104947106926,-0.005714277251667278,0.016547402738210065,0.021183289847418317,0.013920791716274104,0.021678328284285234,0.0124128902789861,-0.1651705268023281,-0.13593331942002895,-0.14154896380905288,-0.1425958307872023,0.016664102596436338,0.0068504158533461805,0.0200898788077302,0.004383719763123592,-0.030562976207821092,-0.05264115267227864,-0.056996053963385016,-0.043412148198249,-0.03571116170320396,-0.10921202397069317,-0.14707206043313,-0.1649067022577386,0.03351942873829151,0.006240794499398948,0.024677231284484395,0.006931139214025573,0.012232024890252878,0.025477421264860828,0.018119696687110897,0.005023857009416557,-0.009111572004064013,0.0015321386350737865,-0.0030098937056774796,-0.01455657200064307,-0.12620489876004254,-0.12760091666436324,-0.10066536315836831,-0.13069661137855476,-0.12362579637097204,-0.12715278215930118,-0.03729754871922845,-0.07854142183316773,-0.0858236199686108,-0.04694748461488762,-0.02849004093360074,-0.026637935822775877,-0.04868127155831218,0.025814383353932824,0.006431688447828081,-0.10603197509601366,-0.08292619184486649,-0.0665052925926843,-0.02820184581524209,-0.021704231520403506,-0.020374585381289813,-0.015014540397410375,-0.013205557707779791,-0.014424849134420568,-0.015944158963301428,-0.03781742624420644,-0.9627978023233181],\"xaxis\":\"x\",\"y\":[17.0,75.0,21.0,43.0,44.0,16.0,61.0,170.0,386.0,293.0,189.0,148.0,74.0,15.0,31.0,17.0,22.0,17.0,19.0,72.0,250.0,404.0,212.0,162.0,155.0,165.0,70.0,106.0,24.0,42.0,55.0,32.0,35.0,44.0,25.0,58.0,16.0,11.0,13.0,9.0,84.0,96.0,83.0,81.0,23.0,31.0,21.0,27.0,77.0,61.0,74.0,75.0,86.0,65.0,38.0,58.0,45.0,118.0,104.0,76.0,46.0,26.0,149.0,156.0,19.0,23.0,23.0,23.0,65.0,68.0,44.0,34.0,45.0,35.0,35.0,68.0,58.0,51.0,50.0,48.0,31.0,32.0,84.0,65.0,235.0,390.0,286.0,61.0,36.0,38.0,42.0,70.0,145.0,108.0,17.0,30.0,39.0,27.0,36.0,12.0,18.0,18.0,17.0,24.0,695.0,1812.0,1092.0,1547.0,60.0,58.0,43.0,36.0,42.0,142.0,92.0,80.0,102.0,444.0,1002.0,995.0,77.0,37.0,39.0,32.0,45.0,56.0,63.0,52.0,48.0,53.0,46.0,52.0,837.0,876.0,221.0,669.0,339.0,763.0,130.0,236.0,466.0,273.0,163.0,93.0,651.0,138.0,114.0,220.0,119.0,367.0,189.0,393.0,755.0,505.0,252.0,179.0,259.0,560.0,915.0],\"yaxis\":\"y\"},{\"hovertemplate\":\"prod_id=P9<br>diff_mean_pct=%{x}<br>qty_order=%{y}<extra></extra>\",\"legendgroup\":\"P9\",\"marker\":{\"color\":\"#FF97FF\",\"symbol\":\"circle\"},\"mode\":\"markers\",\"name\":\"P9\",\"showlegend\":true,\"type\":\"scattergl\",\"x\":[-0.03584171470737217,-0.05876371045279214,-0.027452704595573845,-0.013562788730316242,-0.04080000683351244,0.020318523668078174,-0.06193580291358665,-0.08523400675161219,-0.10227361452509538,-0.07461892631203534,-0.06160511614131406,-0.062230787297195465,-0.04688196038519973,0.017507645741324483,0.012236236187277717,0.052186181352069955,0.0631143945959578,0.028849930408769917,-0.010054218689998716,-0.06545627639063237,-0.0693014264092522,-0.0986507445753339,-0.10862741166403488,-0.07562218654854472,-0.07575270001453888,-0.0627936005666604,-0.053877584377572056,-0.01000945660090452,0.03598014907004481,0.04633985495926294,0.04244842743893582,0.02638044570416596,0.008771368985096922,0.009899136576715173,0.007112001781524581,-0.02762919514953274,0.037574272361346306,0.04304765361643864,0.04342690924180969,0.03101004514527523,-0.05271122620206108,-0.06835500150717709,-0.06563075426696337,-0.03354944998255198,0.019116518814799716,0.03611938582351906,0.020195178885580468,0.05235820989230985,0.09002056657973005,0.07413252072336798,0.09909617301510851,0.007571726383492344,0.1025831949137981,0.12095849230042933,0.13673390409044955,0.0844144952883877,0.044253573316478494,0.02059279727981359,0.010281936764081408,0.026726973252004134,0.024514871184405103,0.024407996179874217,0.004480711123419307,0.03632021950133262,-0.015430974616973018,-0.025483777508884965,-0.023993374158953553,-0.012329703400934271,-0.035061275312930205,-0.035949271547745465,-0.031002494708938472,-0.0331695145211244,3.053483427827902e-06,-0.04326933012750851,-0.05025942514389826,-0.054485410304823526,-0.03714019959359528,-0.041053137228526916,-0.048551604117689565,-0.033378644312739764,-0.017192963294831602,-0.026393245255520583,-0.06738992212845137,-0.03446294670773113,0.009274289091034275,-0.012441216069538574,-0.009833417374814838,-0.016854170657165282,-0.024122130554511623,-0.025620578893373745,-0.029620012581478377,-0.010586932492257565,-0.033287455714811676,-0.05796516027949845,-0.05841941130612688,-0.04537720954498892,-0.06467941861389041,-0.07094461780044357,-0.05941914006087869,-0.049088927545086744,-0.044362287981644814,-0.052966411635330675,-0.051017911223862206,-0.047172074743908395,-0.17069377671456842,-0.15893533127782258,-0.16312534465561476,-0.16748097280836471,-0.03464641309357586,-0.036607113293315716,-0.1008698072123123,-0.0974551779295926,-0.07261627005157505,-0.06292770988394639,-0.0654722110158209,-0.06904295096019447,-0.07045958346335178,-0.1384795275342054,-0.16392790609246968,-0.18915563028197865,-0.008127945214767573,-0.03192747363478052,-0.052287168306205896,-0.03851438730068884,-0.04537553048737433,-0.04356013849882253,-0.036831174008772866,-0.05032456167449682,-0.059424292395583306,-0.06668226600082343,-0.05800230827316413,-0.06583232211590137,-0.16861308122708843,-0.16888324662671442,-0.14008018756255414,-0.1698465059271885,-0.167406590226534,-0.16753943599736482,-0.1064423861118554,-0.1108456112973705,-0.13247665427762714,-0.11007495114047147,-0.06148894887355387,-0.07372709242128238,-0.10252130159722268,-0.04032905258952605,-0.037122134819707914,-0.13276318761153677,-0.11321906257945734,-0.10623798554154497,-0.06591054349176244,-0.06997904057663049,-0.0712004247668069,-0.0738167557932264,-0.06972156182922915,-0.07158186745073294,-0.06868344944237613,-0.09244218360890331,-0.9652413518806118],\"xaxis\":\"x\",\"y\":[22.0,63.0,21.0,34.0,38.0,18.0,43.0,106.0,331.0,185.0,144.0,102.0,44.0,19.0,45.0,18.0,14.0,11.0,29.0,64.0,154.0,201.0,164.0,95.0,108.0,86.0,65.0,81.0,17.0,19.0,24.0,13.0,25.0,41.0,13.0,25.0,6.0,6.0,2.0,6.0,61.0,46.0,43.0,34.0,8.0,5.0,5.0,6.0,4.0,6.0,4.0,2.0,1.0,2.0,1.0,4.0,10.0,12.0,9.0,5.0,8.0,8.0,5.0,7.0,27.0,20.0,16.0,8.0,18.0,21.0,34.0,21.0,13.0,11.0,13.0,10.0,19.0,34.0,20.0,22.0,24.0,14.0,45.0,26.0,18.0,10.0,4.0,10.0,20.0,23.0,37.0,27.0,29.0,46.0,242.0,141.0,158.0,114.0,42.0,34.0,62.0,42.0,47.0,131.0,759.0,960.0,722.0,901.0,58.0,35.0,224.0,212.0,55.0,107.0,71.0,91.0,63.0,301.0,758.0,839.0,52.0,44.0,42.0,28.0,52.0,42.0,44.0,49.0,47.0,47.0,34.0,65.0,584.0,485.0,149.0,404.0,220.0,541.0,94.0,169.0,541.0,415.0,58.0,39.0,513.0,65.0,39.0,170.0,84.0,139.0,50.0,259.0,370.0,175.0,129.0,87.0,110.0,328.0,590.0],\"yaxis\":\"y\"}],                        {\"legend\":{\"title\":{\"text\":\"prod_id\"},\"tracegroupgap\":0},\"margin\":{\"t\":60},\"template\":{\"data\":{\"bar\":[{\"error_x\":{\"color\":\"#2a3f5f\"},\"error_y\":{\"color\":\"#2a3f5f\"},\"marker\":{\"line\":{\"color\":\"#E5ECF6\",\"width\":0.5},\"pattern\":{\"fillmode\":\"overlay\",\"size\":10,\"solidity\":0.2}},\"type\":\"bar\"}],\"barpolar\":[{\"marker\":{\"line\":{\"color\":\"#E5ECF6\",\"width\":0.5},\"pattern\":{\"fillmode\":\"overlay\",\"size\":10,\"solidity\":0.2}},\"type\":\"barpolar\"}],\"carpet\":[{\"aaxis\":{\"endlinecolor\":\"#2a3f5f\",\"gridcolor\":\"white\",\"linecolor\":\"white\",\"minorgridcolor\":\"white\",\"startlinecolor\":\"#2a3f5f\"},\"baxis\":{\"endlinecolor\":\"#2a3f5f\",\"gridcolor\":\"white\",\"linecolor\":\"white\",\"minorgridcolor\":\"white\",\"startlinecolor\":\"#2a3f5f\"},\"type\":\"carpet\"}],\"choropleth\":[{\"colorbar\":{\"outlinewidth\":0,\"ticks\":\"\"},\"type\":\"choropleth\"}],\"contour\":[{\"colorbar\":{\"outlinewidth\":0,\"ticks\":\"\"},\"colorscale\":[[0.0,\"#0d0887\"],[0.1111111111111111,\"#46039f\"],[0.2222222222222222,\"#7201a8\"],[0.3333333333333333,\"#9c179e\"],[0.4444444444444444,\"#bd3786\"],[0.5555555555555556,\"#d8576b\"],[0.6666666666666666,\"#ed7953\"],[0.7777777777777778,\"#fb9f3a\"],[0.8888888888888888,\"#fdca26\"],[1.0,\"#f0f921\"]],\"type\":\"contour\"}],\"contourcarpet\":[{\"colorbar\":{\"outlinewidth\":0,\"ticks\":\"\"},\"type\":\"contourcarpet\"}],\"heatmap\":[{\"colorbar\":{\"outlinewidth\":0,\"ticks\":\"\"},\"colorscale\":[[0.0,\"#0d0887\"],[0.1111111111111111,\"#46039f\"],[0.2222222222222222,\"#7201a8\"],[0.3333333333333333,\"#9c179e\"],[0.4444444444444444,\"#bd3786\"],[0.5555555555555556,\"#d8576b\"],[0.6666666666666666,\"#ed7953\"],[0.7777777777777778,\"#fb9f3a\"],[0.8888888888888888,\"#fdca26\"],[1.0,\"#f0f921\"]],\"type\":\"heatmap\"}],\"heatmapgl\":[{\"colorbar\":{\"outlinewidth\":0,\"ticks\":\"\"},\"colorscale\":[[0.0,\"#0d0887\"],[0.1111111111111111,\"#46039f\"],[0.2222222222222222,\"#7201a8\"],[0.3333333333333333,\"#9c179e\"],[0.4444444444444444,\"#bd3786\"],[0.5555555555555556,\"#d8576b\"],[0.6666666666666666,\"#ed7953\"],[0.7777777777777778,\"#fb9f3a\"],[0.8888888888888888,\"#fdca26\"],[1.0,\"#f0f921\"]],\"type\":\"heatmapgl\"}],\"histogram\":[{\"marker\":{\"pattern\":{\"fillmode\":\"overlay\",\"size\":10,\"solidity\":0.2}},\"type\":\"histogram\"}],\"histogram2d\":[{\"colorbar\":{\"outlinewidth\":0,\"ticks\":\"\"},\"colorscale\":[[0.0,\"#0d0887\"],[0.1111111111111111,\"#46039f\"],[0.2222222222222222,\"#7201a8\"],[0.3333333333333333,\"#9c179e\"],[0.4444444444444444,\"#bd3786\"],[0.5555555555555556,\"#d8576b\"],[0.6666666666666666,\"#ed7953\"],[0.7777777777777778,\"#fb9f3a\"],[0.8888888888888888,\"#fdca26\"],[1.0,\"#f0f921\"]],\"type\":\"histogram2d\"}],\"histogram2dcontour\":[{\"colorbar\":{\"outlinewidth\":0,\"ticks\":\"\"},\"colorscale\":[[0.0,\"#0d0887\"],[0.1111111111111111,\"#46039f\"],[0.2222222222222222,\"#7201a8\"],[0.3333333333333333,\"#9c179e\"],[0.4444444444444444,\"#bd3786\"],[0.5555555555555556,\"#d8576b\"],[0.6666666666666666,\"#ed7953\"],[0.7777777777777778,\"#fb9f3a\"],[0.8888888888888888,\"#fdca26\"],[1.0,\"#f0f921\"]],\"type\":\"histogram2dcontour\"}],\"mesh3d\":[{\"colorbar\":{\"outlinewidth\":0,\"ticks\":\"\"},\"type\":\"mesh3d\"}],\"parcoords\":[{\"line\":{\"colorbar\":{\"outlinewidth\":0,\"ticks\":\"\"}},\"type\":\"parcoords\"}],\"pie\":[{\"automargin\":true,\"type\":\"pie\"}],\"scatter\":[{\"marker\":{\"colorbar\":{\"outlinewidth\":0,\"ticks\":\"\"}},\"type\":\"scatter\"}],\"scatter3d\":[{\"line\":{\"colorbar\":{\"outlinewidth\":0,\"ticks\":\"\"}},\"marker\":{\"colorbar\":{\"outlinewidth\":0,\"ticks\":\"\"}},\"type\":\"scatter3d\"}],\"scattercarpet\":[{\"marker\":{\"colorbar\":{\"outlinewidth\":0,\"ticks\":\"\"}},\"type\":\"scattercarpet\"}],\"scattergeo\":[{\"marker\":{\"colorbar\":{\"outlinewidth\":0,\"ticks\":\"\"}},\"type\":\"scattergeo\"}],\"scattergl\":[{\"marker\":{\"colorbar\":{\"outlinewidth\":0,\"ticks\":\"\"}},\"type\":\"scattergl\"}],\"scattermapbox\":[{\"marker\":{\"colorbar\":{\"outlinewidth\":0,\"ticks\":\"\"}},\"type\":\"scattermapbox\"}],\"scatterpolar\":[{\"marker\":{\"colorbar\":{\"outlinewidth\":0,\"ticks\":\"\"}},\"type\":\"scatterpolar\"}],\"scatterpolargl\":[{\"marker\":{\"colorbar\":{\"outlinewidth\":0,\"ticks\":\"\"}},\"type\":\"scatterpolargl\"}],\"scatterternary\":[{\"marker\":{\"colorbar\":{\"outlinewidth\":0,\"ticks\":\"\"}},\"type\":\"scatterternary\"}],\"surface\":[{\"colorbar\":{\"outlinewidth\":0,\"ticks\":\"\"},\"colorscale\":[[0.0,\"#0d0887\"],[0.1111111111111111,\"#46039f\"],[0.2222222222222222,\"#7201a8\"],[0.3333333333333333,\"#9c179e\"],[0.4444444444444444,\"#bd3786\"],[0.5555555555555556,\"#d8576b\"],[0.6666666666666666,\"#ed7953\"],[0.7777777777777778,\"#fb9f3a\"],[0.8888888888888888,\"#fdca26\"],[1.0,\"#f0f921\"]],\"type\":\"surface\"}],\"table\":[{\"cells\":{\"fill\":{\"color\":\"#EBF0F8\"},\"line\":{\"color\":\"white\"}},\"header\":{\"fill\":{\"color\":\"#C8D4E3\"},\"line\":{\"color\":\"white\"}},\"type\":\"table\"}]},\"layout\":{\"annotationdefaults\":{\"arrowcolor\":\"#2a3f5f\",\"arrowhead\":0,\"arrowwidth\":1},\"autotypenumbers\":\"strict\",\"coloraxis\":{\"colorbar\":{\"outlinewidth\":0,\"ticks\":\"\"}},\"colorscale\":{\"diverging\":[[0,\"#8e0152\"],[0.1,\"#c51b7d\"],[0.2,\"#de77ae\"],[0.3,\"#f1b6da\"],[0.4,\"#fde0ef\"],[0.5,\"#f7f7f7\"],[0.6,\"#e6f5d0\"],[0.7,\"#b8e186\"],[0.8,\"#7fbc41\"],[0.9,\"#4d9221\"],[1,\"#276419\"]],\"sequential\":[[0.0,\"#0d0887\"],[0.1111111111111111,\"#46039f\"],[0.2222222222222222,\"#7201a8\"],[0.3333333333333333,\"#9c179e\"],[0.4444444444444444,\"#bd3786\"],[0.5555555555555556,\"#d8576b\"],[0.6666666666666666,\"#ed7953\"],[0.7777777777777778,\"#fb9f3a\"],[0.8888888888888888,\"#fdca26\"],[1.0,\"#f0f921\"]],\"sequentialminus\":[[0.0,\"#0d0887\"],[0.1111111111111111,\"#46039f\"],[0.2222222222222222,\"#7201a8\"],[0.3333333333333333,\"#9c179e\"],[0.4444444444444444,\"#bd3786\"],[0.5555555555555556,\"#d8576b\"],[0.6666666666666666,\"#ed7953\"],[0.7777777777777778,\"#fb9f3a\"],[0.8888888888888888,\"#fdca26\"],[1.0,\"#f0f921\"]]},\"colorway\":[\"#636efa\",\"#EF553B\",\"#00cc96\",\"#ab63fa\",\"#FFA15A\",\"#19d3f3\",\"#FF6692\",\"#B6E880\",\"#FF97FF\",\"#FECB52\"],\"font\":{\"color\":\"#2a3f5f\"},\"geo\":{\"bgcolor\":\"white\",\"lakecolor\":\"white\",\"landcolor\":\"#E5ECF6\",\"showlakes\":true,\"showland\":true,\"subunitcolor\":\"white\"},\"hoverlabel\":{\"align\":\"left\"},\"hovermode\":\"closest\",\"mapbox\":{\"style\":\"light\"},\"paper_bgcolor\":\"white\",\"plot_bgcolor\":\"#E5ECF6\",\"polar\":{\"angularaxis\":{\"gridcolor\":\"white\",\"linecolor\":\"white\",\"ticks\":\"\"},\"bgcolor\":\"#E5ECF6\",\"radialaxis\":{\"gridcolor\":\"white\",\"linecolor\":\"white\",\"ticks\":\"\"}},\"scene\":{\"xaxis\":{\"backgroundcolor\":\"#E5ECF6\",\"gridcolor\":\"white\",\"gridwidth\":2,\"linecolor\":\"white\",\"showbackground\":true,\"ticks\":\"\",\"zerolinecolor\":\"white\"},\"yaxis\":{\"backgroundcolor\":\"#E5ECF6\",\"gridcolor\":\"white\",\"gridwidth\":2,\"linecolor\":\"white\",\"showbackground\":true,\"ticks\":\"\",\"zerolinecolor\":\"white\"},\"zaxis\":{\"backgroundcolor\":\"#E5ECF6\",\"gridcolor\":\"white\",\"gridwidth\":2,\"linecolor\":\"white\",\"showbackground\":true,\"ticks\":\"\",\"zerolinecolor\":\"white\"}},\"shapedefaults\":{\"line\":{\"color\":\"#2a3f5f\"}},\"ternary\":{\"aaxis\":{\"gridcolor\":\"white\",\"linecolor\":\"white\",\"ticks\":\"\"},\"baxis\":{\"gridcolor\":\"white\",\"linecolor\":\"white\",\"ticks\":\"\"},\"bgcolor\":\"#E5ECF6\",\"caxis\":{\"gridcolor\":\"white\",\"linecolor\":\"white\",\"ticks\":\"\"}},\"title\":{\"x\":0.05},\"xaxis\":{\"automargin\":true,\"gridcolor\":\"white\",\"linecolor\":\"white\",\"ticks\":\"\",\"title\":{\"standoff\":15},\"zerolinecolor\":\"white\",\"zerolinewidth\":2},\"yaxis\":{\"automargin\":true,\"gridcolor\":\"white\",\"linecolor\":\"white\",\"ticks\":\"\",\"title\":{\"standoff\":15},\"zerolinecolor\":\"white\",\"zerolinewidth\":2}}},\"xaxis\":{\"anchor\":\"y\",\"domain\":[0.0,1.0],\"title\":{\"text\":\"diff_mean_pct\"}},\"yaxis\":{\"anchor\":\"x\",\"domain\":[0.0,1.0],\"title\":{\"text\":\"qty_order\"}}},                        {\"responsive\": true}                    ).then(function(){\n",
       "                            \n",
       "var gd = document.getElementById('b440db18-1d30-472f-bbc5-bca24093b66e');\n",
       "var x = new MutationObserver(function (mutations, observer) {{\n",
       "        var display = window.getComputedStyle(gd).display;\n",
       "        if (!display || display === 'none') {{\n",
       "            console.log([gd, 'removed!']);\n",
       "            Plotly.purge(gd);\n",
       "            observer.disconnect();\n",
       "        }}\n",
       "}});\n",
       "\n",
       "// Listen for the removal of the full notebook cells\n",
       "var notebookContainer = gd.closest('#notebook-container');\n",
       "if (notebookContainer) {{\n",
       "    x.observe(notebookContainer, {childList: true});\n",
       "}}\n",
       "\n",
       "// Listen for the clearing of the current output cell\n",
       "var outputEl = gd.closest('.output');\n",
       "if (outputEl) {{\n",
       "    x.observe(outputEl, {childList: true});\n",
       "}}\n",
       "\n",
       "                        })                };                });            </script>        </div>"
      ]
     },
     "metadata": {},
     "output_type": "display_data"
    }
   ],
   "source": [
    "px.scatter(df, x=\"diff_mean_pct\", y=\"qty_order\", color=\"prod_id\")"
   ]
  },
  {
   "cell_type": "code",
   "execution_count": 22,
   "id": "b416406c-b9fc-4710-8b68-fa8853d9d06b",
   "metadata": {},
   "outputs": [
    {
     "data": {
      "text/html": [
       "<div>\n",
       "<style scoped>\n",
       "    .dataframe tbody tr th:only-of-type {\n",
       "        vertical-align: middle;\n",
       "    }\n",
       "\n",
       "    .dataframe tbody tr th {\n",
       "        vertical-align: top;\n",
       "    }\n",
       "\n",
       "    .dataframe thead th {\n",
       "        text-align: right;\n",
       "    }\n",
       "</style>\n",
       "<table border=\"1\" class=\"dataframe\">\n",
       "  <thead>\n",
       "    <tr style=\"text-align: right;\">\n",
       "      <th></th>\n",
       "      <th>prod_id</th>\n",
       "      <th>date</th>\n",
       "      <th>value_per_item</th>\n",
       "      <th>qty_order</th>\n",
       "      <th>min</th>\n",
       "      <th>max</th>\n",
       "      <th>mean</th>\n",
       "      <th>median</th>\n",
       "      <th>qty_day</th>\n",
       "      <th>qty_day_mm</th>\n",
       "      <th>qty_day_shift</th>\n",
       "      <th>qty_day_shift_mm</th>\n",
       "      <th>diff_min_pct</th>\n",
       "      <th>diff_mean_pct</th>\n",
       "      <th>pct_of_qty_day</th>\n",
       "    </tr>\n",
       "  </thead>\n",
       "  <tbody>\n",
       "    <tr>\n",
       "      <th>0</th>\n",
       "      <td>P1</td>\n",
       "      <td>2015-03-16</td>\n",
       "      <td>1402.312500</td>\n",
       "      <td>24.0</td>\n",
       "      <td>1362.50</td>\n",
       "      <td>1499.0</td>\n",
       "      <td>1464.205000</td>\n",
       "      <td>1499.000</td>\n",
       "      <td>24.0</td>\n",
       "      <td>36.0</td>\n",
       "      <td>48.0</td>\n",
       "      <td>48.0</td>\n",
       "      <td>0.029220</td>\n",
       "      <td>-0.042270</td>\n",
       "      <td>1.0</td>\n",
       "    </tr>\n",
       "    <tr>\n",
       "      <th>1</th>\n",
       "      <td>P1</td>\n",
       "      <td>2015-03-17</td>\n",
       "      <td>1355.201071</td>\n",
       "      <td>28.0</td>\n",
       "      <td>1362.50</td>\n",
       "      <td>1499.0</td>\n",
       "      <td>1429.792857</td>\n",
       "      <td>1424.050</td>\n",
       "      <td>28.0</td>\n",
       "      <td>28.0</td>\n",
       "      <td>24.0</td>\n",
       "      <td>36.0</td>\n",
       "      <td>-0.005357</td>\n",
       "      <td>-0.052170</td>\n",
       "      <td>1.0</td>\n",
       "    </tr>\n",
       "    <tr>\n",
       "      <th>2</th>\n",
       "      <td>P1</td>\n",
       "      <td>2015-03-18</td>\n",
       "      <td>1358.555075</td>\n",
       "      <td>67.0</td>\n",
       "      <td>1362.50</td>\n",
       "      <td>1499.0</td>\n",
       "      <td>1441.008333</td>\n",
       "      <td>1461.525</td>\n",
       "      <td>67.0</td>\n",
       "      <td>38.0</td>\n",
       "      <td>28.0</td>\n",
       "      <td>28.0</td>\n",
       "      <td>-0.002895</td>\n",
       "      <td>-0.057219</td>\n",
       "      <td>1.0</td>\n",
       "    </tr>\n",
       "    <tr>\n",
       "      <th>3</th>\n",
       "      <td>P1</td>\n",
       "      <td>2015-03-19</td>\n",
       "      <td>1355.095217</td>\n",
       "      <td>46.0</td>\n",
       "      <td>1304.13</td>\n",
       "      <td>1499.0</td>\n",
       "      <td>1407.363333</td>\n",
       "      <td>1391.525</td>\n",
       "      <td>46.0</td>\n",
       "      <td>46.0</td>\n",
       "      <td>67.0</td>\n",
       "      <td>38.0</td>\n",
       "      <td>0.039080</td>\n",
       "      <td>-0.037139</td>\n",
       "      <td>1.0</td>\n",
       "    </tr>\n",
       "    <tr>\n",
       "      <th>4</th>\n",
       "      <td>P1</td>\n",
       "      <td>2015-03-20</td>\n",
       "      <td>1384.065789</td>\n",
       "      <td>19.0</td>\n",
       "      <td>1304.13</td>\n",
       "      <td>1499.0</td>\n",
       "      <td>1439.727143</td>\n",
       "      <td>1499.000</td>\n",
       "      <td>19.0</td>\n",
       "      <td>37.0</td>\n",
       "      <td>46.0</td>\n",
       "      <td>46.0</td>\n",
       "      <td>0.061294</td>\n",
       "      <td>-0.038661</td>\n",
       "      <td>1.0</td>\n",
       "    </tr>\n",
       "    <tr>\n",
       "      <th>...</th>\n",
       "      <td>...</td>\n",
       "      <td>...</td>\n",
       "      <td>...</td>\n",
       "      <td>...</td>\n",
       "      <td>...</td>\n",
       "      <td>...</td>\n",
       "      <td>...</td>\n",
       "      <td>...</td>\n",
       "      <td>...</td>\n",
       "      <td>...</td>\n",
       "      <td>...</td>\n",
       "      <td>...</td>\n",
       "      <td>...</td>\n",
       "      <td>...</td>\n",
       "      <td>...</td>\n",
       "    </tr>\n",
       "    <tr>\n",
       "      <th>1887</th>\n",
       "      <td>P9</td>\n",
       "      <td>2015-10-10</td>\n",
       "      <td>391.380233</td>\n",
       "      <td>129.0</td>\n",
       "      <td>395.82</td>\n",
       "      <td>569.0</td>\n",
       "      <td>420.713000</td>\n",
       "      <td>395.850</td>\n",
       "      <td>129.0</td>\n",
       "      <td>154.5</td>\n",
       "      <td>175.0</td>\n",
       "      <td>154.5</td>\n",
       "      <td>-0.011217</td>\n",
       "      <td>-0.069722</td>\n",
       "      <td>1.0</td>\n",
       "    </tr>\n",
       "    <tr>\n",
       "      <th>1888</th>\n",
       "      <td>P9</td>\n",
       "      <td>2015-10-11</td>\n",
       "      <td>390.586437</td>\n",
       "      <td>87.0</td>\n",
       "      <td>395.78</td>\n",
       "      <td>569.0</td>\n",
       "      <td>420.701000</td>\n",
       "      <td>395.825</td>\n",
       "      <td>87.0</td>\n",
       "      <td>154.5</td>\n",
       "      <td>129.0</td>\n",
       "      <td>154.5</td>\n",
       "      <td>-0.013122</td>\n",
       "      <td>-0.071582</td>\n",
       "      <td>1.0</td>\n",
       "    </tr>\n",
       "    <tr>\n",
       "      <th>1889</th>\n",
       "      <td>P9</td>\n",
       "      <td>2015-10-12</td>\n",
       "      <td>391.779727</td>\n",
       "      <td>110.0</td>\n",
       "      <td>395.76</td>\n",
       "      <td>569.0</td>\n",
       "      <td>420.673000</td>\n",
       "      <td>395.780</td>\n",
       "      <td>110.0</td>\n",
       "      <td>134.0</td>\n",
       "      <td>87.0</td>\n",
       "      <td>154.5</td>\n",
       "      <td>-0.010057</td>\n",
       "      <td>-0.068683</td>\n",
       "      <td>1.0</td>\n",
       "    </tr>\n",
       "    <tr>\n",
       "      <th>1890</th>\n",
       "      <td>P9</td>\n",
       "      <td>2015-10-13</td>\n",
       "      <td>380.636555</td>\n",
       "      <td>328.0</td>\n",
       "      <td>393.00</td>\n",
       "      <td>569.0</td>\n",
       "      <td>419.407500</td>\n",
       "      <td>394.000</td>\n",
       "      <td>328.0</td>\n",
       "      <td>134.0</td>\n",
       "      <td>110.0</td>\n",
       "      <td>134.0</td>\n",
       "      <td>-0.031459</td>\n",
       "      <td>-0.092442</td>\n",
       "      <td>1.0</td>\n",
       "    </tr>\n",
       "    <tr>\n",
       "      <th>1891</th>\n",
       "      <td>P9</td>\n",
       "      <td>2015-10-14</td>\n",
       "      <td>378.316932</td>\n",
       "      <td>590.0</td>\n",
       "      <td>393.00</td>\n",
       "      <td>56900.0</td>\n",
       "      <td>10884.109500</td>\n",
       "      <td>399.990</td>\n",
       "      <td>590.0</td>\n",
       "      <td>134.0</td>\n",
       "      <td>328.0</td>\n",
       "      <td>134.0</td>\n",
       "      <td>-0.037361</td>\n",
       "      <td>-0.965241</td>\n",
       "      <td>1.0</td>\n",
       "    </tr>\n",
       "  </tbody>\n",
       "</table>\n",
       "<p>1892 rows × 15 columns</p>\n",
       "</div>"
      ],
      "text/plain": [
       "     prod_id       date  value_per_item  qty_order      min      max  \\\n",
       "0         P1 2015-03-16     1402.312500       24.0  1362.50   1499.0   \n",
       "1         P1 2015-03-17     1355.201071       28.0  1362.50   1499.0   \n",
       "2         P1 2015-03-18     1358.555075       67.0  1362.50   1499.0   \n",
       "3         P1 2015-03-19     1355.095217       46.0  1304.13   1499.0   \n",
       "4         P1 2015-03-20     1384.065789       19.0  1304.13   1499.0   \n",
       "...      ...        ...             ...        ...      ...      ...   \n",
       "1887      P9 2015-10-10      391.380233      129.0   395.82    569.0   \n",
       "1888      P9 2015-10-11      390.586437       87.0   395.78    569.0   \n",
       "1889      P9 2015-10-12      391.779727      110.0   395.76    569.0   \n",
       "1890      P9 2015-10-13      380.636555      328.0   393.00    569.0   \n",
       "1891      P9 2015-10-14      378.316932      590.0   393.00  56900.0   \n",
       "\n",
       "              mean    median  qty_day  qty_day_mm  qty_day_shift  \\\n",
       "0      1464.205000  1499.000     24.0        36.0           48.0   \n",
       "1      1429.792857  1424.050     28.0        28.0           24.0   \n",
       "2      1441.008333  1461.525     67.0        38.0           28.0   \n",
       "3      1407.363333  1391.525     46.0        46.0           67.0   \n",
       "4      1439.727143  1499.000     19.0        37.0           46.0   \n",
       "...            ...       ...      ...         ...            ...   \n",
       "1887    420.713000   395.850    129.0       154.5          175.0   \n",
       "1888    420.701000   395.825     87.0       154.5          129.0   \n",
       "1889    420.673000   395.780    110.0       134.0           87.0   \n",
       "1890    419.407500   394.000    328.0       134.0          110.0   \n",
       "1891  10884.109500   399.990    590.0       134.0          328.0   \n",
       "\n",
       "      qty_day_shift_mm  diff_min_pct  diff_mean_pct  pct_of_qty_day  \n",
       "0                 48.0      0.029220      -0.042270             1.0  \n",
       "1                 36.0     -0.005357      -0.052170             1.0  \n",
       "2                 28.0     -0.002895      -0.057219             1.0  \n",
       "3                 38.0      0.039080      -0.037139             1.0  \n",
       "4                 46.0      0.061294      -0.038661             1.0  \n",
       "...                ...           ...            ...             ...  \n",
       "1887             154.5     -0.011217      -0.069722             1.0  \n",
       "1888             154.5     -0.013122      -0.071582             1.0  \n",
       "1889             154.5     -0.010057      -0.068683             1.0  \n",
       "1890             134.0     -0.031459      -0.092442             1.0  \n",
       "1891             134.0     -0.037361      -0.965241             1.0  \n",
       "\n",
       "[1892 rows x 15 columns]"
      ]
     },
     "execution_count": 22,
     "metadata": {},
     "output_type": "execute_result"
    }
   ],
   "source": [
    "df"
   ]
  },
  {
   "cell_type": "code",
   "execution_count": null,
   "id": "bc3bdcaa-2987-4dbb-ba54-d990e7598938",
   "metadata": {},
   "outputs": [],
   "source": []
  }
 ],
 "metadata": {
  "kernelspec": {
   "display_name": "Python 3 (ipykernel)",
   "language": "python",
   "name": "python3"
  },
  "language_info": {
   "codemirror_mode": {
    "name": "ipython",
    "version": 3
   },
   "file_extension": ".py",
   "mimetype": "text/x-python",
   "name": "python",
   "nbconvert_exporter": "python",
   "pygments_lexer": "ipython3",
   "version": "3.9.6"
  }
 },
 "nbformat": 4,
 "nbformat_minor": 5
}
