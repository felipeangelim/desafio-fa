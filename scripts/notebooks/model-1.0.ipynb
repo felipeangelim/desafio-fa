{
 "cells": [
  {
   "cell_type": "code",
   "execution_count": 1,
   "id": "62422b69-c5d0-4445-96d7-3a1d1abf9e48",
   "metadata": {},
   "outputs": [],
   "source": [
    "import sys\n",
    "import os\n",
    "from pathlib import Path\n",
    "sys.path.append(\"..\")\n",
    "from build_features import build_features\n",
    "\n",
    "import pandas as pd\n",
    "import numpy as np\n",
    "\n",
    "%load_ext autoreload\n",
    "%autoreload 2"
   ]
  },
  {
   "cell_type": "code",
   "execution_count": 2,
   "id": "d629be3b-051e-4476-ac19-3277399fa7b1",
   "metadata": {},
   "outputs": [],
   "source": [
    "comp_prices_df = pd.read_csv(\"../data/comp_prices.csv\")\n",
    "sales_df = pd.read_csv(\"../data/sales.csv\")"
   ]
  },
  {
   "cell_type": "code",
   "execution_count": 7,
   "id": "cd31571c-a709-4dfc-b79d-9cbf469436ce",
   "metadata": {},
   "outputs": [],
   "source": [
    "df = build_features(sales_df, comp_prices_df)"
   ]
  },
  {
   "cell_type": "code",
   "execution_count": 10,
   "id": "287600c9-2be8-4d7f-956d-9f4c60a88a2f",
   "metadata": {},
   "outputs": [],
   "source": [
    "from statsmodels.regression.linear_model import OLS\n",
    "import statsmodels.api as sm"
   ]
  },
  {
   "cell_type": "code",
   "execution_count": 40,
   "id": "199d89b0-387e-406e-a42b-2c33aefd48ab",
   "metadata": {},
   "outputs": [
    {
     "name": "stderr",
     "output_type": "stream",
     "text": [
      "/opt/conda/lib/python3.9/site-packages/statsmodels/tsa/tsatools.py:142: FutureWarning: In a future version of pandas all arguments of concat except for the argument 'objs' will be keyword-only\n",
      "  x = pd.concat(x[::order], 1)\n"
     ]
    },
    {
     "data": {
      "text/html": [
       "<table class=\"simpletable\">\n",
       "<caption>OLS Regression Results</caption>\n",
       "<tr>\n",
       "  <th>Dep. Variable:</th>        <td>qty_order</td>    <th>  R-squared:         </th> <td>   0.316</td>\n",
       "</tr>\n",
       "<tr>\n",
       "  <th>Model:</th>                   <td>OLS</td>       <th>  Adj. R-squared:    </th> <td>   0.307</td>\n",
       "</tr>\n",
       "<tr>\n",
       "  <th>Method:</th>             <td>Least Squares</td>  <th>  F-statistic:       </th> <td>   35.38</td>\n",
       "</tr>\n",
       "<tr>\n",
       "  <th>Date:</th>             <td>Fri, 27 Aug 2021</td> <th>  Prob (F-statistic):</th> <td>2.35e-13</td>\n",
       "</tr>\n",
       "<tr>\n",
       "  <th>Time:</th>                 <td>01:19:33</td>     <th>  Log-Likelihood:    </th> <td> -255.13</td>\n",
       "</tr>\n",
       "<tr>\n",
       "  <th>No. Observations:</th>      <td>   156</td>      <th>  AIC:               </th> <td>   516.3</td>\n",
       "</tr>\n",
       "<tr>\n",
       "  <th>Df Residuals:</th>          <td>   153</td>      <th>  BIC:               </th> <td>   525.4</td>\n",
       "</tr>\n",
       "<tr>\n",
       "  <th>Df Model:</th>              <td>     2</td>      <th>                     </th>     <td> </td>   \n",
       "</tr>\n",
       "<tr>\n",
       "  <th>Covariance Type:</th>      <td>nonrobust</td>    <th>                     </th>     <td> </td>   \n",
       "</tr>\n",
       "</table>\n",
       "<table class=\"simpletable\">\n",
       "<tr>\n",
       "        <td></td>           <th>coef</th>     <th>std err</th>      <th>t</th>      <th>P>|t|</th>  <th>[0.025</th>    <th>0.975]</th>  \n",
       "</tr>\n",
       "<tr>\n",
       "  <th>const</th>         <td>    2.9268</td> <td>    0.116</td> <td>   25.209</td> <td> 0.000</td> <td>    2.697</td> <td>    3.156</td>\n",
       "</tr>\n",
       "<tr>\n",
       "  <th>diff_mean_pct</th> <td>   -4.0097</td> <td>    0.946</td> <td>   -4.238</td> <td> 0.000</td> <td>   -5.879</td> <td>   -2.141</td>\n",
       "</tr>\n",
       "<tr>\n",
       "  <th>qty_day_shift</th> <td>    0.0035</td> <td>    0.001</td> <td>    6.811</td> <td> 0.000</td> <td>    0.002</td> <td>    0.004</td>\n",
       "</tr>\n",
       "</table>\n",
       "<table class=\"simpletable\">\n",
       "<tr>\n",
       "  <th>Omnibus:</th>       <td> 5.886</td> <th>  Durbin-Watson:     </th> <td>   0.795</td>\n",
       "</tr>\n",
       "<tr>\n",
       "  <th>Prob(Omnibus):</th> <td> 0.053</td> <th>  Jarque-Bera (JB):  </th> <td>   5.486</td>\n",
       "</tr>\n",
       "<tr>\n",
       "  <th>Skew:</th>          <td>-0.441</td> <th>  Prob(JB):          </th> <td>  0.0644</td>\n",
       "</tr>\n",
       "<tr>\n",
       "  <th>Kurtosis:</th>      <td> 3.258</td> <th>  Cond. No.          </th> <td>2.09e+03</td>\n",
       "</tr>\n",
       "</table><br/><br/>Notes:<br/>[1] Standard Errors assume that the covariance matrix of the errors is correctly specified.<br/>[2] The condition number is large, 2.09e+03. This might indicate that there are<br/>strong multicollinearity or other numerical problems."
      ],
      "text/plain": [
       "<class 'statsmodels.iolib.summary.Summary'>\n",
       "\"\"\"\n",
       "                            OLS Regression Results                            \n",
       "==============================================================================\n",
       "Dep. Variable:              qty_order   R-squared:                       0.316\n",
       "Model:                            OLS   Adj. R-squared:                  0.307\n",
       "Method:                 Least Squares   F-statistic:                     35.38\n",
       "Date:                Fri, 27 Aug 2021   Prob (F-statistic):           2.35e-13\n",
       "Time:                        01:19:33   Log-Likelihood:                -255.13\n",
       "No. Observations:                 156   AIC:                             516.3\n",
       "Df Residuals:                     153   BIC:                             525.4\n",
       "Df Model:                           2                                         \n",
       "Covariance Type:            nonrobust                                         \n",
       "=================================================================================\n",
       "                    coef    std err          t      P>|t|      [0.025      0.975]\n",
       "---------------------------------------------------------------------------------\n",
       "const             2.9268      0.116     25.209      0.000       2.697       3.156\n",
       "diff_mean_pct    -4.0097      0.946     -4.238      0.000      -5.879      -2.141\n",
       "qty_day_shift     0.0035      0.001      6.811      0.000       0.002       0.004\n",
       "==============================================================================\n",
       "Omnibus:                        5.886   Durbin-Watson:                   0.795\n",
       "Prob(Omnibus):                  0.053   Jarque-Bera (JB):                5.486\n",
       "Skew:                          -0.441   Prob(JB):                       0.0644\n",
       "Kurtosis:                       3.258   Cond. No.                     2.09e+03\n",
       "==============================================================================\n",
       "\n",
       "Notes:\n",
       "[1] Standard Errors assume that the covariance matrix of the errors is correctly specified.\n",
       "[2] The condition number is large, 2.09e+03. This might indicate that there are\n",
       "strong multicollinearity or other numerical problems.\n",
       "\"\"\""
      ]
     },
     "execution_count": 40,
     "metadata": {},
     "output_type": "execute_result"
    }
   ],
   "source": [
    "sel_df = df[df.prod_id == \"P4\"]\n",
    "X = sel_df[[\"diff_mean_pct\", \"qty_day_shift\"]]\n",
    "y = np.log(sel_df[[\"qty_order\"]])\n",
    "X = sm.add_constant(X)\n",
    "\n",
    "model = sm.OLS(y, X)\n",
    "results = model.fit()\n",
    "results.summary()"
   ]
  },
  {
   "cell_type": "code",
   "execution_count": 38,
   "id": "20332594-061d-4c46-b833-fca79a22cd9c",
   "metadata": {},
   "outputs": [
    {
     "data": {
      "image/png": "[encoded data removed]",
      "text/plain": [
       "<Figure size 432x288 with 3 Axes>"
      ]
     },
     "metadata": {
      "needs_background": "light"
     },
     "output_type": "display_data"
    }
   ],
   "source": [
    "fig = sm.graphics.plot_partregress_grid(results)\n",
    "fig.tight_layout(pad=1.0)"
   ]
  },
  {
   "cell_type": "code",
   "execution_count": null,
   "id": "f8a74152-dde1-4a97-9739-4629422d6def",
   "metadata": {},
   "outputs": [],
   "source": []
  }
 ],
 "metadata": {
  "kernelspec": {
   "display_name": "Python 3 (ipykernel)",
   "language": "python",
   "name": "python3"
  },
  "language_info": {
   "codemirror_mode": {
    "name": "ipython",
    "version": 3
   },
   "file_extension": ".py",
   "mimetype": "text/x-python",
   "name": "python",
   "nbconvert_exporter": "python",
   "pygments_lexer": "ipython3",
   "version": "3.9.6"
  }
 },
 "nbformat": 4,
 "nbformat_minor": 5
}
